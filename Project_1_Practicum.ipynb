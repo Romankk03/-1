{
 "cells": [
  {
   "cell_type": "markdown",
   "metadata": {
    "id": "sIfNaMOxgFyK"
   },
   "source": [
    "## Исследование данных о российском кинопрокате\n",
    "\n"
   ]
  },
  {
   "cell_type": "markdown",
   "metadata": {},
   "source": [
    "### Описание проекта\n",
    "\n",
    "Вам нужно изучить рынок российского кинопроката и выявить текущие тренды. Уделите внимание фильмам, которые получили государственную поддержку. Попробуйте ответить на вопрос, насколько такие фильмы интересны зрителю. \n",
    "\n",
    "#### ПЛАН\n",
    "\n",
    "* Рассмотреть данные\n",
    "* Предобработка данных\n",
    "* Добавление новых столбцов\n",
    "* Исследовательский анализ\n",
    "* Исследование фильмов, получивших государственную поддержку\n",
    "* Написание общего вывода"
   ]
  },
  {
   "cell_type": "markdown",
   "metadata": {},
   "source": [
    "### Рассмотрим данные"
   ]
  },
  {
   "cell_type": "code",
   "execution_count": 511,
   "metadata": {
    "id": "dw87FlzMgFyM"
   },
   "outputs": [],
   "source": [
    "import pandas as pd\n",
    "import matplotlib.pyplot as plt\n",
    "import numpy as np"
   ]
  },
  {
   "cell_type": "code",
   "execution_count": 512,
   "metadata": {},
   "outputs": [
    {
     "name": "stdout",
     "output_type": "stream",
     "text": [
      "<class 'pandas.core.frame.DataFrame'>\n",
      "RangeIndex: 7486 entries, 0 to 7485\n",
      "Data columns (total 15 columns):\n",
      " #   Column                 Non-Null Count  Dtype  \n",
      "---  ------                 --------------  -----  \n",
      " 0   title                  7486 non-null   object \n",
      " 1   puNumber               7486 non-null   object \n",
      " 2   show_start_date        7486 non-null   object \n",
      " 3   type                   7486 non-null   object \n",
      " 4   film_studio            7468 non-null   object \n",
      " 5   production_country     7484 non-null   object \n",
      " 6   director               7477 non-null   object \n",
      " 7   producer               6918 non-null   object \n",
      " 8   age_restriction        7486 non-null   object \n",
      " 9   refundable_support     332 non-null    float64\n",
      " 10  nonrefundable_support  332 non-null    float64\n",
      " 11  budget                 332 non-null    float64\n",
      " 12  financing_source       332 non-null    object \n",
      " 13  ratings                6519 non-null   object \n",
      " 14  genres                 6510 non-null   object \n",
      "dtypes: float64(3), object(12)\n",
      "memory usage: 877.4+ KB\n"
     ]
    },
    {
     "data": {
      "text/html": [
       "<div>\n",
       "<style scoped>\n",
       "    .dataframe tbody tr th:only-of-type {\n",
       "        vertical-align: middle;\n",
       "    }\n",
       "\n",
       "    .dataframe tbody tr th {\n",
       "        vertical-align: top;\n",
       "    }\n",
       "\n",
       "    .dataframe thead th {\n",
       "        text-align: right;\n",
       "    }\n",
       "</style>\n",
       "<table border=\"1\" class=\"dataframe\">\n",
       "  <thead>\n",
       "    <tr style=\"text-align: right;\">\n",
       "      <th></th>\n",
       "      <th>title</th>\n",
       "      <th>puNumber</th>\n",
       "      <th>show_start_date</th>\n",
       "      <th>type</th>\n",
       "      <th>film_studio</th>\n",
       "      <th>production_country</th>\n",
       "      <th>director</th>\n",
       "      <th>producer</th>\n",
       "      <th>age_restriction</th>\n",
       "      <th>refundable_support</th>\n",
       "      <th>nonrefundable_support</th>\n",
       "      <th>budget</th>\n",
       "      <th>financing_source</th>\n",
       "      <th>ratings</th>\n",
       "      <th>genres</th>\n",
       "    </tr>\n",
       "  </thead>\n",
       "  <tbody>\n",
       "    <tr>\n",
       "      <th>0</th>\n",
       "      <td>Открытый простор</td>\n",
       "      <td>221048915</td>\n",
       "      <td>2015-11-27T12:00:00.000Z</td>\n",
       "      <td>Художественный</td>\n",
       "      <td>Тачстоун Пикчерз, Кобальт Пикчерз, Бикон Пикче...</td>\n",
       "      <td>США</td>\n",
       "      <td>Кевин Костнер</td>\n",
       "      <td>Дэвид Валдес, Кевин Костнер, Джейк Эбертс</td>\n",
       "      <td>«18+» - запрещено для детей</td>\n",
       "      <td>NaN</td>\n",
       "      <td>NaN</td>\n",
       "      <td>NaN</td>\n",
       "      <td>NaN</td>\n",
       "      <td>7.2</td>\n",
       "      <td>боевик,драма,мелодрама</td>\n",
       "    </tr>\n",
       "    <tr>\n",
       "      <th>1</th>\n",
       "      <td>Особо важное задание</td>\n",
       "      <td>111013716</td>\n",
       "      <td>2016-09-13T12:00:00.000Z</td>\n",
       "      <td>Художественный</td>\n",
       "      <td>Киностудия \"Мосфильм\"</td>\n",
       "      <td>СССР</td>\n",
       "      <td>Е.Матвеев</td>\n",
       "      <td>NaN</td>\n",
       "      <td>«6+» - для детей старше 6 лет</td>\n",
       "      <td>NaN</td>\n",
       "      <td>NaN</td>\n",
       "      <td>NaN</td>\n",
       "      <td>NaN</td>\n",
       "      <td>6.6</td>\n",
       "      <td>драма,военный</td>\n",
       "    </tr>\n",
       "    <tr>\n",
       "      <th>2</th>\n",
       "      <td>Особо опасен</td>\n",
       "      <td>221038416</td>\n",
       "      <td>2016-10-10T12:00:00.000Z</td>\n",
       "      <td>Художественный</td>\n",
       "      <td>Юниверсал Пикчерз, Кикстарт Продакшнз, Марк Пл...</td>\n",
       "      <td>США</td>\n",
       "      <td>Тимур Бекмамбетов</td>\n",
       "      <td>Джим Лемли, Джейсон Нетер, Марк Е.Платт, Яйн Смит</td>\n",
       "      <td>«18+» - запрещено для детей</td>\n",
       "      <td>NaN</td>\n",
       "      <td>NaN</td>\n",
       "      <td>NaN</td>\n",
       "      <td>NaN</td>\n",
       "      <td>6.8</td>\n",
       "      <td>фантастика,боевик,триллер</td>\n",
       "    </tr>\n",
       "    <tr>\n",
       "      <th>3</th>\n",
       "      <td>Особо опасен</td>\n",
       "      <td>221026916</td>\n",
       "      <td>2016-06-10T12:00:00.000Z</td>\n",
       "      <td>Художественный</td>\n",
       "      <td>Юниверсал Пикчерз, Кикстарт Продакшнз, Марк Пл...</td>\n",
       "      <td>США</td>\n",
       "      <td>Тимур Бекмамбетов</td>\n",
       "      <td>Джим Лемли, Джейсон Нетер, Марк Е.Платт, Яйн Смит</td>\n",
       "      <td>«18+» - запрещено для детей</td>\n",
       "      <td>NaN</td>\n",
       "      <td>NaN</td>\n",
       "      <td>NaN</td>\n",
       "      <td>NaN</td>\n",
       "      <td>6.8</td>\n",
       "      <td>фантастика,боевик,триллер</td>\n",
       "    </tr>\n",
       "    <tr>\n",
       "      <th>4</th>\n",
       "      <td>Особо опасен</td>\n",
       "      <td>221030815</td>\n",
       "      <td>2015-07-29T12:00:00.000Z</td>\n",
       "      <td>Художественный</td>\n",
       "      <td>Юниверсал Пикчерз, Кикстарт Продакшнз, Марк Пл...</td>\n",
       "      <td>США</td>\n",
       "      <td>Тимур Бекмамбетов</td>\n",
       "      <td>Джим Лемли, Джейсон Нетер, Марк Е.Платт, Яйн Смит</td>\n",
       "      <td>«18+» - запрещено для детей</td>\n",
       "      <td>NaN</td>\n",
       "      <td>NaN</td>\n",
       "      <td>NaN</td>\n",
       "      <td>NaN</td>\n",
       "      <td>6.8</td>\n",
       "      <td>фантастика,боевик,триллер</td>\n",
       "    </tr>\n",
       "  </tbody>\n",
       "</table>\n",
       "</div>"
      ],
      "text/plain": [
       "                  title   puNumber           show_start_date            type  \\\n",
       "0      Открытый простор  221048915  2015-11-27T12:00:00.000Z  Художественный   \n",
       "1  Особо важное задание  111013716  2016-09-13T12:00:00.000Z  Художественный   \n",
       "2          Особо опасен  221038416  2016-10-10T12:00:00.000Z  Художественный   \n",
       "3          Особо опасен  221026916  2016-06-10T12:00:00.000Z  Художественный   \n",
       "4          Особо опасен  221030815  2015-07-29T12:00:00.000Z  Художественный   \n",
       "\n",
       "                                         film_studio production_country  \\\n",
       "0  Тачстоун Пикчерз, Кобальт Пикчерз, Бикон Пикче...                США   \n",
       "1                              Киностудия \"Мосфильм\"               СССР   \n",
       "2  Юниверсал Пикчерз, Кикстарт Продакшнз, Марк Пл...                США   \n",
       "3  Юниверсал Пикчерз, Кикстарт Продакшнз, Марк Пл...                США   \n",
       "4  Юниверсал Пикчерз, Кикстарт Продакшнз, Марк Пл...                США   \n",
       "\n",
       "            director                                           producer  \\\n",
       "0      Кевин Костнер          Дэвид Валдес, Кевин Костнер, Джейк Эбертс   \n",
       "1          Е.Матвеев                                                NaN   \n",
       "2  Тимур Бекмамбетов  Джим Лемли, Джейсон Нетер, Марк Е.Платт, Яйн Смит   \n",
       "3  Тимур Бекмамбетов  Джим Лемли, Джейсон Нетер, Марк Е.Платт, Яйн Смит   \n",
       "4  Тимур Бекмамбетов  Джим Лемли, Джейсон Нетер, Марк Е.Платт, Яйн Смит   \n",
       "\n",
       "                 age_restriction  refundable_support  nonrefundable_support  \\\n",
       "0    «18+» - запрещено для детей                 NaN                    NaN   \n",
       "1  «6+» - для детей старше 6 лет                 NaN                    NaN   \n",
       "2    «18+» - запрещено для детей                 NaN                    NaN   \n",
       "3    «18+» - запрещено для детей                 NaN                    NaN   \n",
       "4    «18+» - запрещено для детей                 NaN                    NaN   \n",
       "\n",
       "   budget financing_source ratings                     genres  \n",
       "0     NaN              NaN     7.2     боевик,драма,мелодрама  \n",
       "1     NaN              NaN     6.6              драма,военный  \n",
       "2     NaN              NaN     6.8  фантастика,боевик,триллер  \n",
       "3     NaN              NaN     6.8  фантастика,боевик,триллер  \n",
       "4     NaN              NaN     6.8  фантастика,боевик,триллер  "
      ]
     },
     "execution_count": 512,
     "metadata": {},
     "output_type": "execute_result"
    }
   ],
   "source": [
    "data=pd.read_csv('./mkrf_movies.csv')\n",
    "data.info()\n",
    "data.head()"
   ]
  },
  {
   "cell_type": "code",
   "execution_count": 513,
   "metadata": {
    "scrolled": false
   },
   "outputs": [
    {
     "name": "stdout",
     "output_type": "stream",
     "text": [
      "<class 'pandas.core.frame.DataFrame'>\n",
      "RangeIndex: 3158 entries, 0 to 3157\n",
      "Data columns (total 2 columns):\n",
      " #   Column      Non-Null Count  Dtype  \n",
      "---  ------      --------------  -----  \n",
      " 0   puNumber    3158 non-null   int64  \n",
      " 1   box_office  3158 non-null   float64\n",
      "dtypes: float64(1), int64(1)\n",
      "memory usage: 49.5 KB\n"
     ]
    }
   ],
   "source": [
    "data1=pd.read_csv('./mkrf_shows.csv')\n",
    "data1.info()"
   ]
  },
  {
   "cell_type": "code",
   "execution_count": 514,
   "metadata": {
    "scrolled": true
   },
   "outputs": [
    {
     "data": {
      "text/plain": [
       "title                     object\n",
       "puNumber                   int64\n",
       "show_start_date           object\n",
       "type                      object\n",
       "film_studio               object\n",
       "production_country        object\n",
       "director                  object\n",
       "producer                  object\n",
       "age_restriction           object\n",
       "refundable_support       float64\n",
       "nonrefundable_support    float64\n",
       "budget                   float64\n",
       "financing_source          object\n",
       "ratings                   object\n",
       "genres                    object\n",
       "dtype: object"
      ]
     },
     "execution_count": 514,
     "metadata": {},
     "output_type": "execute_result"
    }
   ],
   "source": [
    "#data[~data['puNumber'].str.isdigit()]['title'].count()\n",
    "data=data[data['puNumber'].str.isdigit()]\n",
    "data['puNumber']=data['puNumber'].astype(int)\n",
    "data.dtypes\n",
    "#data1['puNumber']=data1['puNumber'].astype(int)"
   ]
  },
  {
   "cell_type": "code",
   "execution_count": 515,
   "metadata": {},
   "outputs": [
    {
     "data": {
      "text/plain": [
       "puNumber        int64\n",
       "box_office    float64\n",
       "dtype: object"
      ]
     },
     "execution_count": 515,
     "metadata": {},
     "output_type": "execute_result"
    }
   ],
   "source": [
    "data1['puNumber']=data1['puNumber'].astype(int)\n",
    "data1.dtypes"
   ]
  },
  {
   "cell_type": "code",
   "execution_count": 516,
   "metadata": {},
   "outputs": [
    {
     "data": {
      "text/html": [
       "<div>\n",
       "<style scoped>\n",
       "    .dataframe tbody tr th:only-of-type {\n",
       "        vertical-align: middle;\n",
       "    }\n",
       "\n",
       "    .dataframe tbody tr th {\n",
       "        vertical-align: top;\n",
       "    }\n",
       "\n",
       "    .dataframe thead th {\n",
       "        text-align: right;\n",
       "    }\n",
       "</style>\n",
       "<table border=\"1\" class=\"dataframe\">\n",
       "  <thead>\n",
       "    <tr style=\"text-align: right;\">\n",
       "      <th></th>\n",
       "      <th>title</th>\n",
       "      <th>puNumber</th>\n",
       "      <th>show_start_date</th>\n",
       "      <th>type</th>\n",
       "      <th>film_studio</th>\n",
       "      <th>production_country</th>\n",
       "      <th>director</th>\n",
       "      <th>producer</th>\n",
       "      <th>age_restriction</th>\n",
       "      <th>refundable_support</th>\n",
       "      <th>nonrefundable_support</th>\n",
       "      <th>budget</th>\n",
       "      <th>financing_source</th>\n",
       "      <th>ratings</th>\n",
       "      <th>genres</th>\n",
       "      <th>box_office</th>\n",
       "    </tr>\n",
       "  </thead>\n",
       "  <tbody>\n",
       "    <tr>\n",
       "      <th>0</th>\n",
       "      <td>Открытый простор</td>\n",
       "      <td>221048915</td>\n",
       "      <td>2015-11-27T12:00:00.000Z</td>\n",
       "      <td>Художественный</td>\n",
       "      <td>Тачстоун Пикчерз, Кобальт Пикчерз, Бикон Пикче...</td>\n",
       "      <td>США</td>\n",
       "      <td>Кевин Костнер</td>\n",
       "      <td>Дэвид Валдес, Кевин Костнер, Джейк Эбертс</td>\n",
       "      <td>«18+» - запрещено для детей</td>\n",
       "      <td>NaN</td>\n",
       "      <td>NaN</td>\n",
       "      <td>NaN</td>\n",
       "      <td>NaN</td>\n",
       "      <td>7.2</td>\n",
       "      <td>боевик,драма,мелодрама</td>\n",
       "      <td>NaN</td>\n",
       "    </tr>\n",
       "    <tr>\n",
       "      <th>1</th>\n",
       "      <td>Особо важное задание</td>\n",
       "      <td>111013716</td>\n",
       "      <td>2016-09-13T12:00:00.000Z</td>\n",
       "      <td>Художественный</td>\n",
       "      <td>Киностудия \"Мосфильм\"</td>\n",
       "      <td>СССР</td>\n",
       "      <td>Е.Матвеев</td>\n",
       "      <td>NaN</td>\n",
       "      <td>«6+» - для детей старше 6 лет</td>\n",
       "      <td>NaN</td>\n",
       "      <td>NaN</td>\n",
       "      <td>NaN</td>\n",
       "      <td>NaN</td>\n",
       "      <td>6.6</td>\n",
       "      <td>драма,военный</td>\n",
       "      <td>NaN</td>\n",
       "    </tr>\n",
       "    <tr>\n",
       "      <th>2</th>\n",
       "      <td>Особо опасен</td>\n",
       "      <td>221038416</td>\n",
       "      <td>2016-10-10T12:00:00.000Z</td>\n",
       "      <td>Художественный</td>\n",
       "      <td>Юниверсал Пикчерз, Кикстарт Продакшнз, Марк Пл...</td>\n",
       "      <td>США</td>\n",
       "      <td>Тимур Бекмамбетов</td>\n",
       "      <td>Джим Лемли, Джейсон Нетер, Марк Е.Платт, Яйн Смит</td>\n",
       "      <td>«18+» - запрещено для детей</td>\n",
       "      <td>NaN</td>\n",
       "      <td>NaN</td>\n",
       "      <td>NaN</td>\n",
       "      <td>NaN</td>\n",
       "      <td>6.8</td>\n",
       "      <td>фантастика,боевик,триллер</td>\n",
       "      <td>NaN</td>\n",
       "    </tr>\n",
       "    <tr>\n",
       "      <th>3</th>\n",
       "      <td>Особо опасен</td>\n",
       "      <td>221026916</td>\n",
       "      <td>2016-06-10T12:00:00.000Z</td>\n",
       "      <td>Художественный</td>\n",
       "      <td>Юниверсал Пикчерз, Кикстарт Продакшнз, Марк Пл...</td>\n",
       "      <td>США</td>\n",
       "      <td>Тимур Бекмамбетов</td>\n",
       "      <td>Джим Лемли, Джейсон Нетер, Марк Е.Платт, Яйн Смит</td>\n",
       "      <td>«18+» - запрещено для детей</td>\n",
       "      <td>NaN</td>\n",
       "      <td>NaN</td>\n",
       "      <td>NaN</td>\n",
       "      <td>NaN</td>\n",
       "      <td>6.8</td>\n",
       "      <td>фантастика,боевик,триллер</td>\n",
       "      <td>NaN</td>\n",
       "    </tr>\n",
       "    <tr>\n",
       "      <th>4</th>\n",
       "      <td>Особо опасен</td>\n",
       "      <td>221030815</td>\n",
       "      <td>2015-07-29T12:00:00.000Z</td>\n",
       "      <td>Художественный</td>\n",
       "      <td>Юниверсал Пикчерз, Кикстарт Продакшнз, Марк Пл...</td>\n",
       "      <td>США</td>\n",
       "      <td>Тимур Бекмамбетов</td>\n",
       "      <td>Джим Лемли, Джейсон Нетер, Марк Е.Платт, Яйн Смит</td>\n",
       "      <td>«18+» - запрещено для детей</td>\n",
       "      <td>NaN</td>\n",
       "      <td>NaN</td>\n",
       "      <td>NaN</td>\n",
       "      <td>NaN</td>\n",
       "      <td>6.8</td>\n",
       "      <td>фантастика,боевик,триллер</td>\n",
       "      <td>NaN</td>\n",
       "    </tr>\n",
       "  </tbody>\n",
       "</table>\n",
       "</div>"
      ],
      "text/plain": [
       "                  title   puNumber           show_start_date            type  \\\n",
       "0      Открытый простор  221048915  2015-11-27T12:00:00.000Z  Художественный   \n",
       "1  Особо важное задание  111013716  2016-09-13T12:00:00.000Z  Художественный   \n",
       "2          Особо опасен  221038416  2016-10-10T12:00:00.000Z  Художественный   \n",
       "3          Особо опасен  221026916  2016-06-10T12:00:00.000Z  Художественный   \n",
       "4          Особо опасен  221030815  2015-07-29T12:00:00.000Z  Художественный   \n",
       "\n",
       "                                         film_studio production_country  \\\n",
       "0  Тачстоун Пикчерз, Кобальт Пикчерз, Бикон Пикче...                США   \n",
       "1                              Киностудия \"Мосфильм\"               СССР   \n",
       "2  Юниверсал Пикчерз, Кикстарт Продакшнз, Марк Пл...                США   \n",
       "3  Юниверсал Пикчерз, Кикстарт Продакшнз, Марк Пл...                США   \n",
       "4  Юниверсал Пикчерз, Кикстарт Продакшнз, Марк Пл...                США   \n",
       "\n",
       "            director                                           producer  \\\n",
       "0      Кевин Костнер          Дэвид Валдес, Кевин Костнер, Джейк Эбертс   \n",
       "1          Е.Матвеев                                                NaN   \n",
       "2  Тимур Бекмамбетов  Джим Лемли, Джейсон Нетер, Марк Е.Платт, Яйн Смит   \n",
       "3  Тимур Бекмамбетов  Джим Лемли, Джейсон Нетер, Марк Е.Платт, Яйн Смит   \n",
       "4  Тимур Бекмамбетов  Джим Лемли, Джейсон Нетер, Марк Е.Платт, Яйн Смит   \n",
       "\n",
       "                 age_restriction  refundable_support  nonrefundable_support  \\\n",
       "0    «18+» - запрещено для детей                 NaN                    NaN   \n",
       "1  «6+» - для детей старше 6 лет                 NaN                    NaN   \n",
       "2    «18+» - запрещено для детей                 NaN                    NaN   \n",
       "3    «18+» - запрещено для детей                 NaN                    NaN   \n",
       "4    «18+» - запрещено для детей                 NaN                    NaN   \n",
       "\n",
       "   budget financing_source ratings                     genres  box_office  \n",
       "0     NaN              NaN     7.2     боевик,драма,мелодрама         NaN  \n",
       "1     NaN              NaN     6.6              драма,военный         NaN  \n",
       "2     NaN              NaN     6.8  фантастика,боевик,триллер         NaN  \n",
       "3     NaN              NaN     6.8  фантастика,боевик,триллер         NaN  \n",
       "4     NaN              NaN     6.8  фантастика,боевик,триллер         NaN  "
      ]
     },
     "execution_count": 516,
     "metadata": {},
     "output_type": "execute_result"
    },
    {
     "data": {
      "image/png": "[encoded data removed]",
      "text/plain": [
       "<Figure size 1500x2000 with 6 Axes>"
      ]
     },
     "metadata": {},
     "output_type": "display_data"
    }
   ],
   "source": [
    "data=data.merge(data1, on='puNumber', how='left')\n",
    "data.hist(figsize=(15, 20));\n",
    "data.head()"
   ]
  },
  {
   "cell_type": "code",
   "execution_count": 517,
   "metadata": {},
   "outputs": [
    {
     "name": "stdout",
     "output_type": "stream",
     "text": [
      "<class 'pandas.core.frame.DataFrame'>\n",
      "Int64Index: 7484 entries, 0 to 7483\n",
      "Data columns (total 16 columns):\n",
      " #   Column                 Non-Null Count  Dtype  \n",
      "---  ------                 --------------  -----  \n",
      " 0   title                  7484 non-null   object \n",
      " 1   puNumber               7484 non-null   int64  \n",
      " 2   show_start_date        7484 non-null   object \n",
      " 3   type                   7484 non-null   object \n",
      " 4   film_studio            7466 non-null   object \n",
      " 5   production_country     7482 non-null   object \n",
      " 6   director               7475 non-null   object \n",
      " 7   producer               6917 non-null   object \n",
      " 8   age_restriction        7484 non-null   object \n",
      " 9   refundable_support     332 non-null    float64\n",
      " 10  nonrefundable_support  332 non-null    float64\n",
      " 11  budget                 332 non-null    float64\n",
      " 12  financing_source       332 non-null    object \n",
      " 13  ratings                6519 non-null   object \n",
      " 14  genres                 6510 non-null   object \n",
      " 15  box_office             3158 non-null   float64\n",
      "dtypes: float64(4), int64(1), object(11)\n",
      "memory usage: 994.0+ KB\n"
     ]
    }
   ],
   "source": [
    "data.info()"
   ]
  },
  {
   "cell_type": "markdown",
   "metadata": {},
   "source": [
    "<div style=\"background: #B0E0E6; padding: 5px; border: 1px solid SteelBlue; border-radius: 5px;\">\n",
    "В первом файле встретились две строки со символами в puNumber, так как строчек всего 2, то их срез никак не повлияет на дальнейший анализ. Преобразовал в тип int и соединил две таблицы."
   ]
  },
  {
   "cell_type": "markdown",
   "metadata": {
    "id": "KLDGpPG0gFyM"
   },
   "source": [
    "### Предобработка данных"
   ]
  },
  {
   "cell_type": "markdown",
   "metadata": {
    "id": "ssWwKXsxgFyO"
   },
   "source": [
    "#### Провека типов данных"
   ]
  },
  {
   "cell_type": "code",
   "execution_count": 518,
   "metadata": {
    "id": "kVGSplJOgFyO",
    "scrolled": true
   },
   "outputs": [
    {
     "data": {
      "text/plain": [
       "title                     object\n",
       "puNumber                   int64\n",
       "show_start_date           object\n",
       "type                      object\n",
       "film_studio               object\n",
       "production_country        object\n",
       "director                  object\n",
       "producer                  object\n",
       "age_restriction           object\n",
       "refundable_support       float64\n",
       "nonrefundable_support    float64\n",
       "budget                   float64\n",
       "financing_source          object\n",
       "ratings                   object\n",
       "genres                    object\n",
       "box_office               float64\n",
       "dtype: object"
      ]
     },
     "execution_count": 518,
     "metadata": {},
     "output_type": "execute_result"
    }
   ],
   "source": [
    "data.dtypes"
   ]
  },
  {
   "cell_type": "code",
   "execution_count": 519,
   "metadata": {},
   "outputs": [],
   "source": [
    "data['show_start_date']=pd.to_datetime(\n",
    "    data['show_start_date'], format='%Y-%m-%dT%H:%M:%S'\n",
    ")"
   ]
  },
  {
   "cell_type": "markdown",
   "metadata": {},
   "source": [
    "<div style=\"background: #B0E0E6; padding: 5px; border: 1px solid SteelBlue; border-radius: 5px;\">\n",
    "Изменил тип только в столбце 'show_start_date'. "
   ]
  },
  {
   "cell_type": "markdown",
   "metadata": {
    "id": "i0MOLbF-gFyP"
   },
   "source": [
    "#### Пропуски"
   ]
  },
  {
   "cell_type": "code",
   "execution_count": 520,
   "metadata": {
    "id": "8MJD_lkngFyP",
    "scrolled": false
   },
   "outputs": [
    {
     "data": {
      "text/plain": [
       "title                       0\n",
       "puNumber                    0\n",
       "show_start_date             0\n",
       "type                        0\n",
       "film_studio                18\n",
       "production_country          2\n",
       "director                    9\n",
       "producer                  567\n",
       "age_restriction             0\n",
       "refundable_support       7152\n",
       "nonrefundable_support    7152\n",
       "budget                   7152\n",
       "financing_source         7152\n",
       "ratings                   965\n",
       "genres                    974\n",
       "box_office               4326\n",
       "dtype: int64"
      ]
     },
     "execution_count": 520,
     "metadata": {},
     "output_type": "execute_result"
    }
   ],
   "source": [
    "data.isna().sum()"
   ]
  },
  {
   "cell_type": "code",
   "execution_count": 521,
   "metadata": {
    "scrolled": true
   },
   "outputs": [
    {
     "data": {
      "text/plain": [
       "array(['7.2', '6.6', '6.8', '7.7', '8.3', '8.0', '7.8', '8.1', '7.1',\n",
       "       '6.0', '7.4', '5.8', '8.7', '6.3', '6.9', '5.0', '4.3', '7.3',\n",
       "       '7.0', '6.4', 'nan', '8.2', '7.5', '6.7', '7.9', '5.9', '6.2',\n",
       "       '5.6', '6.5', '2.4', '7.6', '6.1', '8.6', '8.5', '8.8', '5.5',\n",
       "       '5.1', '5.7', '5.4', '99%', '4.4', '4.5', '5.3', '4.1', '8.4',\n",
       "       '2.6', '3.8', '4.6', '4.8', '4.0', '3.0', '1.6', '4.2', '5.2',\n",
       "       '4.7', '4.9', '3.9', '2.7', '3.3', '2.9', '28%', '3.7', '1.4',\n",
       "       '3.1', '97%', '3.5', '3.2', '2.8', '1.5', '2.1', '2.5', '9.2',\n",
       "       '3.4', '1.1', '3.6', '83%', '64%', '91%', '94%', '62%', '79%',\n",
       "       '90%', '19%', '88%', '1.0', '89%', '1.3', '1.9', '1.8', '1.2',\n",
       "       '1.7', '9.0', '98%', '8.9', '9.1'], dtype=object)"
      ]
     },
     "execution_count": 521,
     "metadata": {},
     "output_type": "execute_result"
    }
   ],
   "source": [
    "data['ratings']=data['ratings'].fillna('nan')\n",
    "data['ratings'].unique()"
   ]
  },
  {
   "cell_type": "code",
   "execution_count": 522,
   "metadata": {},
   "outputs": [],
   "source": [
    "def rating_percent(c):\n",
    "    if '%'in c:\n",
    "        c=str(c)\n",
    "        c=c[:len(c)-1]\n",
    "        a = float(c)/10\n",
    "        return str(a)\n",
    "    return c"
   ]
  },
  {
   "cell_type": "code",
   "execution_count": 523,
   "metadata": {
    "scrolled": true
   },
   "outputs": [
    {
     "data": {
      "text/plain": [
       "array(['7.2', '6.6', '6.8', '7.7', '8.3', '8.0', '7.8', '8.1', '7.1',\n",
       "       '6.0', '7.4', '5.8', '8.7', '6.3', '6.9', '5.0', '4.3', '7.3',\n",
       "       '7.0', '6.4', 'nan', '8.2', '7.5', '6.7', '7.9', '5.9', '6.2',\n",
       "       '5.6', '6.5', '2.4', '7.6', '6.1', '8.6', '8.5', '8.8', '5.5',\n",
       "       '5.1', '5.7', '5.4', '9.9', '4.4', '4.5', '5.3', '4.1', '8.4',\n",
       "       '2.6', '3.8', '4.6', '4.8', '4.0', '3.0', '1.6', '4.2', '5.2',\n",
       "       '4.7', '4.9', '3.9', '2.7', '3.3', '2.9', '2.8', '3.7', '1.4',\n",
       "       '3.1', '9.7', '3.5', '3.2', '1.5', '2.1', '2.5', '9.2', '3.4',\n",
       "       '1.1', '3.6', '9.1', '9.4', '9.0', '1.9', '1.0', '8.9', '1.3',\n",
       "       '1.8', '1.2', '1.7', '9.8'], dtype=object)"
      ]
     },
     "execution_count": 523,
     "metadata": {},
     "output_type": "execute_result"
    }
   ],
   "source": [
    "data['ratings']=data['ratings'].apply(rating_percent)\n",
    "data['ratings'].unique()"
   ]
  },
  {
   "cell_type": "code",
   "execution_count": 524,
   "metadata": {},
   "outputs": [],
   "source": [
    "data.loc[data['ratings']=='nan', 'ratings']=data['ratings'].median()\n",
    "data['ratings'] = data['ratings'].astype('float')"
   ]
  },
  {
   "cell_type": "markdown",
   "metadata": {},
   "source": [
    "<div style=\"background: #B0E0E6; padding: 5px; border: 1px solid SteelBlue; border-radius: 5px;\">\n",
    "В \"ratings\" заметил, что есть значения, записанные в процентах. Заменил их на соответсвующие десятибальной шкале значениями и поменял тип на float. Все остальные по логике правильные. Заменил пропуски на медианные значения."
   ]
  },
  {
   "cell_type": "code",
   "execution_count": 525,
   "metadata": {},
   "outputs": [
    {
     "data": {
      "text/html": [
       "<div>\n",
       "<style scoped>\n",
       "    .dataframe tbody tr th:only-of-type {\n",
       "        vertical-align: middle;\n",
       "    }\n",
       "\n",
       "    .dataframe tbody tr th {\n",
       "        vertical-align: top;\n",
       "    }\n",
       "\n",
       "    .dataframe thead th {\n",
       "        text-align: right;\n",
       "    }\n",
       "</style>\n",
       "<table border=\"1\" class=\"dataframe\">\n",
       "  <thead>\n",
       "    <tr style=\"text-align: right;\">\n",
       "      <th></th>\n",
       "      <th>title</th>\n",
       "      <th>puNumber</th>\n",
       "      <th>show_start_date</th>\n",
       "      <th>type</th>\n",
       "      <th>film_studio</th>\n",
       "      <th>production_country</th>\n",
       "      <th>director</th>\n",
       "      <th>producer</th>\n",
       "      <th>age_restriction</th>\n",
       "      <th>refundable_support</th>\n",
       "      <th>nonrefundable_support</th>\n",
       "      <th>budget</th>\n",
       "      <th>financing_source</th>\n",
       "      <th>ratings</th>\n",
       "      <th>genres</th>\n",
       "      <th>box_office</th>\n",
       "    </tr>\n",
       "  </thead>\n",
       "  <tbody>\n",
       "    <tr>\n",
       "      <th>1280</th>\n",
       "      <td>Пока еще жива</td>\n",
       "      <td>111005313</td>\n",
       "      <td>2013-10-11 12:00:00+00:00</td>\n",
       "      <td>Художественный</td>\n",
       "      <td>АНО содействия развитию кинематографии \"Ангел-...</td>\n",
       "      <td>Россия</td>\n",
       "      <td>А.Атанесян</td>\n",
       "      <td>А.Атанесян, М.Бабаханов, Р.Бутко</td>\n",
       "      <td>«16+» - для детей старше 16 лет</td>\n",
       "      <td>0.0</td>\n",
       "      <td>26500000.0</td>\n",
       "      <td>79411900.0</td>\n",
       "      <td>Министерство культуры</td>\n",
       "      <td>8.1</td>\n",
       "      <td>драма,мелодрама</td>\n",
       "      <td>365353.6</td>\n",
       "    </tr>\n",
       "    <tr>\n",
       "      <th>1447</th>\n",
       "      <td>Бесславные придурки</td>\n",
       "      <td>111003314</td>\n",
       "      <td>2014-03-28 12:00:00+00:00</td>\n",
       "      <td>Художественный</td>\n",
       "      <td>ООО \"Компания \"АТК-Студио\"</td>\n",
       "      <td>Россия</td>\n",
       "      <td>А.Якимчук</td>\n",
       "      <td>А.Тютрюмов</td>\n",
       "      <td>«12+» - для детей старше 12 лет</td>\n",
       "      <td>0.0</td>\n",
       "      <td>26000000.0</td>\n",
       "      <td>37142857.0</td>\n",
       "      <td>Министерство культуры</td>\n",
       "      <td>6.6</td>\n",
       "      <td>NaN</td>\n",
       "      <td>28140.0</td>\n",
       "    </tr>\n",
       "    <tr>\n",
       "      <th>1497</th>\n",
       "      <td>Невидимки</td>\n",
       "      <td>111004213</td>\n",
       "      <td>2013-09-10 12:00:00+00:00</td>\n",
       "      <td>Художественный</td>\n",
       "      <td>ООО \"Компания \"РЕАЛ-ДАКОТА\"</td>\n",
       "      <td>Россия</td>\n",
       "      <td>Р.Давлетьяров, С.Комаров</td>\n",
       "      <td>Р.Давлетьяров, А.Котелевский, А.Олейников</td>\n",
       "      <td>«12+» - для детей старше 12 лет</td>\n",
       "      <td>0.0</td>\n",
       "      <td>107847945.0</td>\n",
       "      <td>176023490.0</td>\n",
       "      <td>Фонд кино</td>\n",
       "      <td>5.3</td>\n",
       "      <td>комедия,фантастика</td>\n",
       "      <td>19957031.5</td>\n",
       "    </tr>\n",
       "    <tr>\n",
       "      <th>1523</th>\n",
       "      <td>БЕРЦЫ</td>\n",
       "      <td>111004314</td>\n",
       "      <td>2014-05-05 12:00:00+00:00</td>\n",
       "      <td>Художественный</td>\n",
       "      <td>ООО \"Студия \"Пассажир\"</td>\n",
       "      <td>Россия</td>\n",
       "      <td>Е.Миндадзе (псевдоним Катя Шагалова)</td>\n",
       "      <td>Л.Антонова</td>\n",
       "      <td>«16+» - для детей старше 16 лет</td>\n",
       "      <td>0.0</td>\n",
       "      <td>28000000.0</td>\n",
       "      <td>40574140.0</td>\n",
       "      <td>Министерство культуры</td>\n",
       "      <td>4.2</td>\n",
       "      <td>драма</td>\n",
       "      <td>55917.5</td>\n",
       "    </tr>\n",
       "    <tr>\n",
       "      <th>1791</th>\n",
       "      <td>Братья Ч</td>\n",
       "      <td>111004414</td>\n",
       "      <td>2014-04-23 12:00:00+00:00</td>\n",
       "      <td>Художественный</td>\n",
       "      <td>ООО \"Студия \"Пассажир\"</td>\n",
       "      <td>Россия</td>\n",
       "      <td>М.Угаров</td>\n",
       "      <td>А.Миндадзе, Л.Антонова</td>\n",
       "      <td>«16+» - для детей старше 16 лет</td>\n",
       "      <td>0.0</td>\n",
       "      <td>25000000.0</td>\n",
       "      <td>40015122.0</td>\n",
       "      <td>Министерство культуры</td>\n",
       "      <td>6.4</td>\n",
       "      <td>драма</td>\n",
       "      <td>232100.0</td>\n",
       "    </tr>\n",
       "  </tbody>\n",
       "</table>\n",
       "</div>"
      ],
      "text/plain": [
       "                    title   puNumber           show_start_date  \\\n",
       "1280        Пока еще жива  111005313 2013-10-11 12:00:00+00:00   \n",
       "1447  Бесславные придурки  111003314 2014-03-28 12:00:00+00:00   \n",
       "1497            Невидимки  111004213 2013-09-10 12:00:00+00:00   \n",
       "1523                БЕРЦЫ  111004314 2014-05-05 12:00:00+00:00   \n",
       "1791             Братья Ч  111004414 2014-04-23 12:00:00+00:00   \n",
       "\n",
       "                type                                        film_studio  \\\n",
       "1280  Художественный  АНО содействия развитию кинематографии \"Ангел-...   \n",
       "1447  Художественный                         ООО \"Компания \"АТК-Студио\"   \n",
       "1497  Художественный                        ООО \"Компания \"РЕАЛ-ДАКОТА\"   \n",
       "1523  Художественный                             ООО \"Студия \"Пассажир\"   \n",
       "1791  Художественный                             ООО \"Студия \"Пассажир\"   \n",
       "\n",
       "     production_country                              director  \\\n",
       "1280             Россия                            А.Атанесян   \n",
       "1447             Россия                             А.Якимчук   \n",
       "1497             Россия              Р.Давлетьяров, С.Комаров   \n",
       "1523             Россия  Е.Миндадзе (псевдоним Катя Шагалова)   \n",
       "1791             Россия                              М.Угаров   \n",
       "\n",
       "                                       producer  \\\n",
       "1280           А.Атанесян, М.Бабаханов, Р.Бутко   \n",
       "1447                                 А.Тютрюмов   \n",
       "1497  Р.Давлетьяров, А.Котелевский, А.Олейников   \n",
       "1523                                 Л.Антонова   \n",
       "1791                     А.Миндадзе, Л.Антонова   \n",
       "\n",
       "                      age_restriction  refundable_support  \\\n",
       "1280  «16+» - для детей старше 16 лет                 0.0   \n",
       "1447  «12+» - для детей старше 12 лет                 0.0   \n",
       "1497  «12+» - для детей старше 12 лет                 0.0   \n",
       "1523  «16+» - для детей старше 16 лет                 0.0   \n",
       "1791  «16+» - для детей старше 16 лет                 0.0   \n",
       "\n",
       "      nonrefundable_support       budget       financing_source  ratings  \\\n",
       "1280             26500000.0   79411900.0  Министерство культуры      8.1   \n",
       "1447             26000000.0   37142857.0  Министерство культуры      6.6   \n",
       "1497            107847945.0  176023490.0              Фонд кино      5.3   \n",
       "1523             28000000.0   40574140.0  Министерство культуры      4.2   \n",
       "1791             25000000.0   40015122.0  Министерство культуры      6.4   \n",
       "\n",
       "                  genres  box_office  \n",
       "1280     драма,мелодрама    365353.6  \n",
       "1447                 NaN     28140.0  \n",
       "1497  комедия,фантастика  19957031.5  \n",
       "1523               драма     55917.5  \n",
       "1791               драма    232100.0  "
      ]
     },
     "execution_count": 525,
     "metadata": {},
     "output_type": "execute_result"
    }
   ],
   "source": [
    "data2=data[~data['nonrefundable_support'].isna()]\n",
    "data2[data2['nonrefundable_support']!=0].head()"
   ]
  },
  {
   "cell_type": "code",
   "execution_count": 526,
   "metadata": {},
   "outputs": [
    {
     "data": {
      "text/plain": [
       "title    7152\n",
       "dtype: int64"
      ]
     },
     "execution_count": 526,
     "metadata": {},
     "output_type": "execute_result"
    }
   ],
   "source": [
    "data.\\\n",
    "loc[(data['refundable_support'].isna())&\n",
    "    (data['nonrefundable_support'].isna())&\n",
    "    (data['budget'].isna()), ['title']].count()"
   ]
  },
  {
   "cell_type": "code",
   "execution_count": 527,
   "metadata": {},
   "outputs": [],
   "source": [
    "data['film_studio']=data['film_studio'].fillna('-')\n",
    "data['production_country']=data['production_country'].fillna('-')\n",
    "data['director']=data['director'].fillna('-')\n",
    "data['producer']=data['producer'].fillna('-')\n",
    "data['financing_source']=data['financing_source'].fillna('нет')\n",
    "data['genres']=data['genres'].fillna('-')"
   ]
  },
  {
   "cell_type": "code",
   "execution_count": 528,
   "metadata": {},
   "outputs": [
    {
     "data": {
      "text/plain": [
       "title                       0\n",
       "puNumber                    0\n",
       "show_start_date             0\n",
       "type                        0\n",
       "film_studio                 0\n",
       "production_country          0\n",
       "director                    0\n",
       "producer                    0\n",
       "age_restriction             0\n",
       "refundable_support       7152\n",
       "nonrefundable_support    7152\n",
       "budget                   7152\n",
       "financing_source            0\n",
       "ratings                     0\n",
       "genres                      0\n",
       "box_office               4326\n",
       "dtype: int64"
      ]
     },
     "execution_count": 528,
     "metadata": {},
     "output_type": "execute_result"
    }
   ],
   "source": [
    "data.isna().sum()"
   ]
  },
  {
   "cell_type": "markdown",
   "metadata": {},
   "source": [
    "<div style=\"background: #B0E0E6; padding: 5px; border: 1px solid SteelBlue; border-radius: 5px;\">\n",
    "Я заменил пропуски в столбцах 'film_studio','production_country','director'(хотя можно было срезать, там давольно мало пропусков). В 'producer' много пропусков, но ничем кроме \"-\" в данной ситуации нельзя заменить. Рассмотрел \"refundable_support\", \"nonrefundable_support\", \"budget\" и сделал вывод, что если не заполнен \"budget\", то есть фильмы без господдержки по условию, то не заполнены и остальные два столбца.\n",
    "\"genres\" не связан с другими характеристиками, поэтому ничем кроме \"-\" не заполнить. box_office пока оставлю незаполненным, посмотрим дальше, нужно ли заполнять медианным и зависит ли этот параметр от других."
   ]
  },
  {
   "cell_type": "markdown",
   "metadata": {
    "id": "4c6k1t9ygFyQ"
   },
   "source": [
    "#### Дубликаты"
   ]
  },
  {
   "cell_type": "code",
   "execution_count": 529,
   "metadata": {
    "id": "aKck8RIdgFyQ"
   },
   "outputs": [
    {
     "data": {
      "text/plain": [
       "0"
      ]
     },
     "execution_count": 529,
     "metadata": {},
     "output_type": "execute_result"
    }
   ],
   "source": [
    "data.duplicated().sum()"
   ]
  },
  {
   "cell_type": "markdown",
   "metadata": {},
   "source": [
    "<div style=\"background: #B0E0E6; padding: 5px; border: 1px solid SteelBlue; border-radius: 5px;\">\n",
    "Явных дубликатов нет"
   ]
  },
  {
   "cell_type": "code",
   "execution_count": 530,
   "metadata": {},
   "outputs": [
    {
     "name": "stdout",
     "output_type": "stream",
     "text": [
      "1 1\n"
     ]
    }
   ],
   "source": [
    "country = data['production_country'].unique()\n",
    "k=0\n",
    "m=0\n",
    "for a in country:\n",
    "    if a=='Франция - США':\n",
    "        k=1\n",
    "    if a=='США - Франция':\n",
    "        m=1\n",
    "print(k, m)"
   ]
  },
  {
   "cell_type": "code",
   "execution_count": 531,
   "metadata": {
    "scrolled": true
   },
   "outputs": [
    {
     "name": "stdout",
     "output_type": "stream",
     "text": [
      "Yes\n",
      "Yes\n"
     ]
    }
   ],
   "source": [
    "genres = data['genres'].unique()\n",
    "for a in genres:\n",
    "    if a=='комедия,драма':\n",
    "        print('Yes')\n",
    "    if a=='драма,комедия':\n",
    "        print('Yes')"
   ]
  },
  {
   "cell_type": "code",
   "execution_count": 532,
   "metadata": {},
   "outputs": [
    {
     "name": "stdout",
     "output_type": "stream",
     "text": [
      "Yes\n",
      "Yes\n"
     ]
    }
   ],
   "source": [
    "director=data['director'].unique()\n",
    "for a in director:\n",
    "    if a=='Т.Бекмамбетов':\n",
    "        print('Yes')\n",
    "    if a=='Тимур Бекмамбетов':\n",
    "        print('Yes')"
   ]
  },
  {
   "cell_type": "code",
   "execution_count": 533,
   "metadata": {
    "scrolled": false
   },
   "outputs": [
    {
     "data": {
      "text/plain": [
       "array(['«18+» - запрещено для детей', '«6+» - для детей старше 6 лет',\n",
       "       '«12+» - для детей старше 12 лет',\n",
       "       '«16+» - для детей старше 16 лет',\n",
       "       '«0+» - для любой зрительской аудитории'], dtype=object)"
      ]
     },
     "execution_count": 533,
     "metadata": {},
     "output_type": "execute_result"
    }
   ],
   "source": [
    "data['age_restriction'].unique()"
   ]
  },
  {
   "cell_type": "code",
   "execution_count": 534,
   "metadata": {},
   "outputs": [
    {
     "data": {
      "text/plain": [
       "8"
      ]
     },
     "execution_count": 534,
     "metadata": {},
     "output_type": "execute_result"
    }
   ],
   "source": [
    "data['type'].unique()\n",
    "len(data['type'].unique())"
   ]
  },
  {
   "cell_type": "markdown",
   "metadata": {},
   "source": [
    "<div style=\"background: #B0E0E6; padding: 5px; border: 1px solid SteelBlue; border-radius: 5px;\">\n",
    "    \n",
    "* Явных дубликатов не найдено.\n",
    "    \n",
    "* Как видно из моей функции, я проверил столбец 'production_country' и оказалось что там есть неявные дубликаты, например 'Франция - США' и 'США - Франция'. Кроме того страны записаны через \",\" и через   \"-\". \n",
    "    \n",
    "* Аналогичную перестановку можно заметить в 'genres': 'комедия,драма' и 'драма,комедия'... \n",
    "    \n",
    "* В \"director\" иногда записаны имена и фамилии полностью, иногда сокращенно: 'Т.Бекмамбетов', 'Тимур Бекмамбетов'. \n",
    "    \n",
    "* Такие дубликаты появились из-за того, что страны для каждого фильма записывали не в алфавитном порядке, записи делали в разных форматах, то есть разделяя слова по-разному, запись имен разная. Еще есть проблема с пробелами, она приводит к дубликатам, но ее решу в следуещем блоке.\n",
    "    \n",
    "* Так же интересно, что есть фильмы с одинаковыми названиями и остальными характеристиками, но отличающиеся датой премьеры и номером прокатного удостоверения. Например как в случае с \"Особо опасен\" 2015 и 2016 годов. "
   ]
  },
  {
   "cell_type": "code",
   "execution_count": 535,
   "metadata": {},
   "outputs": [],
   "source": [
    "data['title'].value_counts().sort_values(ascending=False).head(20)\n",
    "data=data.drop_duplicates(subset=['title'], keep='first')"
   ]
  },
  {
   "cell_type": "code",
   "execution_count": 536,
   "metadata": {},
   "outputs": [
    {
     "data": {
      "text/plain": [
       "0"
      ]
     },
     "execution_count": 536,
     "metadata": {},
     "output_type": "execute_result"
    }
   ],
   "source": [
    "data['title'].duplicated().sum()"
   ]
  },
  {
   "cell_type": "markdown",
   "metadata": {},
   "source": [
    "<div style=\"background: #B0E0E6; padding: 5px; border: 1px solid SteelBlue; border-radius: 5px;\">\n",
    "Рассмотрел 'title', в итоге оказалось, что есть одинаковые строки с фильмами, но с разными номерами прокатного удостоверения. Решил сохранить первый встречающийся.</font>"
   ]
  },
  {
   "cell_type": "markdown",
   "metadata": {
    "id": "52fOPrEBgFyQ"
   },
   "source": [
    "#### Категориальные признаки"
   ]
  },
  {
   "cell_type": "code",
   "execution_count": 537,
   "metadata": {
    "id": "PnXKIVdFgFyR"
   },
   "outputs": [
    {
     "data": {
      "text/plain": [
       "title                                 object\n",
       "puNumber                               int64\n",
       "show_start_date          datetime64[ns, UTC]\n",
       "type                                  object\n",
       "film_studio                           object\n",
       "production_country                    object\n",
       "director                              object\n",
       "producer                              object\n",
       "age_restriction                       object\n",
       "refundable_support                   float64\n",
       "nonrefundable_support                float64\n",
       "budget                               float64\n",
       "financing_source                      object\n",
       "ratings                              float64\n",
       "genres                                object\n",
       "box_office                           float64\n",
       "dtype: object"
      ]
     },
     "execution_count": 537,
     "metadata": {},
     "output_type": "execute_result"
    }
   ],
   "source": [
    "data.dtypes"
   ]
  },
  {
   "cell_type": "code",
   "execution_count": 538,
   "metadata": {},
   "outputs": [],
   "source": [
    "data['type']=data['type'].str.strip()"
   ]
  },
  {
   "cell_type": "code",
   "execution_count": 539,
   "metadata": {},
   "outputs": [
    {
     "data": {
      "text/plain": [
       "6"
      ]
     },
     "execution_count": 539,
     "metadata": {},
     "output_type": "execute_result"
    }
   ],
   "source": [
    "len(data['type'].unique())"
   ]
  },
  {
   "cell_type": "markdown",
   "metadata": {},
   "source": [
    "<div style=\"background: #B0E0E6; padding: 5px; border: 1px solid SteelBlue; border-radius: 5px;\">\n",
    "Избавился от пробелов в категориальных данных, это привело к исчезновению некоторых неявных дубликатов, как например в 'type'. Так же об общих проблемах я написал в прошлом коментарии."
   ]
  },
  {
   "cell_type": "markdown",
   "metadata": {
    "id": "XFSN5lrEgFyR"
   },
   "source": [
    "#### Количественные значения"
   ]
  },
  {
   "cell_type": "code",
   "execution_count": 540,
   "metadata": {
    "id": "YbzClBxagFyS",
    "scrolled": false
   },
   "outputs": [
    {
     "data": {
      "text/plain": [
       "<Axes: title={'center': 'refundable support'}, ylabel='Frequency'>"
      ]
     },
     "execution_count": 540,
     "metadata": {},
     "output_type": "execute_result"
    },
    {
     "data": {
      "image/png": "[encoded data removed]",
      "text/plain": [
       "<Figure size 640x480 with 1 Axes>"
      ]
     },
     "metadata": {},
     "output_type": "display_data"
    }
   ],
   "source": [
    "data['refundable_support'].unique()\n",
    "data['refundable_support'].plot(kind='hist',bins=20, title='refundable support')"
   ]
  },
  {
   "cell_type": "code",
   "execution_count": 541,
   "metadata": {},
   "outputs": [
    {
     "data": {
      "text/plain": [
       "<Axes: title={'center': 'nonrefundable support'}, ylabel='Frequency'>"
      ]
     },
     "execution_count": 541,
     "metadata": {},
     "output_type": "execute_result"
    },
    {
     "data": {
      "image/png": "[encoded data removed]",
      "text/plain": [
       "<Figure size 640x480 with 1 Axes>"
      ]
     },
     "metadata": {},
     "output_type": "display_data"
    }
   ],
   "source": [
    "data['nonrefundable_support'].unique()\n",
    "data['nonrefundable_support'].plot(kind='hist',bins=25,title='nonrefundable support')"
   ]
  },
  {
   "cell_type": "code",
   "execution_count": 542,
   "metadata": {},
   "outputs": [
    {
     "data": {
      "text/plain": [
       "<Axes: title={'center': 'budget'}, ylabel='Frequency'>"
      ]
     },
     "execution_count": 542,
     "metadata": {},
     "output_type": "execute_result"
    },
    {
     "data": {
      "image/png": "[encoded data removed]",
      "text/plain": [
       "<Figure size 640x480 with 1 Axes>"
      ]
     },
     "metadata": {},
     "output_type": "display_data"
    }
   ],
   "source": [
    "data['budget'].unique()\n",
    "data['budget'].plot(kind='hist',bins=20,title='budget')"
   ]
  },
  {
   "cell_type": "code",
   "execution_count": 543,
   "metadata": {},
   "outputs": [
    {
     "data": {
      "text/plain": [
       "array([7.2, 6.6, 6.8, 7.7, 8.3, 8. , 7.8, 8.1, 7.1, 6. , 7.4, 5.8, 8.7,\n",
       "       6.3, 6.9, 5. , 4.3, 7.3, 7. , 6.4, 8.2, 7.5, 6.7, 7.9, 5.9, 6.2,\n",
       "       5.6, 6.5, 2.4, 7.6, 6.1, 8.6, 8.5, 8.8, 5.5, 5.1, 5.7, 5.4, 9.9,\n",
       "       4.4, 4.5, 5.3, 4.1, 8.4, 2.6, 3.8, 4.6, 4.8, 4. , 3. , 1.6, 4.2,\n",
       "       5.2, 4.7, 4.9, 3.9, 2.7, 3.3, 2.9, 2.8, 3.7, 1.4, 3.1, 9.7, 3.5,\n",
       "       3.2, 1.5, 2.1, 2.5, 9.2, 3.4, 1.1, 3.6, 9.1, 9.4, 9. , 1.9, 1. ,\n",
       "       8.9, 1.3, 1.8, 1.2, 1.7, 9.8])"
      ]
     },
     "execution_count": 543,
     "metadata": {},
     "output_type": "execute_result"
    }
   ],
   "source": [
    "data['ratings'].unique()"
   ]
  },
  {
   "cell_type": "code",
   "execution_count": 544,
   "metadata": {},
   "outputs": [
    {
     "data": {
      "text/plain": [
       "count    3.017000e+03\n",
       "mean     7.563248e+07\n",
       "std      2.377011e+08\n",
       "min      0.000000e+00\n",
       "25%      1.163600e+05\n",
       "50%      2.428366e+06\n",
       "75%      2.372154e+07\n",
       "max      3.073569e+09\n",
       "Name: box_office, dtype: float64"
      ]
     },
     "execution_count": 544,
     "metadata": {},
     "output_type": "execute_result"
    }
   ],
   "source": [
    "data['box_office'].describe()"
   ]
  },
  {
   "cell_type": "markdown",
   "metadata": {},
   "source": [
    "<div style=\"background: #B0E0E6; padding: 5px; border: 1px solid SteelBlue; border-radius: 5px;\">\n",
    "    \n",
    "* Была интересная запись процентов в 'ratings', но я ее уже исправил. \n",
    "    \n",
    "* Что касается 'budget', то продублирую еще раз:\n",
    "    Рассмотрел \"refundable_support\", \"nonrefundable_support\", \"budget\" и сделал вывод, что если не заполнен \"budget\", то есть фильмы без господдержки по условию, то не заполнены и остальные два столбца.\n",
    "    \n",
    "* Интересно, что в 'box_office' есть нулевые значения, возможно эти фильмы просто не показывали в России."
   ]
  },
  {
   "cell_type": "markdown",
   "metadata": {
    "id": "Eu6oWp2CgFyS"
   },
   "source": [
    "### Добавление новых столбцов"
   ]
  },
  {
   "cell_type": "markdown",
   "metadata": {
    "id": "7GgW-UpAgFyS"
   },
   "source": [
    "<div style=\"background: #B0E0E6; padding: 5px; border: 1px solid SteelBlue; border-radius: 5px;\">\n",
    "Создам столбец с информацией о годе проката. Выделю год из даты премьеры фильма."
   ]
  },
  {
   "cell_type": "code",
   "execution_count": 545,
   "metadata": {
    "id": "I-yd1DkWgFyT"
   },
   "outputs": [
    {
     "data": {
      "text/plain": [
       "Index(['title', 'puNumber', 'show_start_date', 'type', 'film_studio',\n",
       "       'production_country', 'director', 'producer', 'age_restriction',\n",
       "       'refundable_support', 'nonrefundable_support', 'budget',\n",
       "       'financing_source', 'ratings', 'genres', 'box_office', 'year'],\n",
       "      dtype='object')"
      ]
     },
     "execution_count": 545,
     "metadata": {},
     "output_type": "execute_result"
    }
   ],
   "source": [
    "data['year']=data['show_start_date'].dt.year\n",
    "data.columns"
   ]
  },
  {
   "cell_type": "markdown",
   "metadata": {
    "id": "nFTDLDYOgFyT"
   },
   "source": [
    "<div style=\"background: #B0E0E6; padding: 5px; border: 1px solid SteelBlue; border-radius: 5px;\">\n",
    "Создам два столбца: с именем и фамилией главного режиссёра и основным жанром фильма. В столбцы войдут первые значения из списка режиссёров и жанров соответственно."
   ]
  },
  {
   "cell_type": "code",
   "execution_count": 546,
   "metadata": {
    "id": "LSbRZKbMgFyU"
   },
   "outputs": [],
   "source": [
    "def director_genre(c):\n",
    "    p = c.find(',',0,len(c)-1)\n",
    "    if p!=-1:\n",
    "        return c[:p]\n",
    "    return c"
   ]
  },
  {
   "cell_type": "code",
   "execution_count": 547,
   "metadata": {},
   "outputs": [],
   "source": [
    "data['main_director']=data['director'].apply(director_genre)"
   ]
  },
  {
   "cell_type": "code",
   "execution_count": 548,
   "metadata": {},
   "outputs": [],
   "source": [
    "data['main_genre']=data['genres'].apply(director_genre)"
   ]
  },
  {
   "cell_type": "markdown",
   "metadata": {
    "id": "1FsCXHwdgFyU"
   },
   "source": [
    "<div style=\"background: #B0E0E6; padding: 5px; border: 1px solid SteelBlue; border-radius: 5px;\">\n",
    "Посчитаю, какую долю от общего бюджета фильма составляет государственная поддержка."
   ]
  },
  {
   "cell_type": "code",
   "execution_count": 549,
   "metadata": {
    "id": "LV6qFuZLgFyV"
   },
   "outputs": [],
   "source": [
    "data['percentage_govsupport']=\\\n",
    "100*(data['nonrefundable_support']+data['refundable_support'])/data['budget']\n",
    "data['percentage_govsupport']=data['percentage_govsupport'].round()"
   ]
  },
  {
   "cell_type": "markdown",
   "metadata": {},
   "source": [
    "<div style=\"background: #B0E0E6; padding: 5px; border: 1px solid SteelBlue; border-radius: 5px;\">\n",
    "Получается, что доля господдержки поолучается как сумма значений возвратных и невозвратных средств, деленная на весь бюджет. Для красоты я округлил до целых, т.к. процент."
   ]
  },
  {
   "cell_type": "markdown",
   "metadata": {
    "id": "6t4EukPLgFyV"
   },
   "source": [
    "### Исследовательский анализ данных\n"
   ]
  },
  {
   "cell_type": "markdown",
   "metadata": {
    "id": "vAH8WCzugFyV"
   },
   "source": [
    "<div style=\"background: #B0E0E6; padding: 5px; border: 1px solid SteelBlue; border-radius: 5px;\">\n",
    "Посмотритю, сколько фильмов выходило в прокат каждый год. (Данные о прокате в кинотеатрах известны не для всех фильмов.) Посчитаю, какую долю составляют фильмы с указанной информацией о прокате в кинотеатрах."
   ]
  },
  {
   "cell_type": "code",
   "execution_count": 550,
   "metadata": {
    "id": "ABeV47y7gFyW"
   },
   "outputs": [
    {
     "name": "stdout",
     "output_type": "stream",
     "text": [
      "Общая доля фильмов в прокате: 0.46646971935007386\n"
     ]
    }
   ],
   "source": [
    "print('Общая доля фильмов в прокате:',data1['puNumber'].count()/data['puNumber'].count())"
   ]
  },
  {
   "cell_type": "code",
   "execution_count": 551,
   "metadata": {},
   "outputs": [
    {
     "data": {
      "text/html": [
       "<div>\n",
       "<style scoped>\n",
       "    .dataframe tbody tr th:only-of-type {\n",
       "        vertical-align: middle;\n",
       "    }\n",
       "\n",
       "    .dataframe tbody tr th {\n",
       "        vertical-align: top;\n",
       "    }\n",
       "\n",
       "    .dataframe thead th {\n",
       "        text-align: right;\n",
       "    }\n",
       "</style>\n",
       "<table border=\"1\" class=\"dataframe\">\n",
       "  <thead>\n",
       "    <tr style=\"text-align: right;\">\n",
       "      <th></th>\n",
       "      <th>box_office</th>\n",
       "    </tr>\n",
       "    <tr>\n",
       "      <th>year</th>\n",
       "      <th></th>\n",
       "    </tr>\n",
       "  </thead>\n",
       "  <tbody>\n",
       "    <tr>\n",
       "      <th>2010</th>\n",
       "      <td>88</td>\n",
       "    </tr>\n",
       "    <tr>\n",
       "      <th>2011</th>\n",
       "      <td>98</td>\n",
       "    </tr>\n",
       "    <tr>\n",
       "      <th>2012</th>\n",
       "      <td>116</td>\n",
       "    </tr>\n",
       "    <tr>\n",
       "      <th>2013</th>\n",
       "      <td>176</td>\n",
       "    </tr>\n",
       "    <tr>\n",
       "      <th>2014</th>\n",
       "      <td>257</td>\n",
       "    </tr>\n",
       "    <tr>\n",
       "      <th>2015</th>\n",
       "      <td>431</td>\n",
       "    </tr>\n",
       "    <tr>\n",
       "      <th>2016</th>\n",
       "      <td>501</td>\n",
       "    </tr>\n",
       "    <tr>\n",
       "      <th>2017</th>\n",
       "      <td>356</td>\n",
       "    </tr>\n",
       "    <tr>\n",
       "      <th>2018</th>\n",
       "      <td>472</td>\n",
       "    </tr>\n",
       "    <tr>\n",
       "      <th>2019</th>\n",
       "      <td>522</td>\n",
       "    </tr>\n",
       "  </tbody>\n",
       "</table>\n",
       "</div>"
      ],
      "text/plain": [
       "      box_office\n",
       "year            \n",
       "2010          88\n",
       "2011          98\n",
       "2012         116\n",
       "2013         176\n",
       "2014         257\n",
       "2015         431\n",
       "2016         501\n",
       "2017         356\n",
       "2018         472\n",
       "2019         522"
      ]
     },
     "execution_count": 551,
     "metadata": {},
     "output_type": "execute_result"
    }
   ],
   "source": [
    "c=data.pivot_table(index='year', values=['box_office'], \n",
    "                 aggfunc='count')\n",
    "c"
   ]
  },
  {
   "cell_type": "code",
   "execution_count": 552,
   "metadata": {
    "scrolled": false
   },
   "outputs": [
    {
     "data": {
      "image/png": "[encoded data removed]",
      "text/plain": [
       "<Figure size 1000x700 with 1 Axes>"
      ]
     },
     "metadata": {},
     "output_type": "display_data"
    }
   ],
   "source": [
    "c.plot(figsize=(10,7), title='Динамика фильмов в прокате');"
   ]
  },
  {
   "cell_type": "markdown",
   "metadata": {},
   "source": [
    "<div style=\"background: #B0E0E6; padding: 5px; border: 1px solid SteelBlue; border-radius: 5px;\">\n",
    "Из графика мы видим, что был устойчивый рост количества фильмов, попавших в прокат, до 2016 года. В 2017 это значение упало примерно на 150 по сравнению с предыдущим годом. Но к 2018 показатели снова выравнились, и начался рост. "
   ]
  },
  {
   "cell_type": "code",
   "execution_count": 553,
   "metadata": {},
   "outputs": [
    {
     "name": "stdout",
     "output_type": "stream",
     "text": [
      "year\n",
      "2010    762\n",
      "2011    477\n",
      "2012    516\n",
      "2013    590\n",
      "2014    729\n",
      "2015    661\n",
      "2016    771\n",
      "2017    498\n",
      "2018    875\n",
      "2019    891\n",
      "Name: title, dtype: int64 year\n",
      "2010     88\n",
      "2011     98\n",
      "2012    116\n",
      "2013    176\n",
      "2014    257\n",
      "2015    431\n",
      "2016    501\n",
      "2017    356\n",
      "2018    472\n",
      "2019    522\n",
      "Name: box_office, dtype: int64\n"
     ]
    },
    {
     "data": {
      "text/plain": [
       "year\n",
       "2010    12.0\n",
       "2011    21.0\n",
       "2012    22.0\n",
       "2013    30.0\n",
       "2014    35.0\n",
       "2015    65.0\n",
       "2016    65.0\n",
       "2017    71.0\n",
       "2018    54.0\n",
       "2019    59.0\n",
       "dtype: float64"
      ]
     },
     "execution_count": 553,
     "metadata": {},
     "output_type": "execute_result"
    }
   ],
   "source": [
    "quality_year = data.groupby('year')['title'].count()\n",
    "cineme_year = data.groupby('year')['box_office'].count()\n",
    "rate_cinema = round(100*cineme_year/quality_year)\n",
    "print(quality_year, cineme_year)\n",
    "rate_cinema"
   ]
  },
  {
   "cell_type": "code",
   "execution_count": 554,
   "metadata": {},
   "outputs": [
    {
     "data": {
      "text/plain": [
       "<Axes: xlabel='year'>"
      ]
     },
     "execution_count": 554,
     "metadata": {},
     "output_type": "execute_result"
    },
    {
     "data": {
      "image/png": "[encoded data removed]",
      "text/plain": [
       "<Figure size 640x480 with 1 Axes>"
      ]
     },
     "metadata": {},
     "output_type": "display_data"
    }
   ],
   "source": [
    "rate_cinema.plot()"
   ]
  },
  {
   "cell_type": "markdown",
   "metadata": {},
   "source": [
    "<div style=\"background: #B0E0E6; padding: 5px; border: 1px solid SteelBlue; border-radius: 5px;\">\n",
    "Полее полно представлена информация о фильмах вышедших в прокат в 2017, там доля составляет 71%"
   ]
  },
  {
   "cell_type": "markdown",
   "metadata": {
    "id": "BEOdcIrIgFyW"
   },
   "source": [
    "<div style=\"background: #B0E0E6; padding: 5px; border: 1px solid SteelBlue; border-radius: 5px;\">\n",
    "Изучу, как менялась динамика проката по годам. В каком году сумма сборов была минимальной и максимальной?"
   ]
  },
  {
   "cell_type": "code",
   "execution_count": 555,
   "metadata": {
    "id": "tfEhofYvgFyX",
    "scrolled": false
   },
   "outputs": [
    {
     "data": {
      "text/html": [
       "<div>\n",
       "<style scoped>\n",
       "    .dataframe tbody tr th:only-of-type {\n",
       "        vertical-align: middle;\n",
       "    }\n",
       "\n",
       "    .dataframe tbody tr th {\n",
       "        vertical-align: top;\n",
       "    }\n",
       "\n",
       "    .dataframe thead th {\n",
       "        text-align: right;\n",
       "    }\n",
       "</style>\n",
       "<table border=\"1\" class=\"dataframe\">\n",
       "  <thead>\n",
       "    <tr style=\"text-align: right;\">\n",
       "      <th></th>\n",
       "      <th>box_office</th>\n",
       "    </tr>\n",
       "    <tr>\n",
       "      <th>year</th>\n",
       "      <th></th>\n",
       "    </tr>\n",
       "  </thead>\n",
       "  <tbody>\n",
       "    <tr>\n",
       "      <th>2010</th>\n",
       "      <td>2.374340</td>\n",
       "    </tr>\n",
       "    <tr>\n",
       "      <th>2011</th>\n",
       "      <td>13.944390</td>\n",
       "    </tr>\n",
       "    <tr>\n",
       "      <th>2012</th>\n",
       "      <td>6.465111</td>\n",
       "    </tr>\n",
       "    <tr>\n",
       "      <th>2013</th>\n",
       "      <td>29.768531</td>\n",
       "    </tr>\n",
       "    <tr>\n",
       "      <th>2014</th>\n",
       "      <td>7372.598572</td>\n",
       "    </tr>\n",
       "    <tr>\n",
       "      <th>2015</th>\n",
       "      <td>32084.649858</td>\n",
       "    </tr>\n",
       "    <tr>\n",
       "      <th>2016</th>\n",
       "      <td>43731.444689</td>\n",
       "    </tr>\n",
       "    <tr>\n",
       "      <th>2017</th>\n",
       "      <td>48561.554267</td>\n",
       "    </tr>\n",
       "    <tr>\n",
       "      <th>2018</th>\n",
       "      <td>47970.993536</td>\n",
       "    </tr>\n",
       "    <tr>\n",
       "      <th>2019</th>\n",
       "      <td>48409.400347</td>\n",
       "    </tr>\n",
       "  </tbody>\n",
       "</table>\n",
       "</div>"
      ],
      "text/plain": [
       "        box_office\n",
       "year              \n",
       "2010      2.374340\n",
       "2011     13.944390\n",
       "2012      6.465111\n",
       "2013     29.768531\n",
       "2014   7372.598572\n",
       "2015  32084.649858\n",
       "2016  43731.444689\n",
       "2017  48561.554267\n",
       "2018  47970.993536\n",
       "2019  48409.400347"
      ]
     },
     "metadata": {},
     "output_type": "display_data"
    }
   ],
   "source": [
    "c=data.pivot_table(index='year', values='box_office', aggfunc='sum')/1000000\n",
    "display(c)"
   ]
  },
  {
   "cell_type": "code",
   "execution_count": 556,
   "metadata": {},
   "outputs": [
    {
     "data": {
      "image/png": "[encoded data removed]",
      "text/plain": [
       "<Figure size 640x480 with 1 Axes>"
      ]
     },
     "metadata": {},
     "output_type": "display_data"
    }
   ],
   "source": [
    "c.plot();"
   ]
  },
  {
   "cell_type": "code",
   "execution_count": 557,
   "metadata": {},
   "outputs": [
    {
     "data": {
      "text/html": [
       "<div>\n",
       "<style scoped>\n",
       "    .dataframe tbody tr th:only-of-type {\n",
       "        vertical-align: middle;\n",
       "    }\n",
       "\n",
       "    .dataframe tbody tr th {\n",
       "        vertical-align: top;\n",
       "    }\n",
       "\n",
       "    .dataframe thead th {\n",
       "        text-align: right;\n",
       "    }\n",
       "</style>\n",
       "<table border=\"1\" class=\"dataframe\">\n",
       "  <thead>\n",
       "    <tr style=\"text-align: right;\">\n",
       "      <th></th>\n",
       "      <th>box_office</th>\n",
       "    </tr>\n",
       "  </thead>\n",
       "  <tbody>\n",
       "    <tr>\n",
       "      <th>count</th>\n",
       "      <td>10.000000</td>\n",
       "    </tr>\n",
       "    <tr>\n",
       "      <th>mean</th>\n",
       "      <td>22818.319364</td>\n",
       "    </tr>\n",
       "    <tr>\n",
       "      <th>std</th>\n",
       "      <td>23075.658600</td>\n",
       "    </tr>\n",
       "    <tr>\n",
       "      <th>min</th>\n",
       "      <td>2.374340</td>\n",
       "    </tr>\n",
       "    <tr>\n",
       "      <th>25%</th>\n",
       "      <td>17.900425</td>\n",
       "    </tr>\n",
       "    <tr>\n",
       "      <th>50%</th>\n",
       "      <td>19728.624215</td>\n",
       "    </tr>\n",
       "    <tr>\n",
       "      <th>75%</th>\n",
       "      <td>46911.106325</td>\n",
       "    </tr>\n",
       "    <tr>\n",
       "      <th>max</th>\n",
       "      <td>48561.554267</td>\n",
       "    </tr>\n",
       "  </tbody>\n",
       "</table>\n",
       "</div>"
      ],
      "text/plain": [
       "         box_office\n",
       "count     10.000000\n",
       "mean   22818.319364\n",
       "std    23075.658600\n",
       "min        2.374340\n",
       "25%       17.900425\n",
       "50%    19728.624215\n",
       "75%    46911.106325\n",
       "max    48561.554267"
      ]
     },
     "execution_count": 557,
     "metadata": {},
     "output_type": "execute_result"
    }
   ],
   "source": [
    "c.describe()"
   ]
  },
  {
   "cell_type": "markdown",
   "metadata": {},
   "source": [
    "<div style=\"background: #B0E0E6; padding: 5px; border: 1px solid SteelBlue; border-radius: 5px;\">\n",
    "Максимальная сумма сборов была в 2018, минимальная в 2010. На графике можно увидеть рост максимальных сборов за фильм."
   ]
  },
  {
   "cell_type": "markdown",
   "metadata": {
    "id": "G-7qS-N-gFyY"
   },
   "source": [
    "<div style=\"background: #B0E0E6; padding: 5px; border: 1px solid SteelBlue; border-radius: 5px;\">\n",
    "С помощью сводной таблицы посчитаю среднюю и медианную сумму сборов для каждого года."
   ]
  },
  {
   "cell_type": "code",
   "execution_count": 558,
   "metadata": {
    "id": "jmp-rgg9gFyY"
   },
   "outputs": [
    {
     "data": {
      "text/html": [
       "<div>\n",
       "<style scoped>\n",
       "    .dataframe tbody tr th:only-of-type {\n",
       "        vertical-align: middle;\n",
       "    }\n",
       "\n",
       "    .dataframe tbody tr th {\n",
       "        vertical-align: top;\n",
       "    }\n",
       "\n",
       "    .dataframe thead th {\n",
       "        text-align: right;\n",
       "    }\n",
       "</style>\n",
       "<table border=\"1\" class=\"dataframe\">\n",
       "  <thead>\n",
       "    <tr style=\"text-align: right;\">\n",
       "      <th></th>\n",
       "      <th>box_office</th>\n",
       "    </tr>\n",
       "    <tr>\n",
       "      <th>year</th>\n",
       "      <th></th>\n",
       "    </tr>\n",
       "  </thead>\n",
       "  <tbody>\n",
       "    <tr>\n",
       "      <th>2010</th>\n",
       "      <td>0.026981</td>\n",
       "    </tr>\n",
       "    <tr>\n",
       "      <th>2011</th>\n",
       "      <td>0.142290</td>\n",
       "    </tr>\n",
       "    <tr>\n",
       "      <th>2012</th>\n",
       "      <td>0.055734</td>\n",
       "    </tr>\n",
       "    <tr>\n",
       "      <th>2013</th>\n",
       "      <td>0.169139</td>\n",
       "    </tr>\n",
       "    <tr>\n",
       "      <th>2014</th>\n",
       "      <td>28.687154</td>\n",
       "    </tr>\n",
       "    <tr>\n",
       "      <th>2015</th>\n",
       "      <td>74.442343</td>\n",
       "    </tr>\n",
       "    <tr>\n",
       "      <th>2016</th>\n",
       "      <td>87.288313</td>\n",
       "    </tr>\n",
       "    <tr>\n",
       "      <th>2017</th>\n",
       "      <td>136.408860</td>\n",
       "    </tr>\n",
       "    <tr>\n",
       "      <th>2018</th>\n",
       "      <td>101.633461</td>\n",
       "    </tr>\n",
       "    <tr>\n",
       "      <th>2019</th>\n",
       "      <td>92.738315</td>\n",
       "    </tr>\n",
       "  </tbody>\n",
       "</table>\n",
       "</div>"
      ],
      "text/plain": [
       "      box_office\n",
       "year            \n",
       "2010    0.026981\n",
       "2011    0.142290\n",
       "2012    0.055734\n",
       "2013    0.169139\n",
       "2014   28.687154\n",
       "2015   74.442343\n",
       "2016   87.288313\n",
       "2017  136.408860\n",
       "2018  101.633461\n",
       "2019   92.738315"
      ]
     },
     "execution_count": 558,
     "metadata": {},
     "output_type": "execute_result"
    }
   ],
   "source": [
    "mean_box=data.pivot_table(index='year', values='box_office', aggfunc='mean')/1000000\n",
    "mean_box"
   ]
  },
  {
   "cell_type": "code",
   "execution_count": 559,
   "metadata": {},
   "outputs": [
    {
     "data": {
      "text/plain": [
       "<Axes: xlabel='year'>"
      ]
     },
     "execution_count": 559,
     "metadata": {},
     "output_type": "execute_result"
    },
    {
     "data": {
      "image/png": "[encoded data removed]",
      "text/plain": [
       "<Figure size 640x480 with 1 Axes>"
      ]
     },
     "metadata": {},
     "output_type": "display_data"
    }
   ],
   "source": [
    "mean_box.plot()"
   ]
  },
  {
   "cell_type": "code",
   "execution_count": 560,
   "metadata": {},
   "outputs": [
    {
     "data": {
      "text/html": [
       "<div>\n",
       "<style scoped>\n",
       "    .dataframe tbody tr th:only-of-type {\n",
       "        vertical-align: middle;\n",
       "    }\n",
       "\n",
       "    .dataframe tbody tr th {\n",
       "        vertical-align: top;\n",
       "    }\n",
       "\n",
       "    .dataframe thead th {\n",
       "        text-align: right;\n",
       "    }\n",
       "</style>\n",
       "<table border=\"1\" class=\"dataframe\">\n",
       "  <thead>\n",
       "    <tr style=\"text-align: right;\">\n",
       "      <th></th>\n",
       "      <th>box_office</th>\n",
       "    </tr>\n",
       "    <tr>\n",
       "      <th>year</th>\n",
       "      <th></th>\n",
       "    </tr>\n",
       "  </thead>\n",
       "  <tbody>\n",
       "    <tr>\n",
       "      <th>2010</th>\n",
       "      <td>0.001868</td>\n",
       "    </tr>\n",
       "    <tr>\n",
       "      <th>2011</th>\n",
       "      <td>0.003043</td>\n",
       "    </tr>\n",
       "    <tr>\n",
       "      <th>2012</th>\n",
       "      <td>0.006692</td>\n",
       "    </tr>\n",
       "    <tr>\n",
       "      <th>2013</th>\n",
       "      <td>0.003565</td>\n",
       "    </tr>\n",
       "    <tr>\n",
       "      <th>2014</th>\n",
       "      <td>0.022490</td>\n",
       "    </tr>\n",
       "    <tr>\n",
       "      <th>2015</th>\n",
       "      <td>4.327266</td>\n",
       "    </tr>\n",
       "    <tr>\n",
       "      <th>2016</th>\n",
       "      <td>3.640802</td>\n",
       "    </tr>\n",
       "    <tr>\n",
       "      <th>2017</th>\n",
       "      <td>10.177834</td>\n",
       "    </tr>\n",
       "    <tr>\n",
       "      <th>2018</th>\n",
       "      <td>8.821499</td>\n",
       "    </tr>\n",
       "    <tr>\n",
       "      <th>2019</th>\n",
       "      <td>4.774521</td>\n",
       "    </tr>\n",
       "  </tbody>\n",
       "</table>\n",
       "</div>"
      ],
      "text/plain": [
       "      box_office\n",
       "year            \n",
       "2010    0.001868\n",
       "2011    0.003043\n",
       "2012    0.006692\n",
       "2013    0.003565\n",
       "2014    0.022490\n",
       "2015    4.327266\n",
       "2016    3.640802\n",
       "2017   10.177834\n",
       "2018    8.821499\n",
       "2019    4.774521"
      ]
     },
     "execution_count": 560,
     "metadata": {},
     "output_type": "execute_result"
    }
   ],
   "source": [
    "median_box=data.pivot_table(index='year', values='box_office', aggfunc='median')/1000000\n",
    "median_box"
   ]
  },
  {
   "cell_type": "code",
   "execution_count": 561,
   "metadata": {},
   "outputs": [
    {
     "data": {
      "text/plain": [
       "<Axes: xlabel='year'>"
      ]
     },
     "execution_count": 561,
     "metadata": {},
     "output_type": "execute_result"
    },
    {
     "data": {
      "image/png": "[encoded data removed]",
      "text/plain": [
       "<Figure size 640x480 with 1 Axes>"
      ]
     },
     "metadata": {},
     "output_type": "display_data"
    }
   ],
   "source": [
    "median_box.plot()"
   ]
  },
  {
   "cell_type": "markdown",
   "metadata": {},
   "source": [
    "<div style=\"background: #B0E0E6; padding: 5px; border: 1px solid SteelBlue; border-radius: 5px;\">\n",
    "Можно увидеть пик обоих значений в 2017 году. По графикам можно увидеть, как срднее может отличаться от медианного значения, как например в 2016. "
   ]
  },
  {
   "cell_type": "markdown",
   "metadata": {
    "id": "Ok89WFwJgFyZ"
   },
   "source": [
    "<div style=\"background: #B0E0E6; padding: 5px; border: 1px solid SteelBlue; border-radius: 5px;\">\n",
    "Определю, влияет ли возрастное ограничение аудитории («6+», «12+», «16+», «18+» и т. д.) на сборы фильма в прокате в период с 2015 по 2019 год? Фильмы с каким возрастным ограничением собрали больше всего денег в прокате? Меняется ли картина в зависимости от года? "
   ]
  },
  {
   "cell_type": "code",
   "execution_count": 562,
   "metadata": {},
   "outputs": [],
   "source": [
    "def age(c):\n",
    "    if '0+' in c:\n",
    "        return '0+'\n",
    "    if '12+' in c:\n",
    "        return '12+'\n",
    "    if '16+' in c:\n",
    "        return '16+'\n",
    "    if '6+' in c:\n",
    "        return '6+'\n",
    "    return '18+'"
   ]
  },
  {
   "cell_type": "code",
   "execution_count": 563,
   "metadata": {},
   "outputs": [],
   "source": [
    "data['age_restriction_short'] = data['age_restriction'].apply(age)"
   ]
  },
  {
   "cell_type": "markdown",
   "metadata": {},
   "source": [
    "<div style=\"background: #B0E0E6; padding: 5px; border: 1px solid SteelBlue; border-radius: 5px;\">\n",
    "Чтобы графики выглядели красивее, я создал дополнительный столбец с укороченным названием возрастной\n",
    "категории."
   ]
  },
  {
   "cell_type": "code",
   "execution_count": 564,
   "metadata": {
    "id": "jsSbEqfjgFya"
   },
   "outputs": [
    {
     "data": {
      "text/html": [
       "<div>\n",
       "<style scoped>\n",
       "    .dataframe tbody tr th:only-of-type {\n",
       "        vertical-align: middle;\n",
       "    }\n",
       "\n",
       "    .dataframe tbody tr th {\n",
       "        vertical-align: top;\n",
       "    }\n",
       "\n",
       "    .dataframe thead th {\n",
       "        text-align: right;\n",
       "    }\n",
       "</style>\n",
       "<table border=\"1\" class=\"dataframe\">\n",
       "  <thead>\n",
       "    <tr style=\"text-align: right;\">\n",
       "      <th></th>\n",
       "      <th>box_office</th>\n",
       "    </tr>\n",
       "    <tr>\n",
       "      <th>age_restriction_short</th>\n",
       "      <th></th>\n",
       "    </tr>\n",
       "  </thead>\n",
       "  <tbody>\n",
       "    <tr>\n",
       "      <th>16+</th>\n",
       "      <td>68945.957729</td>\n",
       "    </tr>\n",
       "    <tr>\n",
       "      <th>12+</th>\n",
       "      <td>58930.830651</td>\n",
       "    </tr>\n",
       "    <tr>\n",
       "      <th>6+</th>\n",
       "      <td>55492.520204</td>\n",
       "    </tr>\n",
       "    <tr>\n",
       "      <th>18+</th>\n",
       "      <td>36685.388798</td>\n",
       "    </tr>\n",
       "    <tr>\n",
       "      <th>0+</th>\n",
       "      <td>703.345315</td>\n",
       "    </tr>\n",
       "  </tbody>\n",
       "</table>\n",
       "</div>"
      ],
      "text/plain": [
       "                         box_office\n",
       "age_restriction_short              \n",
       "16+                    68945.957729\n",
       "12+                    58930.830651\n",
       "6+                     55492.520204\n",
       "18+                    36685.388798\n",
       "0+                       703.345315"
      ]
     },
     "execution_count": 564,
     "metadata": {},
     "output_type": "execute_result"
    }
   ],
   "source": [
    "data_2015_2019 = data[data['year']>2014]\n",
    "piv_restriction = data_2015_2019.\\\n",
    "pivot_table(index='age_restriction_short', values='box_office', aggfunc='sum')/1000000\n",
    "piv_restriction.sort_values('box_office', ascending=False)"
   ]
  },
  {
   "cell_type": "code",
   "execution_count": 565,
   "metadata": {
    "scrolled": false
   },
   "outputs": [
    {
     "data": {
      "text/plain": [
       "<Axes: xlabel='age_restriction_short'>"
      ]
     },
     "execution_count": 565,
     "metadata": {},
     "output_type": "execute_result"
    },
    {
     "data": {
      "image/png": "[encoded data removed]",
      "text/plain": [
       "<Figure size 640x480 with 1 Axes>"
      ]
     },
     "metadata": {},
     "output_type": "display_data"
    }
   ],
   "source": [
    "piv_restriction.plot()"
   ]
  },
  {
   "cell_type": "markdown",
   "metadata": {},
   "source": [
    "<div style=\"background: #B0E0E6; padding: 5px; border: 1px solid SteelBlue; border-radius: 5px;\">\n",
    "Больше всего прибыли получили в прокате фильмы \"16+\", меньше всего фильмы без возрастных ограничений"
   ]
  },
  {
   "cell_type": "code",
   "execution_count": 566,
   "metadata": {},
   "outputs": [
    {
     "data": {
      "text/html": [
       "<div>\n",
       "<style scoped>\n",
       "    .dataframe tbody tr th:only-of-type {\n",
       "        vertical-align: middle;\n",
       "    }\n",
       "\n",
       "    .dataframe tbody tr th {\n",
       "        vertical-align: top;\n",
       "    }\n",
       "\n",
       "    .dataframe thead th {\n",
       "        text-align: right;\n",
       "    }\n",
       "</style>\n",
       "<table border=\"1\" class=\"dataframe\">\n",
       "  <thead>\n",
       "    <tr style=\"text-align: right;\">\n",
       "      <th></th>\n",
       "      <th></th>\n",
       "      <th>box_office</th>\n",
       "    </tr>\n",
       "    <tr>\n",
       "      <th>age_restriction_short</th>\n",
       "      <th>year</th>\n",
       "      <th></th>\n",
       "    </tr>\n",
       "  </thead>\n",
       "  <tbody>\n",
       "    <tr>\n",
       "      <th rowspan=\"5\" valign=\"top\">0+</th>\n",
       "      <th>2015</th>\n",
       "      <td>0.273368</td>\n",
       "    </tr>\n",
       "    <tr>\n",
       "      <th>2016</th>\n",
       "      <td>0.150184</td>\n",
       "    </tr>\n",
       "    <tr>\n",
       "      <th>2017</th>\n",
       "      <td>0.229599</td>\n",
       "    </tr>\n",
       "    <tr>\n",
       "      <th>2018</th>\n",
       "      <td>0.032449</td>\n",
       "    </tr>\n",
       "    <tr>\n",
       "      <th>2019</th>\n",
       "      <td>0.017746</td>\n",
       "    </tr>\n",
       "    <tr>\n",
       "      <th rowspan=\"5\" valign=\"top\">12+</th>\n",
       "      <th>2015</th>\n",
       "      <td>11.957221</td>\n",
       "    </tr>\n",
       "    <tr>\n",
       "      <th>2016</th>\n",
       "      <td>12.178337</td>\n",
       "    </tr>\n",
       "    <tr>\n",
       "      <th>2017</th>\n",
       "      <td>7.851428</td>\n",
       "    </tr>\n",
       "    <tr>\n",
       "      <th>2018</th>\n",
       "      <td>14.267292</td>\n",
       "    </tr>\n",
       "    <tr>\n",
       "      <th>2019</th>\n",
       "      <td>12.676554</td>\n",
       "    </tr>\n",
       "    <tr>\n",
       "      <th rowspan=\"5\" valign=\"top\">16+</th>\n",
       "      <th>2015</th>\n",
       "      <td>8.274253</td>\n",
       "    </tr>\n",
       "    <tr>\n",
       "      <th>2016</th>\n",
       "      <td>14.359350</td>\n",
       "    </tr>\n",
       "    <tr>\n",
       "      <th>2017</th>\n",
       "      <td>18.742890</td>\n",
       "    </tr>\n",
       "    <tr>\n",
       "      <th>2018</th>\n",
       "      <td>14.820922</td>\n",
       "    </tr>\n",
       "    <tr>\n",
       "      <th>2019</th>\n",
       "      <td>12.748543</td>\n",
       "    </tr>\n",
       "    <tr>\n",
       "      <th rowspan=\"5\" valign=\"top\">18+</th>\n",
       "      <th>2015</th>\n",
       "      <td>3.184098</td>\n",
       "    </tr>\n",
       "    <tr>\n",
       "      <th>2016</th>\n",
       "      <td>4.990430</td>\n",
       "    </tr>\n",
       "    <tr>\n",
       "      <th>2017</th>\n",
       "      <td>9.651496</td>\n",
       "    </tr>\n",
       "    <tr>\n",
       "      <th>2018</th>\n",
       "      <td>8.745356</td>\n",
       "    </tr>\n",
       "    <tr>\n",
       "      <th>2019</th>\n",
       "      <td>10.114009</td>\n",
       "    </tr>\n",
       "    <tr>\n",
       "      <th rowspan=\"5\" valign=\"top\">6+</th>\n",
       "      <th>2015</th>\n",
       "      <td>8.395710</td>\n",
       "    </tr>\n",
       "    <tr>\n",
       "      <th>2016</th>\n",
       "      <td>12.053144</td>\n",
       "    </tr>\n",
       "    <tr>\n",
       "      <th>2017</th>\n",
       "      <td>12.086142</td>\n",
       "    </tr>\n",
       "    <tr>\n",
       "      <th>2018</th>\n",
       "      <td>10.104975</td>\n",
       "    </tr>\n",
       "    <tr>\n",
       "      <th>2019</th>\n",
       "      <td>12.852549</td>\n",
       "    </tr>\n",
       "  </tbody>\n",
       "</table>\n",
       "</div>"
      ],
      "text/plain": [
       "                            box_office\n",
       "age_restriction_short year            \n",
       "0+                    2015    0.273368\n",
       "                      2016    0.150184\n",
       "                      2017    0.229599\n",
       "                      2018    0.032449\n",
       "                      2019    0.017746\n",
       "12+                   2015   11.957221\n",
       "                      2016   12.178337\n",
       "                      2017    7.851428\n",
       "                      2018   14.267292\n",
       "                      2019   12.676554\n",
       "16+                   2015    8.274253\n",
       "                      2016   14.359350\n",
       "                      2017   18.742890\n",
       "                      2018   14.820922\n",
       "                      2019   12.748543\n",
       "18+                   2015    3.184098\n",
       "                      2016    4.990430\n",
       "                      2017    9.651496\n",
       "                      2018    8.745356\n",
       "                      2019   10.114009\n",
       "6+                    2015    8.395710\n",
       "                      2016   12.053144\n",
       "                      2017   12.086142\n",
       "                      2018   10.104975\n",
       "                      2019   12.852549"
      ]
     },
     "execution_count": 566,
     "metadata": {},
     "output_type": "execute_result"
    }
   ],
   "source": [
    "date_restrict_year = data_2015_2019.pivot_table(index=['age_restriction_short', 'year'],\n",
    "                                      values=['box_office'], aggfunc='sum')/1000000000\n",
    "date_restrict_year"
   ]
  },
  {
   "cell_type": "code",
   "execution_count": 567,
   "metadata": {
    "scrolled": false
   },
   "outputs": [
    {
     "data": {
      "text/plain": [
       "<Axes: xlabel='age_restriction_short,year'>"
      ]
     },
     "execution_count": 567,
     "metadata": {},
     "output_type": "execute_result"
    },
    {
     "data": {
      "image/png": "[encoded data removed]",
      "text/plain": [
       "<Figure size 1000x700 with 1 Axes>"
      ]
     },
     "metadata": {},
     "output_type": "display_data"
    }
   ],
   "source": [
    "date_restrict_year.plot(figsize=(10,7))"
   ]
  },
  {
   "cell_type": "markdown",
   "metadata": {},
   "source": [
    "<div style=\"background: #B0E0E6; padding: 5px; border: 1px solid SteelBlue; border-radius: 5px;\">\n",
    "    \n",
    "* Из графика видно что прибыль от фильмов без возрастных ограничений за весь период почти не менялась, это интересно, может надо что-то менять) \n",
    "    \n",
    "* А вот фильмы \"16+\" достигли пика в 2017 и стали терять прибыль давольно быстро."
   ]
  },
  {
   "cell_type": "markdown",
   "metadata": {
    "id": "l_Kg6Ku4gFya"
   },
   "source": [
    "### Исследование фильмов с государственной поддержкой"
   ]
  },
  {
   "cell_type": "code",
   "execution_count": 568,
   "metadata": {
    "id": "W9QKpjUdgFyb",
    "scrolled": false
   },
   "outputs": [
    {
     "data": {
      "text/html": [
       "<div>\n",
       "<style scoped>\n",
       "    .dataframe tbody tr th:only-of-type {\n",
       "        vertical-align: middle;\n",
       "    }\n",
       "\n",
       "    .dataframe tbody tr th {\n",
       "        vertical-align: top;\n",
       "    }\n",
       "\n",
       "    .dataframe thead th {\n",
       "        text-align: right;\n",
       "    }\n",
       "</style>\n",
       "<table border=\"1\" class=\"dataframe\">\n",
       "  <thead>\n",
       "    <tr style=\"text-align: right;\">\n",
       "      <th></th>\n",
       "      <th>title</th>\n",
       "      <th>puNumber</th>\n",
       "      <th>show_start_date</th>\n",
       "      <th>type</th>\n",
       "      <th>film_studio</th>\n",
       "      <th>production_country</th>\n",
       "      <th>director</th>\n",
       "      <th>producer</th>\n",
       "      <th>age_restriction</th>\n",
       "      <th>refundable_support</th>\n",
       "      <th>...</th>\n",
       "      <th>budget</th>\n",
       "      <th>financing_source</th>\n",
       "      <th>ratings</th>\n",
       "      <th>genres</th>\n",
       "      <th>box_office</th>\n",
       "      <th>year</th>\n",
       "      <th>main_director</th>\n",
       "      <th>main_genre</th>\n",
       "      <th>percentage_govsupport</th>\n",
       "      <th>age_restriction_short</th>\n",
       "    </tr>\n",
       "  </thead>\n",
       "  <tbody>\n",
       "    <tr>\n",
       "      <th>1280</th>\n",
       "      <td>Пока еще жива</td>\n",
       "      <td>111005313</td>\n",
       "      <td>2013-10-11 12:00:00+00:00</td>\n",
       "      <td>Художественный</td>\n",
       "      <td>АНО содействия развитию кинематографии \"Ангел-...</td>\n",
       "      <td>Россия</td>\n",
       "      <td>А.Атанесян</td>\n",
       "      <td>А.Атанесян, М.Бабаханов, Р.Бутко</td>\n",
       "      <td>«16+» - для детей старше 16 лет</td>\n",
       "      <td>0.0</td>\n",
       "      <td>...</td>\n",
       "      <td>79411900.0</td>\n",
       "      <td>Министерство культуры</td>\n",
       "      <td>8.1</td>\n",
       "      <td>драма,мелодрама</td>\n",
       "      <td>365353.6</td>\n",
       "      <td>2013</td>\n",
       "      <td>А.Атанесян</td>\n",
       "      <td>драма</td>\n",
       "      <td>33.0</td>\n",
       "      <td>16+</td>\n",
       "    </tr>\n",
       "    <tr>\n",
       "      <th>1447</th>\n",
       "      <td>Бесславные придурки</td>\n",
       "      <td>111003314</td>\n",
       "      <td>2014-03-28 12:00:00+00:00</td>\n",
       "      <td>Художественный</td>\n",
       "      <td>ООО \"Компания \"АТК-Студио\"</td>\n",
       "      <td>Россия</td>\n",
       "      <td>А.Якимчук</td>\n",
       "      <td>А.Тютрюмов</td>\n",
       "      <td>«12+» - для детей старше 12 лет</td>\n",
       "      <td>0.0</td>\n",
       "      <td>...</td>\n",
       "      <td>37142857.0</td>\n",
       "      <td>Министерство культуры</td>\n",
       "      <td>6.6</td>\n",
       "      <td>-</td>\n",
       "      <td>28140.0</td>\n",
       "      <td>2014</td>\n",
       "      <td>А.Якимчук</td>\n",
       "      <td>-</td>\n",
       "      <td>70.0</td>\n",
       "      <td>12+</td>\n",
       "    </tr>\n",
       "    <tr>\n",
       "      <th>1497</th>\n",
       "      <td>Невидимки</td>\n",
       "      <td>111004213</td>\n",
       "      <td>2013-09-10 12:00:00+00:00</td>\n",
       "      <td>Художественный</td>\n",
       "      <td>ООО \"Компания \"РЕАЛ-ДАКОТА\"</td>\n",
       "      <td>Россия</td>\n",
       "      <td>Р.Давлетьяров, С.Комаров</td>\n",
       "      <td>Р.Давлетьяров, А.Котелевский, А.Олейников</td>\n",
       "      <td>«12+» - для детей старше 12 лет</td>\n",
       "      <td>0.0</td>\n",
       "      <td>...</td>\n",
       "      <td>176023490.0</td>\n",
       "      <td>Фонд кино</td>\n",
       "      <td>5.3</td>\n",
       "      <td>комедия,фантастика</td>\n",
       "      <td>19957031.5</td>\n",
       "      <td>2013</td>\n",
       "      <td>Р.Давлетьяров</td>\n",
       "      <td>комедия</td>\n",
       "      <td>61.0</td>\n",
       "      <td>12+</td>\n",
       "    </tr>\n",
       "    <tr>\n",
       "      <th>1523</th>\n",
       "      <td>БЕРЦЫ</td>\n",
       "      <td>111004314</td>\n",
       "      <td>2014-05-05 12:00:00+00:00</td>\n",
       "      <td>Художественный</td>\n",
       "      <td>ООО \"Студия \"Пассажир\"</td>\n",
       "      <td>Россия</td>\n",
       "      <td>Е.Миндадзе (псевдоним Катя Шагалова)</td>\n",
       "      <td>Л.Антонова</td>\n",
       "      <td>«16+» - для детей старше 16 лет</td>\n",
       "      <td>0.0</td>\n",
       "      <td>...</td>\n",
       "      <td>40574140.0</td>\n",
       "      <td>Министерство культуры</td>\n",
       "      <td>4.2</td>\n",
       "      <td>драма</td>\n",
       "      <td>55917.5</td>\n",
       "      <td>2014</td>\n",
       "      <td>Е.Миндадзе (псевдоним Катя Шагалова)</td>\n",
       "      <td>драма</td>\n",
       "      <td>69.0</td>\n",
       "      <td>16+</td>\n",
       "    </tr>\n",
       "    <tr>\n",
       "      <th>1791</th>\n",
       "      <td>Братья Ч</td>\n",
       "      <td>111004414</td>\n",
       "      <td>2014-04-23 12:00:00+00:00</td>\n",
       "      <td>Художественный</td>\n",
       "      <td>ООО \"Студия \"Пассажир\"</td>\n",
       "      <td>Россия</td>\n",
       "      <td>М.Угаров</td>\n",
       "      <td>А.Миндадзе, Л.Антонова</td>\n",
       "      <td>«16+» - для детей старше 16 лет</td>\n",
       "      <td>0.0</td>\n",
       "      <td>...</td>\n",
       "      <td>40015122.0</td>\n",
       "      <td>Министерство культуры</td>\n",
       "      <td>6.4</td>\n",
       "      <td>драма</td>\n",
       "      <td>232100.0</td>\n",
       "      <td>2014</td>\n",
       "      <td>М.Угаров</td>\n",
       "      <td>драма</td>\n",
       "      <td>62.0</td>\n",
       "      <td>16+</td>\n",
       "    </tr>\n",
       "  </tbody>\n",
       "</table>\n",
       "<p>5 rows × 21 columns</p>\n",
       "</div>"
      ],
      "text/plain": [
       "                    title   puNumber           show_start_date  \\\n",
       "1280        Пока еще жива  111005313 2013-10-11 12:00:00+00:00   \n",
       "1447  Бесславные придурки  111003314 2014-03-28 12:00:00+00:00   \n",
       "1497            Невидимки  111004213 2013-09-10 12:00:00+00:00   \n",
       "1523                БЕРЦЫ  111004314 2014-05-05 12:00:00+00:00   \n",
       "1791             Братья Ч  111004414 2014-04-23 12:00:00+00:00   \n",
       "\n",
       "                type                                        film_studio  \\\n",
       "1280  Художественный  АНО содействия развитию кинематографии \"Ангел-...   \n",
       "1447  Художественный                         ООО \"Компания \"АТК-Студио\"   \n",
       "1497  Художественный                        ООО \"Компания \"РЕАЛ-ДАКОТА\"   \n",
       "1523  Художественный                             ООО \"Студия \"Пассажир\"   \n",
       "1791  Художественный                             ООО \"Студия \"Пассажир\"   \n",
       "\n",
       "     production_country                              director  \\\n",
       "1280             Россия                            А.Атанесян   \n",
       "1447             Россия                             А.Якимчук   \n",
       "1497             Россия              Р.Давлетьяров, С.Комаров   \n",
       "1523             Россия  Е.Миндадзе (псевдоним Катя Шагалова)   \n",
       "1791             Россия                              М.Угаров   \n",
       "\n",
       "                                       producer  \\\n",
       "1280           А.Атанесян, М.Бабаханов, Р.Бутко   \n",
       "1447                                 А.Тютрюмов   \n",
       "1497  Р.Давлетьяров, А.Котелевский, А.Олейников   \n",
       "1523                                 Л.Антонова   \n",
       "1791                     А.Миндадзе, Л.Антонова   \n",
       "\n",
       "                      age_restriction  refundable_support  ...       budget  \\\n",
       "1280  «16+» - для детей старше 16 лет                 0.0  ...   79411900.0   \n",
       "1447  «12+» - для детей старше 12 лет                 0.0  ...   37142857.0   \n",
       "1497  «12+» - для детей старше 12 лет                 0.0  ...  176023490.0   \n",
       "1523  «16+» - для детей старше 16 лет                 0.0  ...   40574140.0   \n",
       "1791  «16+» - для детей старше 16 лет                 0.0  ...   40015122.0   \n",
       "\n",
       "           financing_source ratings              genres  box_office  year  \\\n",
       "1280  Министерство культуры     8.1     драма,мелодрама    365353.6  2013   \n",
       "1447  Министерство культуры     6.6                   -     28140.0  2014   \n",
       "1497              Фонд кино     5.3  комедия,фантастика  19957031.5  2013   \n",
       "1523  Министерство культуры     4.2               драма     55917.5  2014   \n",
       "1791  Министерство культуры     6.4               драма    232100.0  2014   \n",
       "\n",
       "                             main_director main_genre percentage_govsupport  \\\n",
       "1280                            А.Атанесян      драма                  33.0   \n",
       "1447                             А.Якимчук          -                  70.0   \n",
       "1497                         Р.Давлетьяров    комедия                  61.0   \n",
       "1523  Е.Миндадзе (псевдоним Катя Шагалова)      драма                  69.0   \n",
       "1791                              М.Угаров      драма                  62.0   \n",
       "\n",
       "      age_restriction_short  \n",
       "1280                    16+  \n",
       "1447                    12+  \n",
       "1497                    12+  \n",
       "1523                    16+  \n",
       "1791                    16+  \n",
       "\n",
       "[5 rows x 21 columns]"
      ]
     },
     "metadata": {},
     "output_type": "display_data"
    }
   ],
   "source": [
    "data_with_govsupport = data[~data['budget'].isna()]\n",
    "display(data_with_govsupport.head());"
   ]
  },
  {
   "cell_type": "code",
   "execution_count": 569,
   "metadata": {
    "scrolled": false
   },
   "outputs": [
    {
     "name": "stderr",
     "output_type": "stream",
     "text": [
      "/var/folders/xb/7z__00hx2gz_xv0wtqtkzsmr0000gn/T/ipykernel_35756/3471873979.py:1: SettingWithCopyWarning: \n",
      "A value is trying to be set on a copy of a slice from a DataFrame.\n",
      "Try using .loc[row_indexer,col_indexer] = value instead\n",
      "\n",
      "See the caveats in the documentation: https://pandas.pydata.org/pandas-docs/stable/user_guide/indexing.html#returning-a-view-versus-a-copy\n",
      "  data_with_govsupport['sum_support'] = data_with_govsupport['refundable_support']-data_with_govsupport['nonrefundable_support']\n",
      "/var/folders/xb/7z__00hx2gz_xv0wtqtkzsmr0000gn/T/ipykernel_35756/3471873979.py:2: SettingWithCopyWarning: \n",
      "A value is trying to be set on a copy of a slice from a DataFrame.\n",
      "Try using .loc[row_indexer,col_indexer] = value instead\n",
      "\n",
      "See the caveats in the documentation: https://pandas.pydata.org/pandas-docs/stable/user_guide/indexing.html#returning-a-view-versus-a-copy\n",
      "  data_with_govsupport['income'] = data_with_govsupport['box_office']-data_with_govsupport['budget']\n"
     ]
    },
    {
     "data": {
      "text/html": [
       "<div>\n",
       "<style scoped>\n",
       "    .dataframe tbody tr th:only-of-type {\n",
       "        vertical-align: middle;\n",
       "    }\n",
       "\n",
       "    .dataframe tbody tr th {\n",
       "        vertical-align: top;\n",
       "    }\n",
       "\n",
       "    .dataframe thead th {\n",
       "        text-align: right;\n",
       "    }\n",
       "</style>\n",
       "<table border=\"1\" class=\"dataframe\">\n",
       "  <thead>\n",
       "    <tr style=\"text-align: right;\">\n",
       "      <th></th>\n",
       "      <th>title</th>\n",
       "      <th>puNumber</th>\n",
       "      <th>show_start_date</th>\n",
       "      <th>type</th>\n",
       "      <th>film_studio</th>\n",
       "      <th>production_country</th>\n",
       "      <th>director</th>\n",
       "      <th>producer</th>\n",
       "      <th>age_restriction</th>\n",
       "      <th>refundable_support</th>\n",
       "      <th>...</th>\n",
       "      <th>ratings</th>\n",
       "      <th>genres</th>\n",
       "      <th>box_office</th>\n",
       "      <th>year</th>\n",
       "      <th>main_director</th>\n",
       "      <th>main_genre</th>\n",
       "      <th>percentage_govsupport</th>\n",
       "      <th>age_restriction_short</th>\n",
       "      <th>sum_support</th>\n",
       "      <th>income</th>\n",
       "    </tr>\n",
       "  </thead>\n",
       "  <tbody>\n",
       "    <tr>\n",
       "      <th>1280</th>\n",
       "      <td>Пока еще жива</td>\n",
       "      <td>111005313</td>\n",
       "      <td>2013-10-11 12:00:00+00:00</td>\n",
       "      <td>Художественный</td>\n",
       "      <td>АНО содействия развитию кинематографии \"Ангел-...</td>\n",
       "      <td>Россия</td>\n",
       "      <td>А.Атанесян</td>\n",
       "      <td>А.Атанесян, М.Бабаханов, Р.Бутко</td>\n",
       "      <td>«16+» - для детей старше 16 лет</td>\n",
       "      <td>0.0</td>\n",
       "      <td>...</td>\n",
       "      <td>8.1</td>\n",
       "      <td>драма,мелодрама</td>\n",
       "      <td>365353.6</td>\n",
       "      <td>2013</td>\n",
       "      <td>А.Атанесян</td>\n",
       "      <td>драма</td>\n",
       "      <td>33.0</td>\n",
       "      <td>16+</td>\n",
       "      <td>-26500000.0</td>\n",
       "      <td>-79046546.4</td>\n",
       "    </tr>\n",
       "    <tr>\n",
       "      <th>1447</th>\n",
       "      <td>Бесславные придурки</td>\n",
       "      <td>111003314</td>\n",
       "      <td>2014-03-28 12:00:00+00:00</td>\n",
       "      <td>Художественный</td>\n",
       "      <td>ООО \"Компания \"АТК-Студио\"</td>\n",
       "      <td>Россия</td>\n",
       "      <td>А.Якимчук</td>\n",
       "      <td>А.Тютрюмов</td>\n",
       "      <td>«12+» - для детей старше 12 лет</td>\n",
       "      <td>0.0</td>\n",
       "      <td>...</td>\n",
       "      <td>6.6</td>\n",
       "      <td>-</td>\n",
       "      <td>28140.0</td>\n",
       "      <td>2014</td>\n",
       "      <td>А.Якимчук</td>\n",
       "      <td>-</td>\n",
       "      <td>70.0</td>\n",
       "      <td>12+</td>\n",
       "      <td>-26000000.0</td>\n",
       "      <td>-37114717.0</td>\n",
       "    </tr>\n",
       "    <tr>\n",
       "      <th>1497</th>\n",
       "      <td>Невидимки</td>\n",
       "      <td>111004213</td>\n",
       "      <td>2013-09-10 12:00:00+00:00</td>\n",
       "      <td>Художественный</td>\n",
       "      <td>ООО \"Компания \"РЕАЛ-ДАКОТА\"</td>\n",
       "      <td>Россия</td>\n",
       "      <td>Р.Давлетьяров, С.Комаров</td>\n",
       "      <td>Р.Давлетьяров, А.Котелевский, А.Олейников</td>\n",
       "      <td>«12+» - для детей старше 12 лет</td>\n",
       "      <td>0.0</td>\n",
       "      <td>...</td>\n",
       "      <td>5.3</td>\n",
       "      <td>комедия,фантастика</td>\n",
       "      <td>19957031.5</td>\n",
       "      <td>2013</td>\n",
       "      <td>Р.Давлетьяров</td>\n",
       "      <td>комедия</td>\n",
       "      <td>61.0</td>\n",
       "      <td>12+</td>\n",
       "      <td>-107847945.0</td>\n",
       "      <td>-156066458.5</td>\n",
       "    </tr>\n",
       "    <tr>\n",
       "      <th>1523</th>\n",
       "      <td>БЕРЦЫ</td>\n",
       "      <td>111004314</td>\n",
       "      <td>2014-05-05 12:00:00+00:00</td>\n",
       "      <td>Художественный</td>\n",
       "      <td>ООО \"Студия \"Пассажир\"</td>\n",
       "      <td>Россия</td>\n",
       "      <td>Е.Миндадзе (псевдоним Катя Шагалова)</td>\n",
       "      <td>Л.Антонова</td>\n",
       "      <td>«16+» - для детей старше 16 лет</td>\n",
       "      <td>0.0</td>\n",
       "      <td>...</td>\n",
       "      <td>4.2</td>\n",
       "      <td>драма</td>\n",
       "      <td>55917.5</td>\n",
       "      <td>2014</td>\n",
       "      <td>Е.Миндадзе (псевдоним Катя Шагалова)</td>\n",
       "      <td>драма</td>\n",
       "      <td>69.0</td>\n",
       "      <td>16+</td>\n",
       "      <td>-28000000.0</td>\n",
       "      <td>-40518222.5</td>\n",
       "    </tr>\n",
       "    <tr>\n",
       "      <th>1791</th>\n",
       "      <td>Братья Ч</td>\n",
       "      <td>111004414</td>\n",
       "      <td>2014-04-23 12:00:00+00:00</td>\n",
       "      <td>Художественный</td>\n",
       "      <td>ООО \"Студия \"Пассажир\"</td>\n",
       "      <td>Россия</td>\n",
       "      <td>М.Угаров</td>\n",
       "      <td>А.Миндадзе, Л.Антонова</td>\n",
       "      <td>«16+» - для детей старше 16 лет</td>\n",
       "      <td>0.0</td>\n",
       "      <td>...</td>\n",
       "      <td>6.4</td>\n",
       "      <td>драма</td>\n",
       "      <td>232100.0</td>\n",
       "      <td>2014</td>\n",
       "      <td>М.Угаров</td>\n",
       "      <td>драма</td>\n",
       "      <td>62.0</td>\n",
       "      <td>16+</td>\n",
       "      <td>-25000000.0</td>\n",
       "      <td>-39783022.0</td>\n",
       "    </tr>\n",
       "  </tbody>\n",
       "</table>\n",
       "<p>5 rows × 23 columns</p>\n",
       "</div>"
      ],
      "text/plain": [
       "                    title   puNumber           show_start_date  \\\n",
       "1280        Пока еще жива  111005313 2013-10-11 12:00:00+00:00   \n",
       "1447  Бесславные придурки  111003314 2014-03-28 12:00:00+00:00   \n",
       "1497            Невидимки  111004213 2013-09-10 12:00:00+00:00   \n",
       "1523                БЕРЦЫ  111004314 2014-05-05 12:00:00+00:00   \n",
       "1791             Братья Ч  111004414 2014-04-23 12:00:00+00:00   \n",
       "\n",
       "                type                                        film_studio  \\\n",
       "1280  Художественный  АНО содействия развитию кинематографии \"Ангел-...   \n",
       "1447  Художественный                         ООО \"Компания \"АТК-Студио\"   \n",
       "1497  Художественный                        ООО \"Компания \"РЕАЛ-ДАКОТА\"   \n",
       "1523  Художественный                             ООО \"Студия \"Пассажир\"   \n",
       "1791  Художественный                             ООО \"Студия \"Пассажир\"   \n",
       "\n",
       "     production_country                              director  \\\n",
       "1280             Россия                            А.Атанесян   \n",
       "1447             Россия                             А.Якимчук   \n",
       "1497             Россия              Р.Давлетьяров, С.Комаров   \n",
       "1523             Россия  Е.Миндадзе (псевдоним Катя Шагалова)   \n",
       "1791             Россия                              М.Угаров   \n",
       "\n",
       "                                       producer  \\\n",
       "1280           А.Атанесян, М.Бабаханов, Р.Бутко   \n",
       "1447                                 А.Тютрюмов   \n",
       "1497  Р.Давлетьяров, А.Котелевский, А.Олейников   \n",
       "1523                                 Л.Антонова   \n",
       "1791                     А.Миндадзе, Л.Антонова   \n",
       "\n",
       "                      age_restriction  refundable_support  ...  ratings  \\\n",
       "1280  «16+» - для детей старше 16 лет                 0.0  ...      8.1   \n",
       "1447  «12+» - для детей старше 12 лет                 0.0  ...      6.6   \n",
       "1497  «12+» - для детей старше 12 лет                 0.0  ...      5.3   \n",
       "1523  «16+» - для детей старше 16 лет                 0.0  ...      4.2   \n",
       "1791  «16+» - для детей старше 16 лет                 0.0  ...      6.4   \n",
       "\n",
       "                  genres  box_office  year  \\\n",
       "1280     драма,мелодрама    365353.6  2013   \n",
       "1447                   -     28140.0  2014   \n",
       "1497  комедия,фантастика  19957031.5  2013   \n",
       "1523               драма     55917.5  2014   \n",
       "1791               драма    232100.0  2014   \n",
       "\n",
       "                             main_director  main_genre  percentage_govsupport  \\\n",
       "1280                            А.Атанесян       драма                   33.0   \n",
       "1447                             А.Якимчук           -                   70.0   \n",
       "1497                         Р.Давлетьяров     комедия                   61.0   \n",
       "1523  Е.Миндадзе (псевдоним Катя Шагалова)       драма                   69.0   \n",
       "1791                              М.Угаров       драма                   62.0   \n",
       "\n",
       "     age_restriction_short  sum_support       income  \n",
       "1280                   16+  -26500000.0  -79046546.4  \n",
       "1447                   12+  -26000000.0  -37114717.0  \n",
       "1497                   12+ -107847945.0 -156066458.5  \n",
       "1523                   16+  -28000000.0  -40518222.5  \n",
       "1791                   16+  -25000000.0  -39783022.0  \n",
       "\n",
       "[5 rows x 23 columns]"
      ]
     },
     "execution_count": 569,
     "metadata": {},
     "output_type": "execute_result"
    }
   ],
   "source": [
    "data_with_govsupport['sum_support'] = data_with_govsupport['refundable_support']-data_with_govsupport['nonrefundable_support']\n",
    "data_with_govsupport['income'] = data_with_govsupport['box_office']-data_with_govsupport['budget']\n",
    "data_with_govsupport.head()"
   ]
  },
  {
   "cell_type": "code",
   "execution_count": 570,
   "metadata": {
    "scrolled": false
   },
   "outputs": [
    {
     "data": {
      "text/plain": [
       "count    3.160000e+02\n",
       "mean     5.205385e+06\n",
       "std      3.199829e+08\n",
       "min     -1.971477e+09\n",
       "25%     -7.005076e+07\n",
       "50%     -4.006026e+07\n",
       "75%      2.709907e+06\n",
       "max      2.913569e+09\n",
       "Name: income, dtype: float64"
      ]
     },
     "execution_count": 570,
     "metadata": {},
     "output_type": "execute_result"
    }
   ],
   "source": [
    "data_with_govsupport['income'].describe()"
   ]
  },
  {
   "cell_type": "markdown",
   "metadata": {},
   "source": [
    "<div style=\"background: #B0E0E6; padding: 5px; border: 1px solid SteelBlue; border-radius: 5px;\">\n",
    "    \n",
    "Я создал отдельную таблицу с данными о финансируемых государством фильмах, так будет легче рассматривать. Добавил еще один столбец с чистой прибылью, то есть бюджет-общая прибыль, чтобы проверять окупается ли фильм."
   ]
  },
  {
   "cell_type": "code",
   "execution_count": 571,
   "metadata": {
    "scrolled": false
   },
   "outputs": [
    {
     "data": {
      "text/plain": [
       "<Axes: >"
      ]
     },
     "execution_count": 571,
     "metadata": {},
     "output_type": "execute_result"
    },
    {
     "data": {
      "image/png": "[encoded data removed]",
      "text/plain": [
       "<Figure size 1000x700 with 1 Axes>"
      ]
     },
     "metadata": {},
     "output_type": "display_data"
    }
   ],
   "source": [
    "data_with_govsupport.boxplot(column='income', figsize=(10,7))"
   ]
  },
  {
   "cell_type": "markdown",
   "metadata": {},
   "source": [
    "<div style=\"background: #B0E0E6; padding: 5px; border: 1px solid SteelBlue; border-radius: 5px;\">\n",
    "Из диаграммы размаха для нашего нового столбца видно, что в общем медианное значение стремится к отрицательным значениям, значит убытков за все время все-таки больше, но не на много. "
   ]
  },
  {
   "cell_type": "code",
   "execution_count": 572,
   "metadata": {
    "scrolled": true
   },
   "outputs": [
    {
     "name": "stdout",
     "output_type": "stream",
     "text": [
      "<class 'pandas.core.frame.DataFrame'>\n",
      "Int64Index: 329 entries, 1280 to 7476\n",
      "Data columns (total 23 columns):\n",
      " #   Column                 Non-Null Count  Dtype              \n",
      "---  ------                 --------------  -----              \n",
      " 0   title                  329 non-null    object             \n",
      " 1   puNumber               329 non-null    int64              \n",
      " 2   show_start_date        329 non-null    datetime64[ns, UTC]\n",
      " 3   type                   329 non-null    object             \n",
      " 4   film_studio            329 non-null    object             \n",
      " 5   production_country     329 non-null    object             \n",
      " 6   director               329 non-null    object             \n",
      " 7   producer               329 non-null    object             \n",
      " 8   age_restriction        329 non-null    object             \n",
      " 9   refundable_support     329 non-null    float64            \n",
      " 10  nonrefundable_support  329 non-null    float64            \n",
      " 11  budget                 329 non-null    float64            \n",
      " 12  financing_source       329 non-null    object             \n",
      " 13  ratings                329 non-null    float64            \n",
      " 14  genres                 329 non-null    object             \n",
      " 15  box_office             316 non-null    float64            \n",
      " 16  year                   329 non-null    int64              \n",
      " 17  main_director          329 non-null    object             \n",
      " 18  main_genre             329 non-null    object             \n",
      " 19  percentage_govsupport  329 non-null    float64            \n",
      " 20  age_restriction_short  329 non-null    object             \n",
      " 21  sum_support            329 non-null    float64            \n",
      " 22  income                 316 non-null    float64            \n",
      "dtypes: datetime64[ns, UTC](1), float64(8), int64(2), object(12)\n",
      "memory usage: 61.7+ KB\n"
     ]
    }
   ],
   "source": [
    "data_with_govsupport.info()"
   ]
  },
  {
   "cell_type": "code",
   "execution_count": 573,
   "metadata": {},
   "outputs": [
    {
     "data": {
      "text/plain": [
       "array([7.2, 6.6, 6.8, 7.7, 8.3, 8. , 7.8, 8.1, 7.1, 6. , 7.4, 5.8, 8.7,\n",
       "       6.3, 6.9, 5. , 4.3, 7.3, 7. , 6.4, 8.2, 7.5, 6.7, 7.9, 5.9, 6.2,\n",
       "       5.6, 6.5, 2.4, 7.6, 6.1, 8.6, 8.5, 8.8, 5.5, 5.1, 5.7, 5.4, 9.9,\n",
       "       4.4, 4.5, 5.3, 4.1, 8.4, 2.6, 3.8, 4.6, 4.8, 4. , 3. , 1.6, 4.2,\n",
       "       5.2, 4.7, 4.9, 3.9, 2.7, 3.3, 2.9, 2.8, 3.7, 1.4, 3.1, 9.7, 3.5,\n",
       "       3.2, 1.5, 2.1, 2.5, 9.2, 3.4, 1.1, 3.6, 9.1, 9.4, 9. , 1.9, 1. ,\n",
       "       8.9, 1.3, 1.8, 1.2, 1.7, 9.8])"
      ]
     },
     "execution_count": 573,
     "metadata": {},
     "output_type": "execute_result"
    }
   ],
   "source": [
    "data['ratings'].unique()"
   ]
  },
  {
   "cell_type": "code",
   "execution_count": 574,
   "metadata": {
    "scrolled": true
   },
   "outputs": [
    {
     "data": {
      "text/plain": [
       "<Axes: xlabel='year'>"
      ]
     },
     "metadata": {},
     "output_type": "display_data"
    },
    {
     "data": {
      "image/png": "[encoded data removed]",
      "text/plain": [
       "<Figure size 640x480 with 1 Axes>"
      ]
     },
     "metadata": {},
     "output_type": "display_data"
    }
   ],
   "source": [
    "year_sup=data_with_govsupport.pivot_table(index='year', \n",
    "                                           values=['income', 'ratings'],\n",
    "                                           aggfunc={'income':'sum', 'ratings':'mean'})\n",
    "display(year_sup['income'].plot())"
   ]
  },
  {
   "cell_type": "code",
   "execution_count": 575,
   "metadata": {},
   "outputs": [
    {
     "data": {
      "text/plain": [
       "<Axes: xlabel='year'>"
      ]
     },
     "metadata": {},
     "output_type": "display_data"
    },
    {
     "data": {
      "image/png": "[encoded data removed]",
      "text/plain": [
       "<Figure size 640x480 with 1 Axes>"
      ]
     },
     "metadata": {},
     "output_type": "display_data"
    }
   ],
   "source": [
    "display(year_sup['ratings'].plot())"
   ]
  },
  {
   "cell_type": "code",
   "execution_count": 576,
   "metadata": {},
   "outputs": [
    {
     "data": {
      "text/html": [
       "<div>\n",
       "<style scoped>\n",
       "    .dataframe tbody tr th:only-of-type {\n",
       "        vertical-align: middle;\n",
       "    }\n",
       "\n",
       "    .dataframe tbody tr th {\n",
       "        vertical-align: top;\n",
       "    }\n",
       "\n",
       "    .dataframe thead th {\n",
       "        text-align: right;\n",
       "    }\n",
       "</style>\n",
       "<table border=\"1\" class=\"dataframe\">\n",
       "  <thead>\n",
       "    <tr style=\"text-align: right;\">\n",
       "      <th></th>\n",
       "      <th>income</th>\n",
       "      <th>ratings</th>\n",
       "    </tr>\n",
       "    <tr>\n",
       "      <th>year</th>\n",
       "      <th></th>\n",
       "      <th></th>\n",
       "    </tr>\n",
       "  </thead>\n",
       "  <tbody>\n",
       "    <tr>\n",
       "      <th>2017</th>\n",
       "      <td>3.998503e+09</td>\n",
       "      <td>6.029268</td>\n",
       "    </tr>\n",
       "    <tr>\n",
       "      <th>2018</th>\n",
       "      <td>3.282374e+09</td>\n",
       "      <td>6.033929</td>\n",
       "    </tr>\n",
       "    <tr>\n",
       "      <th>2013</th>\n",
       "      <td>-2.351130e+08</td>\n",
       "      <td>6.700000</td>\n",
       "    </tr>\n",
       "    <tr>\n",
       "      <th>2014</th>\n",
       "      <td>-2.620626e+08</td>\n",
       "      <td>6.043750</td>\n",
       "    </tr>\n",
       "    <tr>\n",
       "      <th>2016</th>\n",
       "      <td>-1.128529e+09</td>\n",
       "      <td>5.737705</td>\n",
       "    </tr>\n",
       "    <tr>\n",
       "      <th>2015</th>\n",
       "      <td>-1.482385e+09</td>\n",
       "      <td>6.155814</td>\n",
       "    </tr>\n",
       "    <tr>\n",
       "      <th>2019</th>\n",
       "      <td>-2.527886e+09</td>\n",
       "      <td>6.191045</td>\n",
       "    </tr>\n",
       "  </tbody>\n",
       "</table>\n",
       "</div>"
      ],
      "text/plain": [
       "            income   ratings\n",
       "year                        \n",
       "2017  3.998503e+09  6.029268\n",
       "2018  3.282374e+09  6.033929\n",
       "2013 -2.351130e+08  6.700000\n",
       "2014 -2.620626e+08  6.043750\n",
       "2016 -1.128529e+09  5.737705\n",
       "2015 -1.482385e+09  6.155814\n",
       "2019 -2.527886e+09  6.191045"
      ]
     },
     "metadata": {},
     "output_type": "display_data"
    }
   ],
   "source": [
    "year_sup=year_sup.sort_values('income', ascending=False)\n",
    "display(year_sup)"
   ]
  },
  {
   "cell_type": "code",
   "execution_count": 577,
   "metadata": {
    "scrolled": true
   },
   "outputs": [
    {
     "data": {
      "text/plain": [
       "count    7.000000\n",
       "mean     6.127359\n",
       "std      0.291535\n",
       "min      5.737705\n",
       "25%      6.031598\n",
       "50%      6.043750\n",
       "75%      6.173429\n",
       "max      6.700000\n",
       "Name: ratings, dtype: float64"
      ]
     },
     "execution_count": 577,
     "metadata": {},
     "output_type": "execute_result"
    }
   ],
   "source": [
    "year_sup['ratings'].describe()"
   ]
  },
  {
   "cell_type": "markdown",
   "metadata": {},
   "source": [
    "<div style=\"background: #B0E0E6; padding: 5px; border: 1px solid SteelBlue; border-radius: 5px;\">\n",
    "Рассматривая прибыль по годам, можно заметить, что в 2017 году прибыль была максимальной, а в 2019 достигла минимума. Однако средний рейтинг фильмов к этому году стал подниматься после спада в 2016. Интересно, что минимальный рейтинг таких фильмов 5.7, а максимальный 6.7."
   ]
  },
  {
   "cell_type": "code",
   "execution_count": 578,
   "metadata": {
    "scrolled": false
   },
   "outputs": [
    {
     "data": {
      "text/html": [
       "<div>\n",
       "<style scoped>\n",
       "    .dataframe tbody tr th:only-of-type {\n",
       "        vertical-align: middle;\n",
       "    }\n",
       "\n",
       "    .dataframe tbody tr th {\n",
       "        vertical-align: top;\n",
       "    }\n",
       "\n",
       "    .dataframe thead th {\n",
       "        text-align: right;\n",
       "    }\n",
       "</style>\n",
       "<table border=\"1\" class=\"dataframe\">\n",
       "  <thead>\n",
       "    <tr style=\"text-align: right;\">\n",
       "      <th></th>\n",
       "      <th>income</th>\n",
       "      <th>ratings</th>\n",
       "    </tr>\n",
       "    <tr>\n",
       "      <th>main_genre</th>\n",
       "      <th></th>\n",
       "      <th></th>\n",
       "    </tr>\n",
       "  </thead>\n",
       "  <tbody>\n",
       "    <tr>\n",
       "      <th>комедия</th>\n",
       "      <td>6.714538e+09</td>\n",
       "      <td>5.514865</td>\n",
       "    </tr>\n",
       "    <tr>\n",
       "      <th>спорт</th>\n",
       "      <td>2.257299e+09</td>\n",
       "      <td>6.933333</td>\n",
       "    </tr>\n",
       "    <tr>\n",
       "      <th>-</th>\n",
       "      <td>5.865213e+08</td>\n",
       "      <td>6.600000</td>\n",
       "    </tr>\n",
       "    <tr>\n",
       "      <th>фантастика</th>\n",
       "      <td>4.691035e+08</td>\n",
       "      <td>6.190000</td>\n",
       "    </tr>\n",
       "    <tr>\n",
       "      <th>мультфильм</th>\n",
       "      <td>3.552207e+08</td>\n",
       "      <td>5.800000</td>\n",
       "    </tr>\n",
       "    <tr>\n",
       "      <th>ужасы</th>\n",
       "      <td>1.462456e+08</td>\n",
       "      <td>5.200000</td>\n",
       "    </tr>\n",
       "    <tr>\n",
       "      <th>боевик</th>\n",
       "      <td>-7.507873e+06</td>\n",
       "      <td>6.583333</td>\n",
       "    </tr>\n",
       "    <tr>\n",
       "      <th>биография</th>\n",
       "      <td>-1.205060e+07</td>\n",
       "      <td>6.900000</td>\n",
       "    </tr>\n",
       "    <tr>\n",
       "      <th>семейный</th>\n",
       "      <td>-1.937504e+07</td>\n",
       "      <td>5.414286</td>\n",
       "    </tr>\n",
       "    <tr>\n",
       "      <th>реальное ТВ</th>\n",
       "      <td>-4.727890e+07</td>\n",
       "      <td>5.600000</td>\n",
       "    </tr>\n",
       "    <tr>\n",
       "      <th>детский</th>\n",
       "      <td>-1.362844e+08</td>\n",
       "      <td>7.125000</td>\n",
       "    </tr>\n",
       "    <tr>\n",
       "      <th>криминал</th>\n",
       "      <td>-1.868009e+08</td>\n",
       "      <td>7.500000</td>\n",
       "    </tr>\n",
       "    <tr>\n",
       "      <th>военный</th>\n",
       "      <td>-2.682364e+08</td>\n",
       "      <td>6.466667</td>\n",
       "    </tr>\n",
       "    <tr>\n",
       "      <th>мюзикл</th>\n",
       "      <td>-4.624925e+08</td>\n",
       "      <td>6.550000</td>\n",
       "    </tr>\n",
       "    <tr>\n",
       "      <th>триллер</th>\n",
       "      <td>-5.905107e+08</td>\n",
       "      <td>5.706667</td>\n",
       "    </tr>\n",
       "    <tr>\n",
       "      <th>история</th>\n",
       "      <td>-6.895940e+08</td>\n",
       "      <td>5.350000</td>\n",
       "    </tr>\n",
       "    <tr>\n",
       "      <th>мелодрама</th>\n",
       "      <td>-8.022164e+08</td>\n",
       "      <td>5.953333</td>\n",
       "    </tr>\n",
       "    <tr>\n",
       "      <th>детектив</th>\n",
       "      <td>-1.059675e+09</td>\n",
       "      <td>6.760000</td>\n",
       "    </tr>\n",
       "    <tr>\n",
       "      <th>драма</th>\n",
       "      <td>-1.192190e+09</td>\n",
       "      <td>6.404348</td>\n",
       "    </tr>\n",
       "    <tr>\n",
       "      <th>фэнтези</th>\n",
       "      <td>-1.298546e+09</td>\n",
       "      <td>6.170000</td>\n",
       "    </tr>\n",
       "    <tr>\n",
       "      <th>приключения</th>\n",
       "      <td>-2.111269e+09</td>\n",
       "      <td>5.871429</td>\n",
       "    </tr>\n",
       "  </tbody>\n",
       "</table>\n",
       "</div>"
      ],
      "text/plain": [
       "                   income   ratings\n",
       "main_genre                         \n",
       "комедия      6.714538e+09  5.514865\n",
       "спорт        2.257299e+09  6.933333\n",
       "-            5.865213e+08  6.600000\n",
       "фантастика   4.691035e+08  6.190000\n",
       "мультфильм   3.552207e+08  5.800000\n",
       "ужасы        1.462456e+08  5.200000\n",
       "боевик      -7.507873e+06  6.583333\n",
       "биография   -1.205060e+07  6.900000\n",
       "семейный    -1.937504e+07  5.414286\n",
       "реальное ТВ -4.727890e+07  5.600000\n",
       "детский     -1.362844e+08  7.125000\n",
       "криминал    -1.868009e+08  7.500000\n",
       "военный     -2.682364e+08  6.466667\n",
       "мюзикл      -4.624925e+08  6.550000\n",
       "триллер     -5.905107e+08  5.706667\n",
       "история     -6.895940e+08  5.350000\n",
       "мелодрама   -8.022164e+08  5.953333\n",
       "детектив    -1.059675e+09  6.760000\n",
       "драма       -1.192190e+09  6.404348\n",
       "фэнтези     -1.298546e+09  6.170000\n",
       "приключения -2.111269e+09  5.871429"
      ]
     },
     "metadata": {},
     "output_type": "display_data"
    }
   ],
   "source": [
    "genre_sup=data_with_govsupport.pivot_table(index='main_genre', \n",
    "                                           values=['income', 'ratings'],\n",
    "                                           aggfunc={'income':'sum', 'ratings':'mean'})\n",
    "genre_sup=genre_sup.sort_values('income', ascending=False)\n",
    "display(genre_sup)"
   ]
  },
  {
   "cell_type": "code",
   "execution_count": 579,
   "metadata": {
    "scrolled": true
   },
   "outputs": [
    {
     "data": {
      "text/plain": [
       "count    21.000000\n",
       "mean      6.218727\n",
       "std       0.638921\n",
       "min       5.200000\n",
       "25%       5.706667\n",
       "50%       6.190000\n",
       "75%       6.600000\n",
       "max       7.500000\n",
       "Name: ratings, dtype: float64"
      ]
     },
     "execution_count": 579,
     "metadata": {},
     "output_type": "execute_result"
    }
   ],
   "source": [
    "genre_sup['ratings'].describe()"
   ]
  },
  {
   "cell_type": "markdown",
   "metadata": {},
   "source": [
    "<div style=\"background: #B0E0E6; padding: 5px; border: 1px solid SteelBlue; border-radius: 5px;\">\n",
    "Рассмотрел зависимость от жанра и выявил следующие закономерности:\n",
    "    \n",
    "* Больше всего прибыли получают с комедий\n",
    "    \n",
    "* Максимальный рейтинг у криминальных фильмов\n",
    "    \n",
    "* В общем прибыль получили от комедий, фильмов про спорт, фантастики, мультфильмов и ужасов"
   ]
  },
  {
   "cell_type": "code",
   "execution_count": 580,
   "metadata": {
    "scrolled": false
   },
   "outputs": [
    {
     "data": {
      "text/html": [
       "<div>\n",
       "<style scoped>\n",
       "    .dataframe tbody tr th:only-of-type {\n",
       "        vertical-align: middle;\n",
       "    }\n",
       "\n",
       "    .dataframe tbody tr th {\n",
       "        vertical-align: top;\n",
       "    }\n",
       "\n",
       "    .dataframe thead th {\n",
       "        text-align: right;\n",
       "    }\n",
       "</style>\n",
       "<table border=\"1\" class=\"dataframe\">\n",
       "  <thead>\n",
       "    <tr style=\"text-align: right;\">\n",
       "      <th></th>\n",
       "      <th>income</th>\n",
       "      <th>ratings</th>\n",
       "    </tr>\n",
       "    <tr>\n",
       "      <th>type</th>\n",
       "      <th></th>\n",
       "      <th></th>\n",
       "    </tr>\n",
       "  </thead>\n",
       "  <tbody>\n",
       "    <tr>\n",
       "      <th>Художественный</th>\n",
       "      <td>1.243357e+09</td>\n",
       "      <td>6.068350</td>\n",
       "    </tr>\n",
       "    <tr>\n",
       "      <th>Анимационный</th>\n",
       "      <td>4.015448e+08</td>\n",
       "      <td>5.777419</td>\n",
       "    </tr>\n",
       "    <tr>\n",
       "      <th>Документальный</th>\n",
       "      <td>0.000000e+00</td>\n",
       "      <td>8.000000</td>\n",
       "    </tr>\n",
       "  </tbody>\n",
       "</table>\n",
       "</div>"
      ],
      "text/plain": [
       "                      income   ratings\n",
       "type                                  \n",
       "Художественный  1.243357e+09  6.068350\n",
       "Анимационный    4.015448e+08  5.777419\n",
       "Документальный  0.000000e+00  8.000000"
      ]
     },
     "metadata": {},
     "output_type": "display_data"
    }
   ],
   "source": [
    "type_sup=data_with_govsupport.pivot_table(index='type', \n",
    "                                           values=['income', 'ratings'],\n",
    "                                           aggfunc={'income':'sum', 'ratings':'mean'})\n",
    "type_sup=type_sup.sort_values('income', ascending=False)\n",
    "display(type_sup)"
   ]
  },
  {
   "cell_type": "markdown",
   "metadata": {},
   "source": [
    "<div style=\"background: #B0E0E6; padding: 5px; border: 1px solid SteelBlue; border-radius: 5px;\">\n",
    "Рассматривая зависимость от типа, то здесь с художественных и анимационных фильмов получают прибыль, а вот с документальных почти нет. Однако документальные фильмы имеют наибольший средний рейтинг."
   ]
  },
  {
   "cell_type": "code",
   "execution_count": 581,
   "metadata": {
    "scrolled": true
   },
   "outputs": [
    {
     "data": {
      "text/html": [
       "<div>\n",
       "<style scoped>\n",
       "    .dataframe tbody tr th:only-of-type {\n",
       "        vertical-align: middle;\n",
       "    }\n",
       "\n",
       "    .dataframe tbody tr th {\n",
       "        vertical-align: top;\n",
       "    }\n",
       "\n",
       "    .dataframe thead th {\n",
       "        text-align: right;\n",
       "    }\n",
       "</style>\n",
       "<table border=\"1\" class=\"dataframe\">\n",
       "  <thead>\n",
       "    <tr style=\"text-align: right;\">\n",
       "      <th></th>\n",
       "      <th>income</th>\n",
       "      <th>ratings</th>\n",
       "    </tr>\n",
       "    <tr>\n",
       "      <th>age_restriction_short</th>\n",
       "      <th></th>\n",
       "      <th></th>\n",
       "    </tr>\n",
       "  </thead>\n",
       "  <tbody>\n",
       "    <tr>\n",
       "      <th>12+</th>\n",
       "      <td>6.068078e+09</td>\n",
       "      <td>6.068269</td>\n",
       "    </tr>\n",
       "    <tr>\n",
       "      <th>6+</th>\n",
       "      <td>1.063085e+09</td>\n",
       "      <td>5.989231</td>\n",
       "    </tr>\n",
       "    <tr>\n",
       "      <th>0+</th>\n",
       "      <td>-2.537458e+08</td>\n",
       "      <td>6.437500</td>\n",
       "    </tr>\n",
       "    <tr>\n",
       "      <th>18+</th>\n",
       "      <td>-1.690678e+09</td>\n",
       "      <td>6.289286</td>\n",
       "    </tr>\n",
       "    <tr>\n",
       "      <th>16+</th>\n",
       "      <td>-3.541838e+09</td>\n",
       "      <td>5.979032</td>\n",
       "    </tr>\n",
       "  </tbody>\n",
       "</table>\n",
       "</div>"
      ],
      "text/plain": [
       "                             income   ratings\n",
       "age_restriction_short                        \n",
       "12+                    6.068078e+09  6.068269\n",
       "6+                     1.063085e+09  5.989231\n",
       "0+                    -2.537458e+08  6.437500\n",
       "18+                   -1.690678e+09  6.289286\n",
       "16+                   -3.541838e+09  5.979032"
      ]
     },
     "metadata": {},
     "output_type": "display_data"
    }
   ],
   "source": [
    "age_sup=data_with_govsupport.pivot_table(index='age_restriction_short', \n",
    "                                           values=['income', 'ratings'],\n",
    "                                           aggfunc={'income':'sum', 'ratings':'mean'})\n",
    "age_sup=age_sup.sort_values('income', ascending=False)\n",
    "display(age_sup)"
   ]
  },
  {
   "cell_type": "markdown",
   "metadata": {},
   "source": [
    "<div style=\"background: #B0E0E6; padding: 5px; border: 1px solid SteelBlue; border-radius: 5px;\">\n",
    "Фильмы с категориями \"12+\" и \"6+\" окупились в общем. А вот фильмы без возрастных ограничений имеют наибольший рейтинг."
   ]
  },
  {
   "cell_type": "code",
   "execution_count": 582,
   "metadata": {},
   "outputs": [
    {
     "data": {
      "text/plain": [
       "6.046808510638298"
      ]
     },
     "execution_count": 582,
     "metadata": {},
     "output_type": "execute_result"
    }
   ],
   "source": [
    "data_with_govsupport['ratings'].mean()"
   ]
  },
  {
   "cell_type": "markdown",
   "metadata": {
    "id": "V2gYwMcPgFyd"
   },
   "source": [
    "### Общий вывод"
   ]
  },
  {
   "cell_type": "markdown",
   "metadata": {},
   "source": [
    "Я сделал предобработку данных и рассмотрел рынок российского кинопроката. Выявил следующие зависимости:\n",
    "\n",
    "Предобработка:\n",
    " \n",
    "*Если не заполнен \"budget\", то есть фильмы без господдержки по условию, то не заполнены и \"refundable_support\" с \"nonrefundable_support\".\n",
    "* Дубликаты: например 'Франция - США' и 'США - Франция'. Кроме того страны записаны через \",\" и через \"-\".Аналогичную перестановку можно заметить в 'genres': 'комедия,драма' и 'драма,комедия'... В \"director\" иногда записаны имена и фамилии полностью, иногда сокращенно: 'Т.Бекмамбетов', 'Тимур Бекмамбетов'.\n",
    "* Интересно, что в 'box_office' есть нулевые значения, возможно эти фильмы просто не показывали в России.\n",
    "\n",
    "Анализ:\n",
    "\n",
    "* Общая доля фильмов в прокате: 0.4219668626402993\n",
    "* Максимальная сумма сборов была в 2018, минимальная в 2010. На графике можно увидеть рост максимальных сборов за фильм.\n",
    "* Больше всего прибыли получили в прокате фильмы \"16+\", меньше всего фильмы без возрастных ограничений.\n",
    "* В 2017-2018 годах все фильмы с господдержкой окупились. А в 2019 были уже убытки.\n",
    "* Больше всего прибыли получают фильмы с господдержкой с жанром комедии. Но вот максимальный рейтинг у криминальных фильмов.\n",
    "* Фильмы с господдержкой с категориями \"12+\" и \"6+\" окупились в общем. А вот фильмы без возрастных ограничений имеют наибольший рейтинг.\n",
    "\n",
    "Таким образом, можно сделать вывод, что фильмы созданные при господдержки неплохие и в целом нравятся зрителям, ведь средний рейтинг таких фильмов 6.05. Однако, есть категории и жанры, с которыми можно поработать поусерднее, вложить больше капитала или привлечь интересных режисеров, чтобы поднять рейтинги и увеличить окупаемость фильмов. \n"
   ]
  }
 ],
 "metadata": {
  "ExecuteTimeLog": [
   {
    "duration": 537,
    "start_time": "2021-07-07T10:12:08.634Z"
   },
   {
    "duration": 206,
    "start_time": "2021-07-07T10:12:30.191Z"
   },
   {
    "duration": 227,
    "start_time": "2021-07-07T10:12:33.078Z"
   },
   {
    "duration": 153,
    "start_time": "2021-07-07T10:13:42.146Z"
   },
   {
    "duration": 233,
    "start_time": "2021-07-07T10:30:09.252Z"
   },
   {
    "duration": 19,
    "start_time": "2021-07-07T10:30:15.577Z"
   },
   {
    "duration": 18,
    "start_time": "2021-07-07T10:30:57.348Z"
   },
   {
    "duration": 19,
    "start_time": "2021-07-07T10:31:17.452Z"
   },
   {
    "duration": 21,
    "start_time": "2021-07-07T10:31:32.227Z"
   },
   {
    "duration": 27,
    "start_time": "2021-07-07T10:32:06.588Z"
   },
   {
    "duration": 23,
    "start_time": "2021-07-07T10:32:43.645Z"
   },
   {
    "duration": 24,
    "start_time": "2021-07-07T10:33:06.948Z"
   },
   {
    "duration": 7,
    "start_time": "2021-07-07T10:33:28.558Z"
   },
   {
    "duration": 23,
    "start_time": "2021-07-07T10:33:43.761Z"
   },
   {
    "duration": 28,
    "start_time": "2021-07-07T10:34:13.466Z"
   },
   {
    "duration": 23,
    "start_time": "2021-07-07T10:35:56.187Z"
   },
   {
    "duration": 6,
    "start_time": "2021-07-07T10:36:48.182Z"
   },
   {
    "duration": 14,
    "start_time": "2021-07-07T10:37:49.641Z"
   },
   {
    "duration": 6,
    "start_time": "2021-07-07T10:38:06.694Z"
   },
   {
    "duration": 6,
    "start_time": "2021-07-07T10:38:13.493Z"
   },
   {
    "duration": 19,
    "start_time": "2021-07-07T10:38:44.056Z"
   },
   {
    "duration": 186,
    "start_time": "2021-07-07T10:48:35.618Z"
   },
   {
    "duration": 24,
    "start_time": "2021-07-07T10:48:51.498Z"
   },
   {
    "duration": 20,
    "start_time": "2021-07-07T10:48:59.415Z"
   },
   {
    "duration": 20,
    "start_time": "2021-07-07T10:53:02.195Z"
   },
   {
    "duration": 188,
    "start_time": "2021-07-07T10:54:40.486Z"
   },
   {
    "duration": 115,
    "start_time": "2021-07-07T10:54:52.552Z"
   },
   {
    "duration": 214,
    "start_time": "2021-07-07T10:54:56.354Z"
   },
   {
    "duration": 47,
    "start_time": "2021-07-07T10:54:58.282Z"
   },
   {
    "duration": 217,
    "start_time": "2021-07-07T10:59:16.075Z"
   },
   {
    "duration": 51,
    "start_time": "2021-07-07T10:59:16.243Z"
   },
   {
    "duration": 578,
    "start_time": "2021-07-07T10:59:18.774Z"
   },
   {
    "duration": 161,
    "start_time": "2021-07-07T10:59:21.238Z"
   },
   {
    "duration": 59,
    "start_time": "2021-07-07T10:59:21.453Z"
   },
   {
    "duration": 3,
    "start_time": "2021-07-07T11:02:10.786Z"
   },
   {
    "duration": 13,
    "start_time": "2021-07-07T11:07:07.722Z"
   },
   {
    "duration": 26,
    "start_time": "2021-07-07T11:07:17.958Z"
   },
   {
    "duration": 22,
    "start_time": "2021-07-07T11:08:17.939Z"
   },
   {
    "duration": 212,
    "start_time": "2021-07-07T11:08:19.665Z"
   },
   {
    "duration": 21,
    "start_time": "2021-07-07T11:08:29.945Z"
   },
   {
    "duration": 31,
    "start_time": "2021-07-07T11:08:38.899Z"
   },
   {
    "duration": 23,
    "start_time": "2021-07-07T11:08:54.527Z"
   },
   {
    "duration": 8,
    "start_time": "2021-07-07T11:18:55.974Z"
   },
   {
    "duration": 7,
    "start_time": "2021-07-07T11:19:03.639Z"
   },
   {
    "duration": 7,
    "start_time": "2021-07-07T11:19:06.444Z"
   },
   {
    "duration": 578,
    "start_time": "2021-07-07T12:09:59.576Z"
   },
   {
    "duration": 195,
    "start_time": "2021-07-07T12:10:00.156Z"
   },
   {
    "duration": 115,
    "start_time": "2021-07-07T12:10:00.353Z"
   },
   {
    "duration": 3,
    "start_time": "2021-07-07T12:10:00.470Z"
   },
   {
    "duration": 32,
    "start_time": "2021-07-07T12:10:00.474Z"
   },
   {
    "duration": 23,
    "start_time": "2021-07-07T12:10:00.508Z"
   },
   {
    "duration": 19,
    "start_time": "2021-07-07T12:10:00.533Z"
   },
   {
    "duration": 44,
    "start_time": "2021-07-07T12:10:00.553Z"
   },
   {
    "duration": 7,
    "start_time": "2021-07-07T12:10:00.600Z"
   },
   {
    "duration": 7,
    "start_time": "2021-07-07T12:19:45.761Z"
   },
   {
    "duration": 21,
    "start_time": "2021-07-07T12:21:35.482Z"
   },
   {
    "duration": 21,
    "start_time": "2021-07-07T12:29:23.569Z"
   },
   {
    "duration": 525,
    "start_time": "2021-07-07T12:29:44.542Z"
   },
   {
    "duration": 214,
    "start_time": "2021-07-07T12:29:45.069Z"
   },
   {
    "duration": 92,
    "start_time": "2021-07-07T12:29:45.285Z"
   },
   {
    "duration": 3,
    "start_time": "2021-07-07T12:29:45.379Z"
   },
   {
    "duration": 28,
    "start_time": "2021-07-07T12:29:45.384Z"
   },
   {
    "duration": 23,
    "start_time": "2021-07-07T12:29:45.413Z"
   },
   {
    "duration": 21,
    "start_time": "2021-07-07T12:29:45.437Z"
   },
   {
    "duration": 41,
    "start_time": "2021-07-07T12:29:45.460Z"
   },
   {
    "duration": 7,
    "start_time": "2021-07-07T12:29:45.502Z"
   },
   {
    "duration": 20,
    "start_time": "2021-07-07T12:29:45.511Z"
   },
   {
    "duration": 12,
    "start_time": "2021-07-07T12:34:02.800Z"
   },
   {
    "duration": 7,
    "start_time": "2021-07-07T12:35:10.479Z"
   },
   {
    "duration": 8,
    "start_time": "2021-07-07T12:35:22.440Z"
   },
   {
    "duration": 6,
    "start_time": "2021-07-07T12:35:35.649Z"
   },
   {
    "duration": 6,
    "start_time": "2021-07-07T12:35:43.107Z"
   },
   {
    "duration": 22,
    "start_time": "2021-07-07T12:38:03.029Z"
   },
   {
    "duration": 10,
    "start_time": "2021-07-07T12:38:06.592Z"
   },
   {
    "duration": 563,
    "start_time": "2021-07-07T12:38:46.493Z"
   },
   {
    "duration": 265,
    "start_time": "2021-07-07T12:38:47.058Z"
   },
   {
    "duration": 94,
    "start_time": "2021-07-07T12:38:47.325Z"
   },
   {
    "duration": 3,
    "start_time": "2021-07-07T12:38:47.422Z"
   },
   {
    "duration": 30,
    "start_time": "2021-07-07T12:38:47.427Z"
   },
   {
    "duration": 16,
    "start_time": "2021-07-07T12:38:53.305Z"
   },
   {
    "duration": 10,
    "start_time": "2021-07-07T12:38:53.499Z"
   },
   {
    "duration": 8,
    "start_time": "2021-07-07T12:39:48.161Z"
   },
   {
    "duration": 27,
    "start_time": "2021-07-07T12:41:17.629Z"
   },
   {
    "duration": 17,
    "start_time": "2021-07-07T12:41:17.867Z"
   },
   {
    "duration": 21,
    "start_time": "2021-07-07T12:41:19.310Z"
   },
   {
    "duration": 7,
    "start_time": "2021-07-07T12:41:19.544Z"
   },
   {
    "duration": 20,
    "start_time": "2021-07-07T12:41:20.504Z"
   },
   {
    "duration": 554,
    "start_time": "2021-07-07T12:56:23.696Z"
   },
   {
    "duration": 200,
    "start_time": "2021-07-07T12:56:25.234Z"
   },
   {
    "duration": 119,
    "start_time": "2021-07-07T12:56:25.480Z"
   },
   {
    "duration": 4,
    "start_time": "2021-07-07T12:56:25.762Z"
   },
   {
    "duration": 26,
    "start_time": "2021-07-07T12:56:27.172Z"
   },
   {
    "duration": 12,
    "start_time": "2021-07-07T12:56:29.051Z"
   },
   {
    "duration": 10,
    "start_time": "2021-07-07T12:56:29.291Z"
   },
   {
    "duration": 8,
    "start_time": "2021-07-07T12:56:29.623Z"
   },
   {
    "duration": 28,
    "start_time": "2021-07-07T12:56:32.137Z"
   },
   {
    "duration": 19,
    "start_time": "2021-07-07T12:56:39.785Z"
   },
   {
    "duration": 20,
    "start_time": "2021-07-07T12:56:44.297Z"
   },
   {
    "duration": 7,
    "start_time": "2021-07-07T12:56:45.392Z"
   },
   {
    "duration": 23,
    "start_time": "2021-07-07T12:56:46.615Z"
   },
   {
    "duration": 4,
    "start_time": "2021-07-07T12:57:06.625Z"
   },
   {
    "duration": 32,
    "start_time": "2021-07-07T12:57:36.690Z"
   },
   {
    "duration": 18,
    "start_time": "2021-07-07T12:58:00.149Z"
   },
   {
    "duration": 15,
    "start_time": "2021-07-07T12:59:16.793Z"
   },
   {
    "duration": 7,
    "start_time": "2021-07-07T13:19:22.624Z"
   },
   {
    "duration": 6,
    "start_time": "2021-07-07T14:17:33.527Z"
   },
   {
    "duration": 9,
    "start_time": "2021-07-07T14:17:48.409Z"
   },
   {
    "duration": 8,
    "start_time": "2021-07-07T14:20:13.060Z"
   },
   {
    "duration": 8,
    "start_time": "2021-07-07T14:20:37.957Z"
   },
   {
    "duration": 8,
    "start_time": "2021-07-07T14:20:47.470Z"
   },
   {
    "duration": 9,
    "start_time": "2021-07-07T14:20:54.503Z"
   },
   {
    "duration": 10,
    "start_time": "2021-07-07T14:28:57.763Z"
   },
   {
    "duration": 3,
    "start_time": "2021-07-07T14:30:23.377Z"
   },
   {
    "duration": 3,
    "start_time": "2021-07-07T14:30:36.489Z"
   },
   {
    "duration": 103,
    "start_time": "2021-07-07T14:30:52.351Z"
   },
   {
    "duration": 8,
    "start_time": "2021-07-07T14:30:54.763Z"
   },
   {
    "duration": 8,
    "start_time": "2021-07-07T14:31:29.301Z"
   },
   {
    "duration": 13,
    "start_time": "2021-07-07T14:31:44.516Z"
   },
   {
    "duration": 7,
    "start_time": "2021-07-07T14:33:10.972Z"
   },
   {
    "duration": 11,
    "start_time": "2021-07-07T14:33:27.780Z"
   },
   {
    "duration": 8,
    "start_time": "2021-07-07T14:34:44.588Z"
   },
   {
    "duration": 57,
    "start_time": "2021-07-07T14:35:59.042Z"
   },
   {
    "duration": 3,
    "start_time": "2021-07-07T14:36:28.168Z"
   },
   {
    "duration": 5,
    "start_time": "2021-07-07T14:36:46.254Z"
   },
   {
    "duration": 4,
    "start_time": "2021-07-07T14:36:52.714Z"
   },
   {
    "duration": 3,
    "start_time": "2021-07-07T14:36:56.612Z"
   },
   {
    "duration": 4,
    "start_time": "2021-07-07T14:36:57.049Z"
   },
   {
    "duration": 3,
    "start_time": "2021-07-07T14:39:21.214Z"
   },
   {
    "duration": 7,
    "start_time": "2021-07-07T14:39:52.406Z"
   },
   {
    "duration": 11,
    "start_time": "2021-07-07T14:39:58.576Z"
   },
   {
    "duration": 9,
    "start_time": "2021-07-07T14:40:26.301Z"
   },
   {
    "duration": 10,
    "start_time": "2021-07-07T14:40:31.704Z"
   },
   {
    "duration": 11,
    "start_time": "2021-07-07T14:40:36.249Z"
   },
   {
    "duration": 10,
    "start_time": "2021-07-07T14:40:39.783Z"
   },
   {
    "duration": 9,
    "start_time": "2021-07-07T14:40:48.558Z"
   },
   {
    "duration": 10,
    "start_time": "2021-07-07T14:40:57.143Z"
   },
   {
    "duration": 9,
    "start_time": "2021-07-07T14:41:06.074Z"
   },
   {
    "duration": 4324,
    "start_time": "2021-07-07T14:41:22.004Z"
   },
   {
    "duration": 11,
    "start_time": "2021-07-07T14:41:33.392Z"
   },
   {
    "duration": 9,
    "start_time": "2021-07-07T14:41:39.288Z"
   },
   {
    "duration": 569,
    "start_time": "2021-07-07T14:42:14.387Z"
   },
   {
    "duration": 197,
    "start_time": "2021-07-07T14:42:14.959Z"
   },
   {
    "duration": 84,
    "start_time": "2021-07-07T14:42:16.052Z"
   },
   {
    "duration": 4,
    "start_time": "2021-07-07T14:42:16.900Z"
   },
   {
    "duration": 27,
    "start_time": "2021-07-07T14:42:19.898Z"
   },
   {
    "duration": 12,
    "start_time": "2021-07-07T14:42:21.577Z"
   },
   {
    "duration": 9,
    "start_time": "2021-07-07T14:42:21.813Z"
   },
   {
    "duration": 9,
    "start_time": "2021-07-07T14:42:22.569Z"
   },
   {
    "duration": 29,
    "start_time": "2021-07-07T14:42:25.837Z"
   },
   {
    "duration": 20,
    "start_time": "2021-07-07T14:42:27.003Z"
   },
   {
    "duration": 21,
    "start_time": "2021-07-07T14:42:28.767Z"
   },
   {
    "duration": 7,
    "start_time": "2021-07-07T14:42:29.838Z"
   },
   {
    "duration": 4,
    "start_time": "2021-07-07T14:43:25.493Z"
   },
   {
    "duration": 7,
    "start_time": "2021-07-07T14:43:26.573Z"
   },
   {
    "duration": 10,
    "start_time": "2021-07-07T14:43:31.639Z"
   },
   {
    "duration": 9,
    "start_time": "2021-07-07T14:43:32.046Z"
   },
   {
    "duration": 10,
    "start_time": "2021-07-07T14:43:33.301Z"
   },
   {
    "duration": 12,
    "start_time": "2021-07-07T14:43:33.658Z"
   },
   {
    "duration": 8,
    "start_time": "2021-07-07T14:43:34.552Z"
   },
   {
    "duration": 9,
    "start_time": "2021-07-07T14:43:35.058Z"
   },
   {
    "duration": 12,
    "start_time": "2021-07-07T14:43:35.914Z"
   },
   {
    "duration": 17,
    "start_time": "2021-07-07T14:45:34.368Z"
   },
   {
    "duration": 512,
    "start_time": "2021-07-07T14:51:58.236Z"
   },
   {
    "duration": 223,
    "start_time": "2021-07-07T14:51:58.750Z"
   },
   {
    "duration": 93,
    "start_time": "2021-07-07T14:51:58.977Z"
   },
   {
    "duration": 4,
    "start_time": "2021-07-07T14:51:59.071Z"
   },
   {
    "duration": 37,
    "start_time": "2021-07-07T14:51:59.077Z"
   },
   {
    "duration": 18,
    "start_time": "2021-07-07T14:51:59.116Z"
   },
   {
    "duration": 10,
    "start_time": "2021-07-07T14:51:59.137Z"
   },
   {
    "duration": 8,
    "start_time": "2021-07-07T14:51:59.149Z"
   },
   {
    "duration": 54,
    "start_time": "2021-07-07T14:51:59.158Z"
   },
   {
    "duration": 18,
    "start_time": "2021-07-07T14:51:59.213Z"
   },
   {
    "duration": 22,
    "start_time": "2021-07-07T14:51:59.232Z"
   },
   {
    "duration": 36,
    "start_time": "2021-07-07T14:51:59.255Z"
   },
   {
    "duration": 7,
    "start_time": "2021-07-07T14:51:59.293Z"
   },
   {
    "duration": 10,
    "start_time": "2021-07-07T14:51:59.302Z"
   },
   {
    "duration": 9,
    "start_time": "2021-07-07T14:51:59.313Z"
   },
   {
    "duration": 11,
    "start_time": "2021-07-07T14:51:59.324Z"
   },
   {
    "duration": 8,
    "start_time": "2021-07-07T14:51:59.337Z"
   },
   {
    "duration": 46,
    "start_time": "2021-07-07T14:51:59.347Z"
   },
   {
    "duration": 22,
    "start_time": "2021-07-07T14:51:59.395Z"
   },
   {
    "duration": 24,
    "start_time": "2021-07-07T14:57:32.911Z"
   },
   {
    "duration": 7,
    "start_time": "2021-07-07T14:58:22.070Z"
   },
   {
    "duration": 4,
    "start_time": "2021-07-07T14:59:11.239Z"
   },
   {
    "duration": 25,
    "start_time": "2021-07-07T15:07:22.208Z"
   },
   {
    "duration": 16,
    "start_time": "2021-07-07T15:08:25.560Z"
   },
   {
    "duration": 15,
    "start_time": "2021-07-07T15:08:40.647Z"
   },
   {
    "duration": 14,
    "start_time": "2021-07-07T15:08:46.669Z"
   },
   {
    "duration": 533,
    "start_time": "2021-07-07T15:18:07.440Z"
   },
   {
    "duration": 173,
    "start_time": "2021-07-07T15:18:07.974Z"
   },
   {
    "duration": 84,
    "start_time": "2021-07-07T15:18:08.149Z"
   },
   {
    "duration": 3,
    "start_time": "2021-07-07T15:18:08.235Z"
   },
   {
    "duration": 30,
    "start_time": "2021-07-07T15:18:08.240Z"
   },
   {
    "duration": 22,
    "start_time": "2021-07-07T15:18:08.272Z"
   },
   {
    "duration": 11,
    "start_time": "2021-07-07T15:18:08.295Z"
   },
   {
    "duration": 11,
    "start_time": "2021-07-07T15:18:08.309Z"
   },
   {
    "duration": 40,
    "start_time": "2021-07-07T15:18:08.322Z"
   },
   {
    "duration": 42,
    "start_time": "2021-07-07T15:18:08.364Z"
   },
   {
    "duration": 22,
    "start_time": "2021-07-07T15:18:08.408Z"
   },
   {
    "duration": 5,
    "start_time": "2021-07-07T15:18:08.432Z"
   },
   {
    "duration": 13,
    "start_time": "2021-07-07T15:18:08.439Z"
   },
   {
    "duration": 9,
    "start_time": "2021-07-07T15:18:08.454Z"
   },
   {
    "duration": 32,
    "start_time": "2021-07-07T15:18:08.465Z"
   },
   {
    "duration": 10,
    "start_time": "2021-07-07T15:18:08.501Z"
   },
   {
    "duration": 7,
    "start_time": "2021-07-07T15:18:08.513Z"
   },
   {
    "duration": 11,
    "start_time": "2021-07-07T15:18:08.521Z"
   },
   {
    "duration": 17,
    "start_time": "2021-07-07T15:18:08.534Z"
   },
   {
    "duration": 44,
    "start_time": "2021-07-07T15:18:08.553Z"
   },
   {
    "duration": 22,
    "start_time": "2021-07-07T15:18:08.599Z"
   },
   {
    "duration": 61,
    "start_time": "2021-07-07T15:18:08.622Z"
   },
   {
    "duration": 7,
    "start_time": "2021-07-07T15:18:39.457Z"
   },
   {
    "duration": 5,
    "start_time": "2021-07-07T16:05:17.020Z"
   },
   {
    "duration": 5,
    "start_time": "2021-07-07T16:51:28.794Z"
   },
   {
    "duration": 546,
    "start_time": "2021-07-07T16:52:26.306Z"
   },
   {
    "duration": 203,
    "start_time": "2021-07-07T16:52:27.523Z"
   },
   {
    "duration": 85,
    "start_time": "2021-07-07T16:52:27.736Z"
   },
   {
    "duration": 4,
    "start_time": "2021-07-07T16:52:27.899Z"
   },
   {
    "duration": 25,
    "start_time": "2021-07-07T16:52:28.674Z"
   },
   {
    "duration": 8,
    "start_time": "2021-07-07T16:52:32.956Z"
   },
   {
    "duration": 18,
    "start_time": "2021-07-07T16:52:35.616Z"
   },
   {
    "duration": 6,
    "start_time": "2021-07-07T16:52:36.913Z"
   },
   {
    "duration": 11,
    "start_time": "2021-07-07T16:52:40.258Z"
   },
   {
    "duration": 10,
    "start_time": "2021-07-07T16:52:46.251Z"
   },
   {
    "duration": 8,
    "start_time": "2021-07-07T16:52:47.182Z"
   },
   {
    "duration": 27,
    "start_time": "2021-07-07T16:53:20.391Z"
   },
   {
    "duration": 20,
    "start_time": "2021-07-07T16:53:22.022Z"
   },
   {
    "duration": 23,
    "start_time": "2021-07-07T16:53:23.690Z"
   },
   {
    "duration": 8,
    "start_time": "2021-07-07T16:53:24.261Z"
   },
   {
    "duration": 4,
    "start_time": "2021-07-07T16:53:38.733Z"
   },
   {
    "duration": 7,
    "start_time": "2021-07-07T16:53:40.445Z"
   },
   {
    "duration": 11,
    "start_time": "2021-07-07T16:53:41.348Z"
   },
   {
    "duration": 13,
    "start_time": "2021-07-07T16:53:45.250Z"
   },
   {
    "duration": 12,
    "start_time": "2021-07-07T16:53:45.467Z"
   },
   {
    "duration": 4,
    "start_time": "2021-07-07T16:55:32.704Z"
   },
   {
    "duration": 12,
    "start_time": "2021-07-07T16:55:49.012Z"
   },
   {
    "duration": 18,
    "start_time": "2021-07-07T16:55:49.547Z"
   },
   {
    "duration": 611,
    "start_time": "2021-07-07T16:58:35.156Z"
   },
   {
    "duration": 200,
    "start_time": "2021-07-07T16:58:35.770Z"
   },
   {
    "duration": 86,
    "start_time": "2021-07-07T16:58:35.972Z"
   },
   {
    "duration": 3,
    "start_time": "2021-07-07T16:58:36.060Z"
   },
   {
    "duration": 27,
    "start_time": "2021-07-07T16:58:36.065Z"
   },
   {
    "duration": 8,
    "start_time": "2021-07-07T16:58:36.094Z"
   },
   {
    "duration": 17,
    "start_time": "2021-07-07T16:58:36.103Z"
   },
   {
    "duration": 5,
    "start_time": "2021-07-07T16:58:36.123Z"
   },
   {
    "duration": 11,
    "start_time": "2021-07-07T16:58:36.130Z"
   },
   {
    "duration": 7,
    "start_time": "2021-07-07T16:58:36.143Z"
   },
   {
    "duration": 37,
    "start_time": "2021-07-07T16:58:36.152Z"
   },
   {
    "duration": 27,
    "start_time": "2021-07-07T16:58:36.191Z"
   },
   {
    "duration": 19,
    "start_time": "2021-07-07T16:58:36.219Z"
   },
   {
    "duration": 49,
    "start_time": "2021-07-07T16:58:36.240Z"
   },
   {
    "duration": 6,
    "start_time": "2021-07-07T16:58:36.291Z"
   },
   {
    "duration": 3,
    "start_time": "2021-07-07T16:58:36.299Z"
   },
   {
    "duration": 13,
    "start_time": "2021-07-07T16:58:36.304Z"
   },
   {
    "duration": 10,
    "start_time": "2021-07-07T16:58:36.319Z"
   },
   {
    "duration": 10,
    "start_time": "2021-07-07T16:58:36.331Z"
   },
   {
    "duration": 44,
    "start_time": "2021-07-07T16:58:36.343Z"
   },
   {
    "duration": 4,
    "start_time": "2021-07-07T16:58:36.388Z"
   },
   {
    "duration": 13,
    "start_time": "2021-07-07T16:58:36.394Z"
   },
   {
    "duration": 16,
    "start_time": "2021-07-07T16:58:36.410Z"
   },
   {
    "duration": 8,
    "start_time": "2021-07-07T17:02:31.629Z"
   },
   {
    "duration": 8,
    "start_time": "2021-07-07T17:02:34.308Z"
   },
   {
    "duration": 6,
    "start_time": "2021-07-07T17:05:13.483Z"
   },
   {
    "duration": 17,
    "start_time": "2021-07-07T17:05:20.606Z"
   },
   {
    "duration": 7,
    "start_time": "2021-07-07T17:05:34.638Z"
   },
   {
    "duration": 3,
    "start_time": "2021-07-07T17:06:31.883Z"
   },
   {
    "duration": 570,
    "start_time": "2021-07-07T17:06:37.165Z"
   },
   {
    "duration": 174,
    "start_time": "2021-07-07T17:06:37.737Z"
   },
   {
    "duration": 47,
    "start_time": "2021-07-07T17:06:37.913Z"
   },
   {
    "duration": 3,
    "start_time": "2021-07-07T17:06:37.962Z"
   },
   {
    "duration": 27,
    "start_time": "2021-07-07T17:06:37.967Z"
   },
   {
    "duration": 7,
    "start_time": "2021-07-07T17:06:37.996Z"
   },
   {
    "duration": 16,
    "start_time": "2021-07-07T17:06:38.005Z"
   },
   {
    "duration": 6,
    "start_time": "2021-07-07T17:06:38.024Z"
   },
   {
    "duration": 12,
    "start_time": "2021-07-07T17:06:38.031Z"
   },
   {
    "duration": 41,
    "start_time": "2021-07-07T17:06:38.045Z"
   },
   {
    "duration": 8,
    "start_time": "2021-07-07T17:06:38.088Z"
   },
   {
    "duration": 26,
    "start_time": "2021-07-07T17:06:38.098Z"
   },
   {
    "duration": 17,
    "start_time": "2021-07-07T17:06:38.126Z"
   },
   {
    "duration": 43,
    "start_time": "2021-07-07T17:06:38.144Z"
   },
   {
    "duration": 6,
    "start_time": "2021-07-07T17:06:38.188Z"
   },
   {
    "duration": 5,
    "start_time": "2021-07-07T17:06:38.195Z"
   },
   {
    "duration": 9,
    "start_time": "2021-07-07T17:06:38.201Z"
   },
   {
    "duration": 12,
    "start_time": "2021-07-07T17:06:38.212Z"
   },
   {
    "duration": 11,
    "start_time": "2021-07-07T17:06:38.226Z"
   },
   {
    "duration": 47,
    "start_time": "2021-07-07T17:06:38.239Z"
   },
   {
    "duration": 4,
    "start_time": "2021-07-07T17:06:38.288Z"
   },
   {
    "duration": 13,
    "start_time": "2021-07-07T17:06:38.293Z"
   },
   {
    "duration": 5,
    "start_time": "2021-07-07T17:06:38.309Z"
   },
   {
    "duration": 18,
    "start_time": "2021-07-07T17:06:38.325Z"
   },
   {
    "duration": 20,
    "start_time": "2021-07-07T17:07:02.805Z"
   },
   {
    "duration": 19,
    "start_time": "2021-07-07T17:07:08.527Z"
   },
   {
    "duration": 19,
    "start_time": "2021-07-07T17:07:12.758Z"
   },
   {
    "duration": 22,
    "start_time": "2021-07-07T17:07:17.497Z"
   },
   {
    "duration": 19,
    "start_time": "2021-07-07T17:07:19.645Z"
   },
   {
    "duration": 10,
    "start_time": "2021-07-07T17:07:34.239Z"
   },
   {
    "duration": 17,
    "start_time": "2021-07-07T17:07:54.144Z"
   },
   {
    "duration": 14,
    "start_time": "2021-07-07T17:08:14.357Z"
   },
   {
    "duration": 616,
    "start_time": "2021-07-07T17:08:45.254Z"
   },
   {
    "duration": 178,
    "start_time": "2021-07-07T17:08:45.872Z"
   },
   {
    "duration": 60,
    "start_time": "2021-07-07T17:08:46.054Z"
   },
   {
    "duration": 3,
    "start_time": "2021-07-07T17:08:46.116Z"
   },
   {
    "duration": 26,
    "start_time": "2021-07-07T17:08:46.121Z"
   },
   {
    "duration": 7,
    "start_time": "2021-07-07T17:08:46.149Z"
   },
   {
    "duration": 17,
    "start_time": "2021-07-07T17:08:46.158Z"
   },
   {
    "duration": 14,
    "start_time": "2021-07-07T17:08:46.176Z"
   },
   {
    "duration": 17,
    "start_time": "2021-07-07T17:08:46.193Z"
   },
   {
    "duration": 9,
    "start_time": "2021-07-07T17:08:46.211Z"
   },
   {
    "duration": 21,
    "start_time": "2021-07-07T17:08:46.221Z"
   },
   {
    "duration": 49,
    "start_time": "2021-07-07T17:08:46.244Z"
   },
   {
    "duration": 24,
    "start_time": "2021-07-07T17:08:46.295Z"
   },
   {
    "duration": 22,
    "start_time": "2021-07-07T17:08:46.321Z"
   },
   {
    "duration": 6,
    "start_time": "2021-07-07T17:08:46.345Z"
   },
   {
    "duration": 5,
    "start_time": "2021-07-07T17:08:46.353Z"
   },
   {
    "duration": 13,
    "start_time": "2021-07-07T17:08:46.386Z"
   },
   {
    "duration": 12,
    "start_time": "2021-07-07T17:08:46.402Z"
   },
   {
    "duration": 10,
    "start_time": "2021-07-07T17:08:46.415Z"
   },
   {
    "duration": 7,
    "start_time": "2021-07-07T17:08:46.427Z"
   },
   {
    "duration": 8,
    "start_time": "2021-07-07T17:08:46.435Z"
   },
   {
    "duration": 68,
    "start_time": "2021-07-07T17:08:46.446Z"
   },
   {
    "duration": 13,
    "start_time": "2021-07-07T17:08:46.516Z"
   },
   {
    "duration": 78,
    "start_time": "2021-07-07T17:08:46.530Z"
   },
   {
    "duration": 40,
    "start_time": "2021-07-07T17:09:08.185Z"
   },
   {
    "duration": 16,
    "start_time": "2021-07-07T17:09:19.324Z"
   },
   {
    "duration": 21,
    "start_time": "2021-07-07T17:09:23.290Z"
   },
   {
    "duration": 13,
    "start_time": "2021-07-07T17:09:54.812Z"
   },
   {
    "duration": 13,
    "start_time": "2021-07-07T17:10:02.039Z"
   },
   {
    "duration": 10,
    "start_time": "2021-07-07T17:10:29.632Z"
   },
   {
    "duration": 13,
    "start_time": "2021-07-07T17:10:52.372Z"
   },
   {
    "duration": 13,
    "start_time": "2021-07-07T17:11:17.270Z"
   },
   {
    "duration": 13,
    "start_time": "2021-07-07T17:14:59.284Z"
   },
   {
    "duration": 547,
    "start_time": "2021-07-07T17:18:52.403Z"
   },
   {
    "duration": 163,
    "start_time": "2021-07-07T17:18:52.952Z"
   },
   {
    "duration": 44,
    "start_time": "2021-07-07T17:18:53.117Z"
   },
   {
    "duration": 3,
    "start_time": "2021-07-07T17:18:53.162Z"
   },
   {
    "duration": 26,
    "start_time": "2021-07-07T17:18:53.167Z"
   },
   {
    "duration": 6,
    "start_time": "2021-07-07T17:18:53.195Z"
   },
   {
    "duration": 15,
    "start_time": "2021-07-07T17:18:53.203Z"
   },
   {
    "duration": 5,
    "start_time": "2021-07-07T17:18:53.220Z"
   },
   {
    "duration": 11,
    "start_time": "2021-07-07T17:18:53.228Z"
   },
   {
    "duration": 9,
    "start_time": "2021-07-07T17:18:53.241Z"
   },
   {
    "duration": 41,
    "start_time": "2021-07-07T17:18:53.252Z"
   },
   {
    "duration": 33,
    "start_time": "2021-07-07T17:18:53.295Z"
   },
   {
    "duration": 19,
    "start_time": "2021-07-07T17:18:53.330Z"
   },
   {
    "duration": 49,
    "start_time": "2021-07-07T17:18:53.350Z"
   },
   {
    "duration": 5,
    "start_time": "2021-07-07T17:18:53.401Z"
   },
   {
    "duration": 5,
    "start_time": "2021-07-07T17:18:53.408Z"
   },
   {
    "duration": 11,
    "start_time": "2021-07-07T17:18:53.414Z"
   },
   {
    "duration": 9,
    "start_time": "2021-07-07T17:18:53.427Z"
   },
   {
    "duration": 10,
    "start_time": "2021-07-07T17:18:53.437Z"
   },
   {
    "duration": 39,
    "start_time": "2021-07-07T17:18:53.448Z"
   },
   {
    "duration": 26,
    "start_time": "2021-07-07T17:18:55.799Z"
   },
   {
    "duration": 598,
    "start_time": "2021-07-07T17:20:17.862Z"
   },
   {
    "duration": 161,
    "start_time": "2021-07-07T17:20:18.462Z"
   },
   {
    "duration": 45,
    "start_time": "2021-07-07T17:20:18.626Z"
   },
   {
    "duration": 4,
    "start_time": "2021-07-07T17:20:18.673Z"
   },
   {
    "duration": 38,
    "start_time": "2021-07-07T17:20:26.877Z"
   },
   {
    "duration": 7,
    "start_time": "2021-07-07T17:20:37.405Z"
   },
   {
    "duration": 19,
    "start_time": "2021-07-07T17:20:51.534Z"
   },
   {
    "duration": 5,
    "start_time": "2021-07-07T17:20:57.228Z"
   },
   {
    "duration": 7,
    "start_time": "2021-07-07T17:21:08.235Z"
   },
   {
    "duration": 19,
    "start_time": "2021-07-07T17:21:42.158Z"
   },
   {
    "duration": 14,
    "start_time": "2021-07-07T17:21:50.225Z"
   },
   {
    "duration": 22,
    "start_time": "2021-07-07T17:22:54.104Z"
   },
   {
    "duration": 5,
    "start_time": "2021-07-07T17:22:56.371Z"
   },
   {
    "duration": 14,
    "start_time": "2021-07-07T17:22:58.316Z"
   },
   {
    "duration": 5,
    "start_time": "2021-07-07T17:22:58.493Z"
   },
   {
    "duration": 35,
    "start_time": "2021-07-07T17:22:59.666Z"
   },
   {
    "duration": 6,
    "start_time": "2021-07-07T17:23:02.410Z"
   },
   {
    "duration": 611,
    "start_time": "2021-07-07T17:24:59.664Z"
   },
   {
    "duration": 178,
    "start_time": "2021-07-07T17:25:01.945Z"
   },
   {
    "duration": 47,
    "start_time": "2021-07-07T17:25:02.125Z"
   },
   {
    "duration": 2,
    "start_time": "2021-07-07T17:25:07.903Z"
   },
   {
    "duration": 254,
    "start_time": "2021-07-07T17:25:08.232Z"
   },
   {
    "duration": 182,
    "start_time": "2021-07-07T17:25:08.671Z"
   },
   {
    "duration": 6,
    "start_time": "2021-07-07T17:25:13.104Z"
   },
   {
    "duration": 36,
    "start_time": "2021-07-07T17:25:13.662Z"
   },
   {
    "duration": 7,
    "start_time": "2021-07-07T17:25:14.528Z"
   },
   {
    "duration": 24,
    "start_time": "2021-07-07T17:25:27.982Z"
   },
   {
    "duration": 3,
    "start_time": "2021-07-07T17:25:48.982Z"
   },
   {
    "duration": 165,
    "start_time": "2021-07-07T17:25:48.987Z"
   },
   {
    "duration": 50,
    "start_time": "2021-07-07T17:25:49.154Z"
   },
   {
    "duration": 4,
    "start_time": "2021-07-07T17:25:49.206Z"
   },
   {
    "duration": 26,
    "start_time": "2021-07-07T17:25:49.212Z"
   },
   {
    "duration": 7,
    "start_time": "2021-07-07T17:25:49.240Z"
   },
   {
    "duration": 16,
    "start_time": "2021-07-07T17:25:49.249Z"
   },
   {
    "duration": 22,
    "start_time": "2021-07-07T17:25:49.266Z"
   },
   {
    "duration": 16,
    "start_time": "2021-07-07T17:25:49.291Z"
   },
   {
    "duration": 9,
    "start_time": "2021-07-07T17:25:49.309Z"
   },
   {
    "duration": 7,
    "start_time": "2021-07-07T17:25:49.319Z"
   },
   {
    "duration": 28,
    "start_time": "2021-07-07T17:25:49.328Z"
   },
   {
    "duration": 44,
    "start_time": "2021-07-07T17:25:49.357Z"
   },
   {
    "duration": 22,
    "start_time": "2021-07-07T17:25:49.403Z"
   },
   {
    "duration": 7,
    "start_time": "2021-07-07T17:25:49.427Z"
   },
   {
    "duration": 3,
    "start_time": "2021-07-07T17:25:49.436Z"
   },
   {
    "duration": 44,
    "start_time": "2021-07-07T17:25:49.441Z"
   },
   {
    "duration": 12,
    "start_time": "2021-07-07T17:25:49.488Z"
   },
   {
    "duration": 13,
    "start_time": "2021-07-07T17:25:49.502Z"
   },
   {
    "duration": 10,
    "start_time": "2021-07-07T17:25:49.516Z"
   },
   {
    "duration": 62,
    "start_time": "2021-07-07T17:25:49.527Z"
   },
   {
    "duration": 26,
    "start_time": "2021-07-07T17:26:51.809Z"
   },
   {
    "duration": 26,
    "start_time": "2021-07-07T17:26:55.759Z"
   },
   {
    "duration": 26,
    "start_time": "2021-07-07T17:27:04.501Z"
   },
   {
    "duration": 25,
    "start_time": "2021-07-07T17:28:24.859Z"
   },
   {
    "duration": 21,
    "start_time": "2021-07-07T17:28:55.250Z"
   },
   {
    "duration": 21,
    "start_time": "2021-07-07T17:28:58.885Z"
   },
   {
    "duration": 7,
    "start_time": "2021-07-07T17:45:40.972Z"
   },
   {
    "duration": 13,
    "start_time": "2021-07-07T17:45:42.529Z"
   },
   {
    "duration": 27,
    "start_time": "2021-07-07T17:45:51.026Z"
   },
   {
    "duration": 518,
    "start_time": "2021-07-07T17:46:15.532Z"
   },
   {
    "duration": 235,
    "start_time": "2021-07-07T17:46:16.053Z"
   },
   {
    "duration": 80,
    "start_time": "2021-07-07T17:46:16.292Z"
   },
   {
    "duration": 5,
    "start_time": "2021-07-07T17:46:16.373Z"
   },
   {
    "duration": 26,
    "start_time": "2021-07-07T17:46:16.380Z"
   },
   {
    "duration": 7,
    "start_time": "2021-07-07T17:46:16.408Z"
   },
   {
    "duration": 16,
    "start_time": "2021-07-07T17:46:16.418Z"
   },
   {
    "duration": 5,
    "start_time": "2021-07-07T17:46:16.436Z"
   },
   {
    "duration": 13,
    "start_time": "2021-07-07T17:46:16.442Z"
   },
   {
    "duration": 35,
    "start_time": "2021-07-07T17:46:16.456Z"
   },
   {
    "duration": 8,
    "start_time": "2021-07-07T17:46:16.493Z"
   },
   {
    "duration": 28,
    "start_time": "2021-07-07T17:46:16.502Z"
   },
   {
    "duration": 17,
    "start_time": "2021-07-07T17:46:16.532Z"
   },
   {
    "duration": 44,
    "start_time": "2021-07-07T17:46:16.551Z"
   },
   {
    "duration": 6,
    "start_time": "2021-07-07T17:46:16.597Z"
   },
   {
    "duration": 4,
    "start_time": "2021-07-07T17:46:16.605Z"
   },
   {
    "duration": 9,
    "start_time": "2021-07-07T17:46:16.610Z"
   },
   {
    "duration": 9,
    "start_time": "2021-07-07T17:46:16.621Z"
   },
   {
    "duration": 10,
    "start_time": "2021-07-07T17:46:16.632Z"
   },
   {
    "duration": 43,
    "start_time": "2021-07-07T17:46:16.644Z"
   },
   {
    "duration": 26,
    "start_time": "2021-07-07T17:46:16.689Z"
   },
   {
    "duration": 19,
    "start_time": "2021-07-07T17:46:16.718Z"
   },
   {
    "duration": 8,
    "start_time": "2021-07-07T17:46:16.738Z"
   },
   {
    "duration": 43,
    "start_time": "2021-07-07T17:46:16.747Z"
   },
   {
    "duration": 19,
    "start_time": "2021-07-07T17:46:16.791Z"
   },
   {
    "duration": 9,
    "start_time": "2021-07-07T17:46:16.812Z"
   },
   {
    "duration": 60,
    "start_time": "2021-07-07T17:46:16.822Z"
   },
   {
    "duration": -8,
    "start_time": "2021-07-07T17:46:16.892Z"
   },
   {
    "duration": 12,
    "start_time": "2021-07-07T17:48:47.707Z"
   },
   {
    "duration": 553,
    "start_time": "2021-07-07T18:10:09.350Z"
   },
   {
    "duration": 230,
    "start_time": "2021-07-07T18:10:09.905Z"
   },
   {
    "duration": 97,
    "start_time": "2021-07-07T18:10:10.137Z"
   },
   {
    "duration": 5,
    "start_time": "2021-07-07T18:10:10.236Z"
   },
   {
    "duration": 29,
    "start_time": "2021-07-07T18:10:10.242Z"
   },
   {
    "duration": 7,
    "start_time": "2021-07-07T18:10:10.272Z"
   },
   {
    "duration": 15,
    "start_time": "2021-07-07T18:10:10.281Z"
   },
   {
    "duration": 4,
    "start_time": "2021-07-07T18:10:10.299Z"
   },
   {
    "duration": 14,
    "start_time": "2021-07-07T18:10:10.305Z"
   },
   {
    "duration": 8,
    "start_time": "2021-07-07T18:10:10.321Z"
   },
   {
    "duration": 8,
    "start_time": "2021-07-07T18:10:10.331Z"
   },
   {
    "duration": 56,
    "start_time": "2021-07-07T18:10:10.341Z"
   },
   {
    "duration": 19,
    "start_time": "2021-07-07T18:10:10.399Z"
   },
   {
    "duration": 23,
    "start_time": "2021-07-07T18:10:10.419Z"
   },
   {
    "duration": 6,
    "start_time": "2021-07-07T18:10:10.444Z"
   },
   {
    "duration": 9,
    "start_time": "2021-07-07T18:10:10.451Z"
   },
   {
    "duration": 30,
    "start_time": "2021-07-07T18:10:10.462Z"
   },
   {
    "duration": 9,
    "start_time": "2021-07-07T18:10:10.494Z"
   },
   {
    "duration": 14,
    "start_time": "2021-07-07T18:10:10.505Z"
   },
   {
    "duration": 7,
    "start_time": "2021-07-07T18:10:10.521Z"
   },
   {
    "duration": 26,
    "start_time": "2021-07-07T18:10:10.530Z"
   },
   {
    "duration": 44,
    "start_time": "2021-07-07T18:10:10.558Z"
   },
   {
    "duration": 7,
    "start_time": "2021-07-07T18:10:10.605Z"
   },
   {
    "duration": 11,
    "start_time": "2021-07-07T18:10:10.614Z"
   },
   {
    "duration": 19,
    "start_time": "2021-07-07T18:10:10.626Z"
   },
   {
    "duration": 44,
    "start_time": "2021-07-07T18:10:10.646Z"
   },
   {
    "duration": 516,
    "start_time": "2021-07-07T18:14:00.826Z"
   },
   {
    "duration": 230,
    "start_time": "2021-07-07T18:14:01.344Z"
   },
   {
    "duration": 105,
    "start_time": "2021-07-07T18:14:01.576Z"
   },
   {
    "duration": 5,
    "start_time": "2021-07-07T18:14:01.683Z"
   },
   {
    "duration": 46,
    "start_time": "2021-07-07T18:14:01.690Z"
   },
   {
    "duration": 7,
    "start_time": "2021-07-07T18:14:01.738Z"
   },
   {
    "duration": 20,
    "start_time": "2021-07-07T18:14:01.747Z"
   },
   {
    "duration": 16,
    "start_time": "2021-07-07T18:14:01.769Z"
   },
   {
    "duration": 14,
    "start_time": "2021-07-07T18:14:01.787Z"
   },
   {
    "duration": 15,
    "start_time": "2021-07-07T18:14:01.803Z"
   },
   {
    "duration": 12,
    "start_time": "2021-07-07T18:14:01.820Z"
   },
   {
    "duration": 35,
    "start_time": "2021-07-07T18:14:01.833Z"
   },
   {
    "duration": 31,
    "start_time": "2021-07-07T18:14:01.869Z"
   },
   {
    "duration": 37,
    "start_time": "2021-07-07T18:14:01.902Z"
   },
   {
    "duration": 8,
    "start_time": "2021-07-07T18:14:01.942Z"
   },
   {
    "duration": 16,
    "start_time": "2021-07-07T18:14:01.952Z"
   },
   {
    "duration": 13,
    "start_time": "2021-07-07T18:14:01.970Z"
   },
   {
    "duration": 32,
    "start_time": "2021-07-07T18:14:01.985Z"
   },
   {
    "duration": 11,
    "start_time": "2021-07-07T18:14:02.019Z"
   },
   {
    "duration": 22,
    "start_time": "2021-07-07T18:14:02.031Z"
   },
   {
    "duration": 27,
    "start_time": "2021-07-07T18:14:02.055Z"
   },
   {
    "duration": 18,
    "start_time": "2021-07-07T18:14:02.084Z"
   },
   {
    "duration": 18,
    "start_time": "2021-07-07T18:14:02.106Z"
   },
   {
    "duration": 11,
    "start_time": "2021-07-07T18:14:02.126Z"
   },
   {
    "duration": 21,
    "start_time": "2021-07-07T18:14:02.138Z"
   },
   {
    "duration": 32,
    "start_time": "2021-07-07T18:14:02.161Z"
   },
   {
    "duration": 28,
    "start_time": "2021-07-07T18:14:44.295Z"
   },
   {
    "duration": 6,
    "start_time": "2021-07-07T18:15:05.834Z"
   },
   {
    "duration": 511,
    "start_time": "2021-07-07T18:15:41.541Z"
   },
   {
    "duration": 183,
    "start_time": "2021-07-07T18:15:42.054Z"
   },
   {
    "duration": 50,
    "start_time": "2021-07-07T18:15:42.239Z"
   },
   {
    "duration": 5,
    "start_time": "2021-07-07T18:15:42.291Z"
   },
   {
    "duration": 48,
    "start_time": "2021-07-07T18:15:42.297Z"
   },
   {
    "duration": 8,
    "start_time": "2021-07-07T18:15:42.346Z"
   },
   {
    "duration": 17,
    "start_time": "2021-07-07T18:15:42.356Z"
   },
   {
    "duration": 15,
    "start_time": "2021-07-07T18:15:42.375Z"
   },
   {
    "duration": 12,
    "start_time": "2021-07-07T18:15:42.392Z"
   },
   {
    "duration": 7,
    "start_time": "2021-07-07T18:15:42.406Z"
   },
   {
    "duration": 7,
    "start_time": "2021-07-07T18:15:42.415Z"
   },
   {
    "duration": 29,
    "start_time": "2021-07-07T18:15:42.423Z"
   },
   {
    "duration": 43,
    "start_time": "2021-07-07T18:15:42.453Z"
   },
   {
    "duration": 18,
    "start_time": "2021-07-07T18:15:42.497Z"
   },
   {
    "duration": 6,
    "start_time": "2021-07-07T18:15:42.516Z"
   },
   {
    "duration": 3,
    "start_time": "2021-07-07T18:15:42.523Z"
   },
   {
    "duration": 18,
    "start_time": "2021-07-07T18:15:42.528Z"
   },
   {
    "duration": 10,
    "start_time": "2021-07-07T18:15:42.547Z"
   },
   {
    "duration": 36,
    "start_time": "2021-07-07T18:15:42.559Z"
   },
   {
    "duration": 8,
    "start_time": "2021-07-07T18:15:42.597Z"
   },
   {
    "duration": 28,
    "start_time": "2021-07-07T18:15:42.606Z"
   },
   {
    "duration": 52,
    "start_time": "2021-07-07T18:15:42.635Z"
   },
   {
    "duration": 7,
    "start_time": "2021-07-07T18:15:42.690Z"
   },
   {
    "duration": 10,
    "start_time": "2021-07-07T18:15:42.699Z"
   },
   {
    "duration": 19,
    "start_time": "2021-07-07T18:15:42.711Z"
   },
   {
    "duration": 9,
    "start_time": "2021-07-07T18:15:42.732Z"
   },
   {
    "duration": 5,
    "start_time": "2021-07-07T18:15:42.743Z"
   },
   {
    "duration": 1450,
    "start_time": "2021-07-07T18:15:51.984Z"
   },
   {
    "duration": 161,
    "start_time": "2021-07-07T18:15:53.435Z"
   },
   {
    "duration": 124,
    "start_time": "2021-07-07T18:15:53.598Z"
   },
   {
    "duration": 5,
    "start_time": "2021-07-07T18:15:53.724Z"
   },
   {
    "duration": 34,
    "start_time": "2021-07-07T18:15:53.730Z"
   },
   {
    "duration": 7,
    "start_time": "2021-07-07T18:15:53.765Z"
   },
   {
    "duration": 15,
    "start_time": "2021-07-07T18:15:53.773Z"
   },
   {
    "duration": 5,
    "start_time": "2021-07-07T18:15:53.791Z"
   },
   {
    "duration": 19,
    "start_time": "2021-07-07T18:15:53.798Z"
   },
   {
    "duration": 9,
    "start_time": "2021-07-07T18:15:53.818Z"
   },
   {
    "duration": 19,
    "start_time": "2021-07-07T18:15:53.828Z"
   },
   {
    "duration": 27,
    "start_time": "2021-07-07T18:15:53.848Z"
   },
   {
    "duration": 16,
    "start_time": "2021-07-07T18:15:53.884Z"
   },
   {
    "duration": 29,
    "start_time": "2021-07-07T18:15:53.901Z"
   },
   {
    "duration": 5,
    "start_time": "2021-07-07T18:15:53.932Z"
   },
   {
    "duration": 15,
    "start_time": "2021-07-07T18:15:53.939Z"
   },
   {
    "duration": 13,
    "start_time": "2021-07-07T18:15:53.956Z"
   },
   {
    "duration": 20,
    "start_time": "2021-07-07T18:15:53.971Z"
   },
   {
    "duration": 14,
    "start_time": "2021-07-07T18:15:53.992Z"
   },
   {
    "duration": 9,
    "start_time": "2021-07-07T18:15:54.009Z"
   },
   {
    "duration": 28,
    "start_time": "2021-07-07T18:15:54.020Z"
   },
   {
    "duration": 50,
    "start_time": "2021-07-07T18:15:54.051Z"
   },
   {
    "duration": 8,
    "start_time": "2021-07-07T18:15:54.105Z"
   },
   {
    "duration": 11,
    "start_time": "2021-07-07T18:15:54.115Z"
   },
   {
    "duration": 20,
    "start_time": "2021-07-07T18:15:54.128Z"
   },
   {
    "duration": 13,
    "start_time": "2021-07-07T18:15:54.184Z"
   },
   {
    "duration": 7,
    "start_time": "2021-07-07T18:15:54.199Z"
   },
   {
    "duration": 7,
    "start_time": "2021-07-07T18:17:08.042Z"
   },
   {
    "duration": 8,
    "start_time": "2021-07-07T18:17:21.008Z"
   },
   {
    "duration": 7,
    "start_time": "2021-07-07T18:17:29.003Z"
   },
   {
    "duration": 8,
    "start_time": "2021-07-07T18:17:32.492Z"
   },
   {
    "duration": 9,
    "start_time": "2021-07-07T18:17:41.758Z"
   },
   {
    "duration": 255,
    "start_time": "2021-07-07T18:20:20.897Z"
   },
   {
    "duration": 173,
    "start_time": "2021-07-07T18:20:26.636Z"
   },
   {
    "duration": 7,
    "start_time": "2021-07-07T18:21:47.164Z"
   },
   {
    "duration": 254,
    "start_time": "2021-07-07T18:23:08.703Z"
   },
   {
    "duration": 21,
    "start_time": "2021-07-07T18:23:22.506Z"
   },
   {
    "duration": 315,
    "start_time": "2021-07-07T18:25:54.801Z"
   },
   {
    "duration": 34,
    "start_time": "2021-07-07T18:26:51.817Z"
   },
   {
    "duration": 327,
    "start_time": "2021-07-07T18:26:56.147Z"
   },
   {
    "duration": 342,
    "start_time": "2021-07-07T18:27:15.887Z"
   },
   {
    "duration": 302,
    "start_time": "2021-07-07T18:28:18.569Z"
   },
   {
    "duration": 226,
    "start_time": "2021-07-07T18:29:20.879Z"
   },
   {
    "duration": 207,
    "start_time": "2021-07-07T18:29:58.114Z"
   },
   {
    "duration": 140,
    "start_time": "2021-07-07T18:32:04.372Z"
   },
   {
    "duration": 158,
    "start_time": "2021-07-07T18:32:32.508Z"
   },
   {
    "duration": 145,
    "start_time": "2021-07-07T18:32:41.365Z"
   },
   {
    "duration": 132,
    "start_time": "2021-07-07T18:32:45.199Z"
   },
   {
    "duration": 11,
    "start_time": "2021-07-07T18:35:24.679Z"
   },
   {
    "duration": 268,
    "start_time": "2021-07-07T18:36:16.145Z"
   },
   {
    "duration": 227,
    "start_time": "2021-07-07T18:37:04.918Z"
   },
   {
    "duration": 3,
    "start_time": "2021-07-07T18:37:33.012Z"
   },
   {
    "duration": 671,
    "start_time": "2021-07-07T18:37:38.295Z"
   },
   {
    "duration": 54,
    "start_time": "2021-07-07T18:37:53.406Z"
   },
   {
    "duration": 631,
    "start_time": "2021-07-07T18:37:56.463Z"
   },
   {
    "duration": 19,
    "start_time": "2021-07-07T18:39:40.535Z"
   },
   {
    "duration": 20,
    "start_time": "2021-07-07T18:40:12.236Z"
   },
   {
    "duration": 633,
    "start_time": "2021-07-07T18:42:00.398Z"
   },
   {
    "duration": 218,
    "start_time": "2021-07-07T18:42:01.033Z"
   },
   {
    "duration": 49,
    "start_time": "2021-07-07T18:42:01.253Z"
   },
   {
    "duration": 5,
    "start_time": "2021-07-07T18:42:01.303Z"
   },
   {
    "duration": 27,
    "start_time": "2021-07-07T18:42:01.310Z"
   },
   {
    "duration": 8,
    "start_time": "2021-07-07T18:42:01.339Z"
   },
   {
    "duration": 20,
    "start_time": "2021-07-07T18:42:01.348Z"
   },
   {
    "duration": 6,
    "start_time": "2021-07-07T18:42:01.386Z"
   },
   {
    "duration": 16,
    "start_time": "2021-07-07T18:42:01.394Z"
   },
   {
    "duration": 9,
    "start_time": "2021-07-07T18:42:01.411Z"
   },
   {
    "duration": 11,
    "start_time": "2021-07-07T18:42:01.421Z"
   },
   {
    "duration": 31,
    "start_time": "2021-07-07T18:42:01.434Z"
   },
   {
    "duration": 18,
    "start_time": "2021-07-07T18:42:01.485Z"
   },
   {
    "duration": 23,
    "start_time": "2021-07-07T18:42:01.505Z"
   },
   {
    "duration": 6,
    "start_time": "2021-07-07T18:42:01.530Z"
   },
   {
    "duration": 10,
    "start_time": "2021-07-07T18:42:01.538Z"
   },
   {
    "duration": 13,
    "start_time": "2021-07-07T18:42:01.550Z"
   },
   {
    "duration": 24,
    "start_time": "2021-07-07T18:42:01.564Z"
   },
   {
    "duration": 20,
    "start_time": "2021-07-07T18:42:01.590Z"
   },
   {
    "duration": 8,
    "start_time": "2021-07-07T18:42:01.611Z"
   },
   {
    "duration": 31,
    "start_time": "2021-07-07T18:42:01.620Z"
   },
   {
    "duration": 39,
    "start_time": "2021-07-07T18:42:01.653Z"
   },
   {
    "duration": 8,
    "start_time": "2021-07-07T18:42:01.696Z"
   },
   {
    "duration": 13,
    "start_time": "2021-07-07T18:42:01.705Z"
   },
   {
    "duration": 20,
    "start_time": "2021-07-07T18:42:01.720Z"
   },
   {
    "duration": 12,
    "start_time": "2021-07-07T18:42:01.741Z"
   },
   {
    "duration": 35,
    "start_time": "2021-07-07T18:42:01.755Z"
   },
   {
    "duration": 14,
    "start_time": "2021-07-07T18:42:01.792Z"
   },
   {
    "duration": 188,
    "start_time": "2021-07-07T18:42:01.808Z"
   },
   {
    "duration": 19,
    "start_time": "2021-07-07T18:42:01.998Z"
   },
   {
    "duration": 175,
    "start_time": "2021-07-07T18:42:02.019Z"
   },
   {
    "duration": 134,
    "start_time": "2021-07-07T18:42:02.196Z"
   },
   {
    "duration": 10,
    "start_time": "2021-07-07T18:42:02.331Z"
   },
   {
    "duration": 19,
    "start_time": "2021-07-07T18:42:02.343Z"
   },
   {
    "duration": 628,
    "start_time": "2021-07-07T18:46:30.701Z"
   },
   {
    "duration": 183,
    "start_time": "2021-07-07T18:46:31.331Z"
   },
   {
    "duration": 48,
    "start_time": "2021-07-07T18:46:31.516Z"
   },
   {
    "duration": 5,
    "start_time": "2021-07-07T18:46:31.566Z"
   },
   {
    "duration": 28,
    "start_time": "2021-07-07T18:46:31.572Z"
   },
   {
    "duration": 8,
    "start_time": "2021-07-07T18:46:31.602Z"
   },
   {
    "duration": 19,
    "start_time": "2021-07-07T18:46:31.611Z"
   },
   {
    "duration": 6,
    "start_time": "2021-07-07T18:46:31.633Z"
   },
   {
    "duration": 17,
    "start_time": "2021-07-07T18:46:31.642Z"
   },
   {
    "duration": 10,
    "start_time": "2021-07-07T18:46:31.684Z"
   },
   {
    "duration": 9,
    "start_time": "2021-07-07T18:46:31.695Z"
   },
   {
    "duration": 28,
    "start_time": "2021-07-07T18:46:31.705Z"
   },
   {
    "duration": 18,
    "start_time": "2021-07-07T18:46:31.735Z"
   },
   {
    "duration": 48,
    "start_time": "2021-07-07T18:46:31.755Z"
   },
   {
    "duration": 6,
    "start_time": "2021-07-07T18:46:31.804Z"
   },
   {
    "duration": 4,
    "start_time": "2021-07-07T18:46:31.812Z"
   },
   {
    "duration": 9,
    "start_time": "2021-07-07T18:46:31.817Z"
   },
   {
    "duration": 10,
    "start_time": "2021-07-07T18:46:31.827Z"
   },
   {
    "duration": 12,
    "start_time": "2021-07-07T18:46:31.838Z"
   },
   {
    "duration": 39,
    "start_time": "2021-07-07T18:46:31.851Z"
   },
   {
    "duration": 24,
    "start_time": "2021-07-07T18:46:31.892Z"
   },
   {
    "duration": 15,
    "start_time": "2021-07-07T18:46:31.918Z"
   },
   {
    "duration": 7,
    "start_time": "2021-07-07T18:46:31.936Z"
   },
   {
    "duration": 8,
    "start_time": "2021-07-07T18:46:31.944Z"
   },
   {
    "duration": 19,
    "start_time": "2021-07-07T18:46:31.984Z"
   },
   {
    "duration": 10,
    "start_time": "2021-07-07T18:46:32.004Z"
   },
   {
    "duration": 5,
    "start_time": "2021-07-07T18:46:32.016Z"
   },
   {
    "duration": 9,
    "start_time": "2021-07-07T18:46:32.023Z"
   },
   {
    "duration": 199,
    "start_time": "2021-07-07T18:46:32.033Z"
   },
   {
    "duration": 19,
    "start_time": "2021-07-07T18:46:32.234Z"
   },
   {
    "duration": 159,
    "start_time": "2021-07-07T18:46:32.255Z"
   },
   {
    "duration": 134,
    "start_time": "2021-07-07T18:46:32.416Z"
   },
   {
    "duration": 10,
    "start_time": "2021-07-07T18:46:32.552Z"
   },
   {
    "duration": 34,
    "start_time": "2021-07-07T18:46:32.563Z"
   },
   {
    "duration": 1039,
    "start_time": "2021-07-08T08:41:09.419Z"
   },
   {
    "duration": 333,
    "start_time": "2021-07-08T08:41:10.459Z"
   },
   {
    "duration": 173,
    "start_time": "2021-07-08T08:41:10.794Z"
   },
   {
    "duration": 5,
    "start_time": "2021-07-08T08:41:10.968Z"
   },
   {
    "duration": 25,
    "start_time": "2021-07-08T08:41:10.975Z"
   },
   {
    "duration": 9,
    "start_time": "2021-07-08T08:41:11.002Z"
   },
   {
    "duration": 18,
    "start_time": "2021-07-08T08:41:11.013Z"
   },
   {
    "duration": 6,
    "start_time": "2021-07-08T08:41:11.033Z"
   },
   {
    "duration": 44,
    "start_time": "2021-07-08T08:41:11.042Z"
   },
   {
    "duration": 10,
    "start_time": "2021-07-08T08:41:11.088Z"
   },
   {
    "duration": 9,
    "start_time": "2021-07-08T08:41:11.100Z"
   },
   {
    "duration": 27,
    "start_time": "2021-07-08T08:41:11.111Z"
   },
   {
    "duration": 46,
    "start_time": "2021-07-08T08:41:11.140Z"
   },
   {
    "duration": 17,
    "start_time": "2021-07-08T08:41:11.187Z"
   },
   {
    "duration": 6,
    "start_time": "2021-07-08T08:41:11.206Z"
   },
   {
    "duration": 5,
    "start_time": "2021-07-08T08:41:11.213Z"
   },
   {
    "duration": 10,
    "start_time": "2021-07-08T08:41:11.219Z"
   },
   {
    "duration": 9,
    "start_time": "2021-07-08T08:41:11.230Z"
   },
   {
    "duration": 45,
    "start_time": "2021-07-08T08:41:11.241Z"
   },
   {
    "duration": 7,
    "start_time": "2021-07-08T08:41:11.287Z"
   },
   {
    "duration": 24,
    "start_time": "2021-07-08T08:41:11.296Z"
   },
   {
    "duration": 16,
    "start_time": "2021-07-08T08:41:11.322Z"
   },
   {
    "duration": 7,
    "start_time": "2021-07-08T08:41:11.341Z"
   },
   {
    "duration": 41,
    "start_time": "2021-07-08T08:41:11.349Z"
   },
   {
    "duration": 17,
    "start_time": "2021-07-08T08:41:11.391Z"
   },
   {
    "duration": 9,
    "start_time": "2021-07-08T08:41:11.410Z"
   },
   {
    "duration": 5,
    "start_time": "2021-07-08T08:41:11.421Z"
   },
   {
    "duration": 6,
    "start_time": "2021-07-08T08:41:11.428Z"
   },
   {
    "duration": 198,
    "start_time": "2021-07-08T08:41:11.435Z"
   },
   {
    "duration": 18,
    "start_time": "2021-07-08T08:41:11.635Z"
   },
   {
    "duration": 155,
    "start_time": "2021-07-08T08:41:11.655Z"
   },
   {
    "duration": 138,
    "start_time": "2021-07-08T08:41:11.811Z"
   },
   {
    "duration": 10,
    "start_time": "2021-07-08T08:41:11.950Z"
   },
   {
    "duration": 29,
    "start_time": "2021-07-08T08:41:11.961Z"
   },
   {
    "duration": 171,
    "start_time": "2021-07-08T08:47:44.522Z"
   },
   {
    "duration": 124,
    "start_time": "2021-07-08T08:47:46.872Z"
   },
   {
    "duration": 191,
    "start_time": "2021-07-08T08:47:58.148Z"
   },
   {
    "duration": 191,
    "start_time": "2021-07-08T08:48:07.412Z"
   },
   {
    "duration": 261,
    "start_time": "2021-07-08T08:48:10.385Z"
   },
   {
    "duration": 255,
    "start_time": "2021-07-08T08:48:14.494Z"
   },
   {
    "duration": 219,
    "start_time": "2021-07-08T08:48:22.752Z"
   },
   {
    "duration": 173,
    "start_time": "2021-07-08T08:49:06.395Z"
   },
   {
    "duration": 180,
    "start_time": "2021-07-08T08:49:21.011Z"
   },
   {
    "duration": 6,
    "start_time": "2021-07-08T08:50:31.697Z"
   },
   {
    "duration": 10,
    "start_time": "2021-07-08T08:50:47.394Z"
   },
   {
    "duration": 11,
    "start_time": "2021-07-08T08:53:49.332Z"
   },
   {
    "duration": 171,
    "start_time": "2021-07-08T08:54:28.408Z"
   },
   {
    "duration": 636,
    "start_time": "2021-07-08T09:02:48.385Z"
   },
   {
    "duration": 227,
    "start_time": "2021-07-08T09:02:49.023Z"
   },
   {
    "duration": 104,
    "start_time": "2021-07-08T09:02:49.252Z"
   },
   {
    "duration": 5,
    "start_time": "2021-07-08T09:02:49.358Z"
   },
   {
    "duration": 27,
    "start_time": "2021-07-08T09:02:49.365Z"
   },
   {
    "duration": 8,
    "start_time": "2021-07-08T09:02:49.394Z"
   },
   {
    "duration": 18,
    "start_time": "2021-07-08T09:02:49.404Z"
   },
   {
    "duration": 6,
    "start_time": "2021-07-08T09:02:49.424Z"
   },
   {
    "duration": 11,
    "start_time": "2021-07-08T09:02:49.433Z"
   },
   {
    "duration": 13,
    "start_time": "2021-07-08T09:02:49.485Z"
   },
   {
    "duration": 9,
    "start_time": "2021-07-08T09:02:49.500Z"
   },
   {
    "duration": 38,
    "start_time": "2021-07-08T09:02:49.511Z"
   },
   {
    "duration": 42,
    "start_time": "2021-07-08T09:02:49.551Z"
   },
   {
    "duration": 21,
    "start_time": "2021-07-08T09:02:49.594Z"
   },
   {
    "duration": 6,
    "start_time": "2021-07-08T09:02:49.616Z"
   },
   {
    "duration": 3,
    "start_time": "2021-07-08T09:02:49.623Z"
   },
   {
    "duration": 9,
    "start_time": "2021-07-08T09:02:49.628Z"
   },
   {
    "duration": 52,
    "start_time": "2021-07-08T09:02:49.638Z"
   },
   {
    "duration": 11,
    "start_time": "2021-07-08T09:02:49.692Z"
   },
   {
    "duration": 8,
    "start_time": "2021-07-08T09:02:49.704Z"
   },
   {
    "duration": 27,
    "start_time": "2021-07-08T09:02:49.713Z"
   },
   {
    "duration": 59,
    "start_time": "2021-07-08T09:02:49.741Z"
   },
   {
    "duration": 8,
    "start_time": "2021-07-08T09:02:49.803Z"
   },
   {
    "duration": 14,
    "start_time": "2021-07-08T09:02:49.813Z"
   },
   {
    "duration": 20,
    "start_time": "2021-07-08T09:02:49.829Z"
   },
   {
    "duration": 44,
    "start_time": "2021-07-08T09:02:49.851Z"
   },
   {
    "duration": 14,
    "start_time": "2021-07-08T09:02:49.896Z"
   },
   {
    "duration": 221,
    "start_time": "2021-07-08T09:02:49.912Z"
   },
   {
    "duration": 6,
    "start_time": "2021-07-08T09:02:50.134Z"
   },
   {
    "duration": 206,
    "start_time": "2021-07-08T09:02:50.142Z"
   },
   {
    "duration": 19,
    "start_time": "2021-07-08T09:02:50.350Z"
   },
   {
    "duration": 21,
    "start_time": "2021-07-08T09:02:50.370Z"
   },
   {
    "duration": 20,
    "start_time": "2021-07-08T09:02:50.393Z"
   },
   {
    "duration": 5,
    "start_time": "2021-07-08T09:02:50.414Z"
   },
   {
    "duration": 5,
    "start_time": "2021-07-08T09:03:34.173Z"
   },
   {
    "duration": 6,
    "start_time": "2021-07-08T09:04:49.062Z"
   },
   {
    "duration": 9,
    "start_time": "2021-07-08T09:04:50.118Z"
   },
   {
    "duration": 14,
    "start_time": "2021-07-08T09:04:58.512Z"
   },
   {
    "duration": 9,
    "start_time": "2021-07-08T09:05:10.988Z"
   },
   {
    "duration": 11,
    "start_time": "2021-07-08T09:05:11.743Z"
   },
   {
    "duration": 7,
    "start_time": "2021-07-08T09:05:25.677Z"
   },
   {
    "duration": 13,
    "start_time": "2021-07-08T09:05:47.189Z"
   },
   {
    "duration": 13,
    "start_time": "2021-07-08T09:05:54.755Z"
   },
   {
    "duration": 4,
    "start_time": "2021-07-08T09:06:29.189Z"
   },
   {
    "duration": 244,
    "start_time": "2021-07-08T09:06:29.195Z"
   },
   {
    "duration": 91,
    "start_time": "2021-07-08T09:06:29.441Z"
   },
   {
    "duration": 4,
    "start_time": "2021-07-08T09:06:29.534Z"
   },
   {
    "duration": 28,
    "start_time": "2021-07-08T09:06:29.540Z"
   },
   {
    "duration": 6,
    "start_time": "2021-07-08T09:06:29.570Z"
   },
   {
    "duration": 18,
    "start_time": "2021-07-08T09:06:29.578Z"
   },
   {
    "duration": 5,
    "start_time": "2021-07-08T09:06:29.597Z"
   },
   {
    "duration": 13,
    "start_time": "2021-07-08T09:06:29.605Z"
   },
   {
    "duration": 8,
    "start_time": "2021-07-08T09:06:29.620Z"
   },
   {
    "duration": 7,
    "start_time": "2021-07-08T09:06:29.630Z"
   },
   {
    "duration": 63,
    "start_time": "2021-07-08T09:06:29.639Z"
   },
   {
    "duration": 17,
    "start_time": "2021-07-08T09:06:29.704Z"
   },
   {
    "duration": 20,
    "start_time": "2021-07-08T09:06:29.723Z"
   },
   {
    "duration": 6,
    "start_time": "2021-07-08T09:06:29.745Z"
   },
   {
    "duration": 3,
    "start_time": "2021-07-08T09:06:29.752Z"
   },
   {
    "duration": 7,
    "start_time": "2021-07-08T09:06:29.785Z"
   },
   {
    "duration": 11,
    "start_time": "2021-07-08T09:06:29.794Z"
   },
   {
    "duration": 15,
    "start_time": "2021-07-08T09:06:29.807Z"
   },
   {
    "duration": 8,
    "start_time": "2021-07-08T09:06:29.823Z"
   },
   {
    "duration": 70,
    "start_time": "2021-07-08T09:06:29.832Z"
   },
   {
    "duration": 17,
    "start_time": "2021-07-08T09:06:29.903Z"
   },
   {
    "duration": 9,
    "start_time": "2021-07-08T09:06:29.921Z"
   },
   {
    "duration": 9,
    "start_time": "2021-07-08T09:06:29.932Z"
   },
   {
    "duration": 57,
    "start_time": "2021-07-08T09:06:29.942Z"
   },
   {
    "duration": 11,
    "start_time": "2021-07-08T09:06:30.001Z"
   },
   {
    "duration": 19,
    "start_time": "2021-07-08T09:06:30.016Z"
   },
   {
    "duration": 217,
    "start_time": "2021-07-08T09:06:30.037Z"
   },
   {
    "duration": 6,
    "start_time": "2021-07-08T09:06:30.255Z"
   },
   {
    "duration": 205,
    "start_time": "2021-07-08T09:06:30.263Z"
   },
   {
    "duration": 27,
    "start_time": "2021-07-08T09:06:30.470Z"
   },
   {
    "duration": 11,
    "start_time": "2021-07-08T09:06:30.500Z"
   },
   {
    "duration": 31,
    "start_time": "2021-07-08T09:06:30.513Z"
   },
   {
    "duration": 18,
    "start_time": "2021-07-08T09:06:30.546Z"
   },
   {
    "duration": 11,
    "start_time": "2021-07-08T09:06:30.566Z"
   },
   {
    "duration": 19,
    "start_time": "2021-07-08T09:06:30.579Z"
   },
   {
    "duration": 20,
    "start_time": "2021-07-08T09:06:49.466Z"
   },
   {
    "duration": 9,
    "start_time": "2021-07-08T09:06:51.994Z"
   },
   {
    "duration": 20,
    "start_time": "2021-07-08T09:06:52.273Z"
   },
   {
    "duration": 246,
    "start_time": "2021-07-08T09:10:21.272Z"
   },
   {
    "duration": 84,
    "start_time": "2021-07-08T09:10:21.436Z"
   },
   {
    "duration": 7,
    "start_time": "2021-07-08T09:10:37.608Z"
   },
   {
    "duration": 189,
    "start_time": "2021-07-08T09:10:38.573Z"
   },
   {
    "duration": 185,
    "start_time": "2021-07-08T09:10:53.181Z"
   },
   {
    "duration": 11,
    "start_time": "2021-07-08T09:10:59.549Z"
   },
   {
    "duration": 42,
    "start_time": "2021-07-08T09:10:59.709Z"
   },
   {
    "duration": 12,
    "start_time": "2021-07-08T09:11:02.857Z"
   },
   {
    "duration": 28,
    "start_time": "2021-07-08T09:11:10.062Z"
   },
   {
    "duration": 249,
    "start_time": "2021-07-08T09:11:37.388Z"
   },
   {
    "duration": 232,
    "start_time": "2021-07-08T09:11:49.485Z"
   },
   {
    "duration": 453,
    "start_time": "2021-07-08T09:12:01.546Z"
   },
   {
    "duration": 440,
    "start_time": "2021-07-08T09:12:12.347Z"
   },
   {
    "duration": 213,
    "start_time": "2021-07-08T09:13:32.196Z"
   },
   {
    "duration": 172,
    "start_time": "2021-07-08T09:14:07.400Z"
   },
   {
    "duration": 185,
    "start_time": "2021-07-08T09:14:14.905Z"
   },
   {
    "duration": 209,
    "start_time": "2021-07-08T09:14:40.109Z"
   },
   {
    "duration": 201,
    "start_time": "2021-07-08T09:14:54.506Z"
   },
   {
    "duration": 622,
    "start_time": "2021-07-08T09:18:14.497Z"
   },
   {
    "duration": 220,
    "start_time": "2021-07-08T09:18:15.121Z"
   },
   {
    "duration": 79,
    "start_time": "2021-07-08T09:18:15.343Z"
   },
   {
    "duration": 4,
    "start_time": "2021-07-08T09:18:15.425Z"
   },
   {
    "duration": 24,
    "start_time": "2021-07-08T09:18:15.431Z"
   },
   {
    "duration": 8,
    "start_time": "2021-07-08T09:18:15.457Z"
   },
   {
    "duration": 16,
    "start_time": "2021-07-08T09:18:15.466Z"
   },
   {
    "duration": 5,
    "start_time": "2021-07-08T09:18:15.484Z"
   },
   {
    "duration": 10,
    "start_time": "2021-07-08T09:18:15.493Z"
   },
   {
    "duration": 8,
    "start_time": "2021-07-08T09:18:15.504Z"
   },
   {
    "duration": 7,
    "start_time": "2021-07-08T09:18:15.513Z"
   },
   {
    "duration": 26,
    "start_time": "2021-07-08T09:18:15.522Z"
   },
   {
    "duration": 49,
    "start_time": "2021-07-08T09:18:15.550Z"
   },
   {
    "duration": 21,
    "start_time": "2021-07-08T09:18:15.601Z"
   },
   {
    "duration": 8,
    "start_time": "2021-07-08T09:18:15.624Z"
   },
   {
    "duration": 3,
    "start_time": "2021-07-08T09:18:15.634Z"
   },
   {
    "duration": 8,
    "start_time": "2021-07-08T09:18:15.639Z"
   },
   {
    "duration": 45,
    "start_time": "2021-07-08T09:18:15.649Z"
   },
   {
    "duration": 13,
    "start_time": "2021-07-08T09:18:15.696Z"
   },
   {
    "duration": 10,
    "start_time": "2021-07-08T09:18:15.711Z"
   },
   {
    "duration": 64,
    "start_time": "2021-07-08T09:18:15.722Z"
   },
   {
    "duration": 19,
    "start_time": "2021-07-08T09:18:15.788Z"
   },
   {
    "duration": 9,
    "start_time": "2021-07-08T09:18:15.809Z"
   },
   {
    "duration": 9,
    "start_time": "2021-07-08T09:18:15.820Z"
   },
   {
    "duration": 18,
    "start_time": "2021-07-08T09:18:15.831Z"
   },
   {
    "duration": 43,
    "start_time": "2021-07-08T09:18:15.851Z"
   },
   {
    "duration": 12,
    "start_time": "2021-07-08T09:18:15.897Z"
   },
   {
    "duration": 219,
    "start_time": "2021-07-08T09:18:15.911Z"
   },
   {
    "duration": 8,
    "start_time": "2021-07-08T09:18:16.132Z"
   },
   {
    "duration": 199,
    "start_time": "2021-07-08T09:18:16.141Z"
   },
   {
    "duration": 18,
    "start_time": "2021-07-08T09:18:16.341Z"
   },
   {
    "duration": 24,
    "start_time": "2021-07-08T09:18:16.361Z"
   },
   {
    "duration": 24,
    "start_time": "2021-07-08T09:18:16.387Z"
   },
   {
    "duration": 211,
    "start_time": "2021-07-08T09:18:16.413Z"
   },
   {
    "duration": 18,
    "start_time": "2021-07-08T09:18:16.626Z"
   },
   {
    "duration": 596,
    "start_time": "2021-07-08T10:06:33.623Z"
   },
   {
    "duration": 181,
    "start_time": "2021-07-08T10:06:34.221Z"
   },
   {
    "duration": 176,
    "start_time": "2021-07-08T10:06:34.635Z"
   },
   {
    "duration": 239,
    "start_time": "2021-07-08T10:06:55.572Z"
   },
   {
    "duration": 6,
    "start_time": "2021-07-08T10:06:57.687Z"
   },
   {
    "duration": 4,
    "start_time": "2021-07-08T10:07:03.956Z"
   },
   {
    "duration": 4,
    "start_time": "2021-07-08T10:07:10.376Z"
   },
   {
    "duration": 4,
    "start_time": "2021-07-08T10:17:19.889Z"
   },
   {
    "duration": 3,
    "start_time": "2021-07-08T10:19:19.407Z"
   },
   {
    "duration": 197,
    "start_time": "2021-07-08T10:19:19.412Z"
   },
   {
    "duration": 127,
    "start_time": "2021-07-08T10:19:19.611Z"
   },
   {
    "duration": 4,
    "start_time": "2021-07-08T10:19:19.740Z"
   },
   {
    "duration": 27,
    "start_time": "2021-07-08T10:19:19.746Z"
   },
   {
    "duration": 7,
    "start_time": "2021-07-08T10:19:19.775Z"
   },
   {
    "duration": 30,
    "start_time": "2021-07-08T10:19:19.784Z"
   },
   {
    "duration": 7,
    "start_time": "2021-07-08T10:19:19.817Z"
   },
   {
    "duration": 26,
    "start_time": "2021-07-08T10:19:19.826Z"
   },
   {
    "duration": 18,
    "start_time": "2021-07-08T10:19:19.854Z"
   },
   {
    "duration": 14,
    "start_time": "2021-07-08T10:19:19.874Z"
   },
   {
    "duration": 48,
    "start_time": "2021-07-08T10:19:19.890Z"
   },
   {
    "duration": 17,
    "start_time": "2021-07-08T10:19:19.940Z"
   },
   {
    "duration": 38,
    "start_time": "2021-07-08T10:19:19.959Z"
   },
   {
    "duration": 8,
    "start_time": "2021-07-08T10:19:19.999Z"
   },
   {
    "duration": 15,
    "start_time": "2021-07-08T10:19:20.009Z"
   },
   {
    "duration": 22,
    "start_time": "2021-07-08T10:19:20.026Z"
   },
   {
    "duration": 10,
    "start_time": "2021-07-08T10:19:20.050Z"
   },
   {
    "duration": 10,
    "start_time": "2021-07-08T10:19:20.062Z"
   },
   {
    "duration": 20,
    "start_time": "2021-07-08T10:19:20.073Z"
   },
   {
    "duration": 29,
    "start_time": "2021-07-08T10:19:20.095Z"
   },
   {
    "duration": 17,
    "start_time": "2021-07-08T10:19:20.126Z"
   },
   {
    "duration": 40,
    "start_time": "2021-07-08T10:19:20.146Z"
   },
   {
    "duration": 15,
    "start_time": "2021-07-08T10:19:20.189Z"
   },
   {
    "duration": 19,
    "start_time": "2021-07-08T10:19:20.206Z"
   },
   {
    "duration": 10,
    "start_time": "2021-07-08T10:19:20.226Z"
   },
   {
    "duration": 11,
    "start_time": "2021-07-08T10:19:20.238Z"
   },
   {
    "duration": 297,
    "start_time": "2021-07-08T10:19:20.250Z"
   },
   {
    "duration": 6,
    "start_time": "2021-07-08T10:19:20.549Z"
   },
   {
    "duration": 191,
    "start_time": "2021-07-08T10:19:20.557Z"
   },
   {
    "duration": 19,
    "start_time": "2021-07-08T10:19:20.750Z"
   },
   {
    "duration": 20,
    "start_time": "2021-07-08T10:19:20.771Z"
   },
   {
    "duration": 15,
    "start_time": "2021-07-08T10:19:20.793Z"
   },
   {
    "duration": 222,
    "start_time": "2021-07-08T10:19:20.809Z"
   },
   {
    "duration": 20,
    "start_time": "2021-07-08T10:19:21.033Z"
   },
   {
    "duration": 27,
    "start_time": "2021-07-08T10:45:04.055Z"
   },
   {
    "duration": 8,
    "start_time": "2021-07-08T10:45:08.478Z"
   },
   {
    "duration": 8,
    "start_time": "2021-07-08T10:45:31.982Z"
   },
   {
    "duration": 10,
    "start_time": "2021-07-08T10:46:01.221Z"
   },
   {
    "duration": 17,
    "start_time": "2021-07-08T10:46:40.011Z"
   },
   {
    "duration": 193,
    "start_time": "2021-07-08T10:48:19.471Z"
   },
   {
    "duration": 225,
    "start_time": "2021-07-08T10:49:26.480Z"
   },
   {
    "duration": 204,
    "start_time": "2021-07-08T10:49:59.992Z"
   },
   {
    "duration": 435,
    "start_time": "2021-07-08T10:50:06.779Z"
   },
   {
    "duration": 199,
    "start_time": "2021-07-08T10:50:14.891Z"
   },
   {
    "duration": 204,
    "start_time": "2021-07-08T10:50:18.501Z"
   },
   {
    "duration": 244,
    "start_time": "2021-07-08T10:50:23.359Z"
   },
   {
    "duration": 192,
    "start_time": "2021-07-08T10:50:29.135Z"
   },
   {
    "duration": 218,
    "start_time": "2021-07-08T10:50:33.092Z"
   },
   {
    "duration": 207,
    "start_time": "2021-07-08T10:52:45.381Z"
   },
   {
    "duration": 5,
    "start_time": "2021-07-08T10:53:34.641Z"
   },
   {
    "duration": 196,
    "start_time": "2021-07-08T10:53:41.478Z"
   },
   {
    "duration": 43,
    "start_time": "2021-07-08T10:53:50.335Z"
   },
   {
    "duration": 32,
    "start_time": "2021-07-08T10:53:55.294Z"
   },
   {
    "duration": 55,
    "start_time": "2021-07-08T10:54:09.675Z"
   },
   {
    "duration": 16,
    "start_time": "2021-07-08T10:54:12.260Z"
   },
   {
    "duration": 15,
    "start_time": "2021-07-08T10:54:49.150Z"
   },
   {
    "duration": 20,
    "start_time": "2021-07-08T10:56:07.596Z"
   },
   {
    "duration": 16,
    "start_time": "2021-07-08T10:58:26.276Z"
   },
   {
    "duration": 22,
    "start_time": "2021-07-08T10:59:00.486Z"
   },
   {
    "duration": 18,
    "start_time": "2021-07-08T11:02:09.653Z"
   },
   {
    "duration": 10,
    "start_time": "2021-07-08T11:03:44.331Z"
   },
   {
    "duration": 10,
    "start_time": "2021-07-08T11:03:54.055Z"
   },
   {
    "duration": 12,
    "start_time": "2021-07-08T11:04:41.967Z"
   },
   {
    "duration": 24,
    "start_time": "2021-07-08T11:07:30.732Z"
   },
   {
    "duration": 6,
    "start_time": "2021-07-08T11:07:37.364Z"
   },
   {
    "duration": 16,
    "start_time": "2021-07-08T11:08:01.819Z"
   },
   {
    "duration": 17,
    "start_time": "2021-07-08T11:09:47.488Z"
   },
   {
    "duration": 246,
    "start_time": "2021-07-08T11:10:00.830Z"
   },
   {
    "duration": 18,
    "start_time": "2021-07-08T11:13:55.195Z"
   },
   {
    "duration": 204,
    "start_time": "2021-07-08T11:14:04.951Z"
   },
   {
    "duration": 19,
    "start_time": "2021-07-08T11:15:10.613Z"
   },
   {
    "duration": 680,
    "start_time": "2021-07-08T11:16:25.793Z"
   },
   {
    "duration": 451,
    "start_time": "2021-07-08T11:16:40.313Z"
   },
   {
    "duration": 469,
    "start_time": "2021-07-08T11:17:21.286Z"
   },
   {
    "duration": 20,
    "start_time": "2021-07-08T11:19:12.554Z"
   },
   {
    "duration": 35,
    "start_time": "2021-07-08T11:20:05.484Z"
   },
   {
    "duration": 53,
    "start_time": "2021-07-08T11:21:40.050Z"
   },
   {
    "duration": 13,
    "start_time": "2021-07-08T11:22:26.059Z"
   },
   {
    "duration": 19,
    "start_time": "2021-07-08T11:22:47.419Z"
   },
   {
    "duration": 25,
    "start_time": "2021-07-08T11:23:19.958Z"
   },
   {
    "duration": 29,
    "start_time": "2021-07-08T11:23:25.415Z"
   },
   {
    "duration": 10,
    "start_time": "2021-07-08T11:24:45.138Z"
   },
   {
    "duration": 19,
    "start_time": "2021-07-08T11:24:54.498Z"
   },
   {
    "duration": 12,
    "start_time": "2021-07-08T11:25:32.225Z"
   },
   {
    "duration": 19,
    "start_time": "2021-07-08T11:25:37.092Z"
   },
   {
    "duration": 17,
    "start_time": "2021-07-08T11:25:58.116Z"
   },
   {
    "duration": 15,
    "start_time": "2021-07-08T11:26:02.258Z"
   },
   {
    "duration": 8,
    "start_time": "2021-07-08T11:26:59.682Z"
   },
   {
    "duration": 184,
    "start_time": "2021-07-08T11:27:21.894Z"
   },
   {
    "duration": 8,
    "start_time": "2021-07-08T11:27:23.824Z"
   },
   {
    "duration": 202,
    "start_time": "2021-07-08T11:27:23.962Z"
   },
   {
    "duration": 360,
    "start_time": "2021-07-08T11:28:33.215Z"
   },
   {
    "duration": 231,
    "start_time": "2021-07-08T11:32:05.542Z"
   },
   {
    "duration": 607,
    "start_time": "2021-07-08T11:36:27.854Z"
   },
   {
    "duration": 241,
    "start_time": "2021-07-08T11:36:28.463Z"
   },
   {
    "duration": 67,
    "start_time": "2021-07-08T11:36:28.709Z"
   },
   {
    "duration": 5,
    "start_time": "2021-07-08T11:36:28.778Z"
   },
   {
    "duration": 32,
    "start_time": "2021-07-08T11:36:28.784Z"
   },
   {
    "duration": 11,
    "start_time": "2021-07-08T11:36:28.819Z"
   },
   {
    "duration": 20,
    "start_time": "2021-07-08T11:36:28.834Z"
   },
   {
    "duration": 36,
    "start_time": "2021-07-08T11:36:28.857Z"
   },
   {
    "duration": 16,
    "start_time": "2021-07-08T11:36:28.895Z"
   },
   {
    "duration": 14,
    "start_time": "2021-07-08T11:36:28.913Z"
   },
   {
    "duration": 9,
    "start_time": "2021-07-08T11:36:28.930Z"
   },
   {
    "duration": 55,
    "start_time": "2021-07-08T11:36:28.941Z"
   },
   {
    "duration": 27,
    "start_time": "2021-07-08T11:36:28.999Z"
   },
   {
    "duration": 30,
    "start_time": "2021-07-08T11:36:29.028Z"
   },
   {
    "duration": 31,
    "start_time": "2021-07-08T11:36:29.060Z"
   },
   {
    "duration": 3,
    "start_time": "2021-07-08T11:36:29.093Z"
   },
   {
    "duration": 12,
    "start_time": "2021-07-08T11:36:29.099Z"
   },
   {
    "duration": 11,
    "start_time": "2021-07-08T11:36:29.112Z"
   },
   {
    "duration": 12,
    "start_time": "2021-07-08T11:36:29.125Z"
   },
   {
    "duration": 9,
    "start_time": "2021-07-08T11:36:29.139Z"
   },
   {
    "duration": 31,
    "start_time": "2021-07-08T11:36:29.191Z"
   },
   {
    "duration": 17,
    "start_time": "2021-07-08T11:36:29.226Z"
   },
   {
    "duration": 7,
    "start_time": "2021-07-08T11:36:29.245Z"
   },
   {
    "duration": 10,
    "start_time": "2021-07-08T11:36:29.254Z"
   },
   {
    "duration": 30,
    "start_time": "2021-07-08T11:36:29.292Z"
   },
   {
    "duration": 11,
    "start_time": "2021-07-08T11:36:29.324Z"
   },
   {
    "duration": 11,
    "start_time": "2021-07-08T11:36:29.337Z"
   },
   {
    "duration": 230,
    "start_time": "2021-07-08T11:36:29.349Z"
   },
   {
    "duration": 13,
    "start_time": "2021-07-08T11:36:29.588Z"
   },
   {
    "duration": 205,
    "start_time": "2021-07-08T11:36:29.603Z"
   },
   {
    "duration": 20,
    "start_time": "2021-07-08T11:36:29.810Z"
   },
   {
    "duration": 9,
    "start_time": "2021-07-08T11:36:29.832Z"
   },
   {
    "duration": 16,
    "start_time": "2021-07-08T11:36:29.843Z"
   },
   {
    "duration": 283,
    "start_time": "2021-07-08T11:36:29.861Z"
   },
   {
    "duration": 50,
    "start_time": "2021-07-08T11:36:30.146Z"
   },
   {
    "duration": 14,
    "start_time": "2021-07-08T11:36:30.198Z"
   },
   {
    "duration": 11,
    "start_time": "2021-07-08T11:36:30.214Z"
   },
   {
    "duration": 245,
    "start_time": "2021-07-08T11:36:30.227Z"
   },
   {
    "duration": 439,
    "start_time": "2021-07-08T11:36:30.474Z"
   },
   {
    "duration": 210,
    "start_time": "2021-07-08T11:36:30.915Z"
   },
   {
    "duration": 15,
    "start_time": "2021-07-08T11:36:31.127Z"
   },
   {
    "duration": 17,
    "start_time": "2021-07-08T11:38:20.451Z"
   },
   {
    "duration": 642,
    "start_time": "2021-07-08T11:46:17.881Z"
   },
   {
    "duration": 210,
    "start_time": "2021-07-08T11:46:18.525Z"
   },
   {
    "duration": 104,
    "start_time": "2021-07-08T11:46:18.741Z"
   },
   {
    "duration": 8,
    "start_time": "2021-07-08T11:46:18.847Z"
   },
   {
    "duration": 25,
    "start_time": "2021-07-08T11:46:18.857Z"
   },
   {
    "duration": 14,
    "start_time": "2021-07-08T11:46:18.884Z"
   },
   {
    "duration": 22,
    "start_time": "2021-07-08T11:46:18.900Z"
   },
   {
    "duration": 5,
    "start_time": "2021-07-08T11:46:18.924Z"
   },
   {
    "duration": 13,
    "start_time": "2021-07-08T11:46:18.931Z"
   },
   {
    "duration": 45,
    "start_time": "2021-07-08T11:46:18.946Z"
   },
   {
    "duration": 12,
    "start_time": "2021-07-08T11:46:18.993Z"
   },
   {
    "duration": 38,
    "start_time": "2021-07-08T11:46:19.006Z"
   },
   {
    "duration": 50,
    "start_time": "2021-07-08T11:46:19.046Z"
   },
   {
    "duration": 29,
    "start_time": "2021-07-08T11:46:19.099Z"
   },
   {
    "duration": 7,
    "start_time": "2021-07-08T11:46:19.130Z"
   },
   {
    "duration": 3,
    "start_time": "2021-07-08T11:46:19.139Z"
   },
   {
    "duration": 11,
    "start_time": "2021-07-08T11:46:19.144Z"
   },
   {
    "duration": 40,
    "start_time": "2021-07-08T11:46:19.157Z"
   },
   {
    "duration": 15,
    "start_time": "2021-07-08T11:46:19.199Z"
   },
   {
    "duration": 10,
    "start_time": "2021-07-08T11:46:19.217Z"
   },
   {
    "duration": 68,
    "start_time": "2021-07-08T11:46:19.230Z"
   },
   {
    "duration": 17,
    "start_time": "2021-07-08T11:46:19.301Z"
   },
   {
    "duration": 7,
    "start_time": "2021-07-08T11:46:19.321Z"
   },
   {
    "duration": 11,
    "start_time": "2021-07-08T11:46:19.330Z"
   },
   {
    "duration": 59,
    "start_time": "2021-07-08T11:46:19.343Z"
   },
   {
    "duration": 17,
    "start_time": "2021-07-08T11:46:19.405Z"
   },
   {
    "duration": 16,
    "start_time": "2021-07-08T11:46:19.424Z"
   },
   {
    "duration": 252,
    "start_time": "2021-07-08T11:46:19.443Z"
   },
   {
    "duration": 9,
    "start_time": "2021-07-08T11:46:19.697Z"
   },
   {
    "duration": 224,
    "start_time": "2021-07-08T11:46:19.708Z"
   },
   {
    "duration": 21,
    "start_time": "2021-07-08T11:46:19.934Z"
   },
   {
    "duration": 9,
    "start_time": "2021-07-08T11:46:19.956Z"
   },
   {
    "duration": 32,
    "start_time": "2021-07-08T11:46:19.967Z"
   },
   {
    "duration": 288,
    "start_time": "2021-07-08T11:46:20.004Z"
   },
   {
    "duration": 23,
    "start_time": "2021-07-08T11:46:20.300Z"
   },
   {
    "duration": 11,
    "start_time": "2021-07-08T11:46:20.325Z"
   },
   {
    "duration": 11,
    "start_time": "2021-07-08T11:46:20.339Z"
   },
   {
    "duration": 259,
    "start_time": "2021-07-08T11:46:20.352Z"
   },
   {
    "duration": 438,
    "start_time": "2021-07-08T11:46:20.613Z"
   },
   {
    "duration": 207,
    "start_time": "2021-07-08T11:46:21.054Z"
   },
   {
    "duration": 27,
    "start_time": "2021-07-08T11:46:21.262Z"
   },
   {
    "duration": 19,
    "start_time": "2021-07-08T11:46:21.291Z"
   },
   {
    "duration": 820,
    "start_time": "2021-07-08T11:49:01.655Z"
   },
   {
    "duration": 372,
    "start_time": "2021-07-08T11:49:02.478Z"
   },
   {
    "duration": 98,
    "start_time": "2021-07-08T11:49:02.853Z"
   },
   {
    "duration": 6,
    "start_time": "2021-07-08T11:49:02.953Z"
   },
   {
    "duration": 39,
    "start_time": "2021-07-08T11:49:02.960Z"
   },
   {
    "duration": 9,
    "start_time": "2021-07-08T11:49:03.003Z"
   },
   {
    "duration": 23,
    "start_time": "2021-07-08T11:49:03.014Z"
   },
   {
    "duration": 6,
    "start_time": "2021-07-08T11:49:03.041Z"
   },
   {
    "duration": 20,
    "start_time": "2021-07-08T11:49:03.049Z"
   },
   {
    "duration": 18,
    "start_time": "2021-07-08T11:49:03.084Z"
   },
   {
    "duration": 14,
    "start_time": "2021-07-08T11:49:03.104Z"
   },
   {
    "duration": 39,
    "start_time": "2021-07-08T11:49:03.119Z"
   },
   {
    "duration": 38,
    "start_time": "2021-07-08T11:49:03.160Z"
   },
   {
    "duration": 26,
    "start_time": "2021-07-08T11:49:03.200Z"
   },
   {
    "duration": 7,
    "start_time": "2021-07-08T11:49:03.227Z"
   },
   {
    "duration": 4,
    "start_time": "2021-07-08T11:49:03.236Z"
   },
   {
    "duration": 15,
    "start_time": "2021-07-08T11:49:03.243Z"
   },
   {
    "duration": 21,
    "start_time": "2021-07-08T11:49:03.285Z"
   },
   {
    "duration": 17,
    "start_time": "2021-07-08T11:49:03.309Z"
   },
   {
    "duration": 10,
    "start_time": "2021-07-08T11:49:03.328Z"
   },
   {
    "duration": 65,
    "start_time": "2021-07-08T11:49:03.340Z"
   },
   {
    "duration": 18,
    "start_time": "2021-07-08T11:49:03.407Z"
   },
   {
    "duration": 8,
    "start_time": "2021-07-08T11:49:03.428Z"
   },
   {
    "duration": 15,
    "start_time": "2021-07-08T11:49:03.438Z"
   },
   {
    "duration": 40,
    "start_time": "2021-07-08T11:49:03.455Z"
   },
   {
    "duration": 12,
    "start_time": "2021-07-08T11:49:03.497Z"
   },
   {
    "duration": 29,
    "start_time": "2021-07-08T11:49:03.511Z"
   },
   {
    "duration": 285,
    "start_time": "2021-07-08T11:49:03.542Z"
   },
   {
    "duration": 8,
    "start_time": "2021-07-08T11:49:03.829Z"
   },
   {
    "duration": 227,
    "start_time": "2021-07-08T11:49:03.838Z"
   },
   {
    "duration": 40,
    "start_time": "2021-07-08T11:49:04.066Z"
   },
   {
    "duration": 10,
    "start_time": "2021-07-08T11:49:04.108Z"
   },
   {
    "duration": 26,
    "start_time": "2021-07-08T11:49:04.121Z"
   },
   {
    "duration": 290,
    "start_time": "2021-07-08T11:49:04.149Z"
   },
   {
    "duration": 26,
    "start_time": "2021-07-08T11:49:04.441Z"
   },
   {
    "duration": 31,
    "start_time": "2021-07-08T11:49:04.470Z"
   },
   {
    "duration": 14,
    "start_time": "2021-07-08T11:49:04.503Z"
   },
   {
    "duration": 259,
    "start_time": "2021-07-08T11:49:04.521Z"
   },
   {
    "duration": 480,
    "start_time": "2021-07-08T11:49:04.782Z"
   },
   {
    "duration": 225,
    "start_time": "2021-07-08T11:49:05.264Z"
   },
   {
    "duration": 22,
    "start_time": "2021-07-08T11:49:05.491Z"
   },
   {
    "duration": 24,
    "start_time": "2021-07-08T11:49:05.515Z"
   },
   {
    "duration": 634,
    "start_time": "2021-07-08T11:52:24.960Z"
   },
   {
    "duration": 199,
    "start_time": "2021-07-08T11:52:25.599Z"
   },
   {
    "duration": 106,
    "start_time": "2021-07-08T11:52:25.803Z"
   },
   {
    "duration": 7,
    "start_time": "2021-07-08T11:52:25.911Z"
   },
   {
    "duration": 29,
    "start_time": "2021-07-08T11:52:25.920Z"
   },
   {
    "duration": 7,
    "start_time": "2021-07-08T11:52:25.951Z"
   },
   {
    "duration": 26,
    "start_time": "2021-07-08T11:52:25.961Z"
   },
   {
    "duration": 11,
    "start_time": "2021-07-08T11:52:25.990Z"
   },
   {
    "duration": 29,
    "start_time": "2021-07-08T11:52:26.005Z"
   },
   {
    "duration": 9,
    "start_time": "2021-07-08T11:52:26.036Z"
   },
   {
    "duration": 8,
    "start_time": "2021-07-08T11:52:26.047Z"
   },
   {
    "duration": 63,
    "start_time": "2021-07-08T11:52:26.057Z"
   },
   {
    "duration": 17,
    "start_time": "2021-07-08T11:52:26.122Z"
   },
   {
    "duration": 43,
    "start_time": "2021-07-08T11:52:26.142Z"
   },
   {
    "duration": 17,
    "start_time": "2021-07-08T11:52:26.187Z"
   },
   {
    "duration": 5,
    "start_time": "2021-07-08T11:52:26.206Z"
   },
   {
    "duration": 12,
    "start_time": "2021-07-08T11:52:26.212Z"
   },
   {
    "duration": 11,
    "start_time": "2021-07-08T11:52:26.226Z"
   },
   {
    "duration": 12,
    "start_time": "2021-07-08T11:52:26.238Z"
   },
   {
    "duration": 38,
    "start_time": "2021-07-08T11:52:26.252Z"
   },
   {
    "duration": 40,
    "start_time": "2021-07-08T11:52:26.292Z"
   },
   {
    "duration": 17,
    "start_time": "2021-07-08T11:52:26.336Z"
   },
   {
    "duration": 39,
    "start_time": "2021-07-08T11:52:26.355Z"
   },
   {
    "duration": 11,
    "start_time": "2021-07-08T11:52:26.395Z"
   },
   {
    "duration": 23,
    "start_time": "2021-07-08T11:52:26.408Z"
   },
   {
    "duration": 12,
    "start_time": "2021-07-08T11:52:26.432Z"
   },
   {
    "duration": 41,
    "start_time": "2021-07-08T11:52:26.446Z"
   },
   {
    "duration": 215,
    "start_time": "2021-07-08T11:52:26.493Z"
   },
   {
    "duration": 8,
    "start_time": "2021-07-08T11:52:26.710Z"
   },
   {
    "duration": 228,
    "start_time": "2021-07-08T11:52:26.720Z"
   },
   {
    "duration": 18,
    "start_time": "2021-07-08T11:52:26.950Z"
   },
   {
    "duration": 35,
    "start_time": "2021-07-08T11:52:26.969Z"
   },
   {
    "duration": 23,
    "start_time": "2021-07-08T11:52:27.006Z"
   },
   {
    "duration": 258,
    "start_time": "2021-07-08T11:52:27.030Z"
   },
   {
    "duration": 24,
    "start_time": "2021-07-08T11:52:27.290Z"
   },
   {
    "duration": 12,
    "start_time": "2021-07-08T11:52:27.316Z"
   },
   {
    "duration": 10,
    "start_time": "2021-07-08T11:52:27.329Z"
   },
   {
    "duration": 298,
    "start_time": "2021-07-08T11:52:27.341Z"
   },
   {
    "duration": 436,
    "start_time": "2021-07-08T11:52:27.641Z"
   },
   {
    "duration": 216,
    "start_time": "2021-07-08T11:52:28.079Z"
   },
   {
    "duration": 20,
    "start_time": "2021-07-08T11:52:28.297Z"
   },
   {
    "duration": 17,
    "start_time": "2021-07-08T11:52:28.319Z"
   },
   {
    "duration": 608,
    "start_time": "2023-05-12T14:36:42.742Z"
   },
   {
    "duration": 110,
    "start_time": "2023-05-12T14:36:54.403Z"
   },
   {
    "duration": 11,
    "start_time": "2023-05-12T14:36:59.900Z"
   },
   {
    "duration": 618,
    "start_time": "2023-05-12T14:37:35.329Z"
   },
   {
    "duration": 716,
    "start_time": "2023-05-12T14:38:42.701Z"
   },
   {
    "duration": 147,
    "start_time": "2023-05-12T14:38:49.720Z"
   },
   {
    "duration": 117,
    "start_time": "2023-05-12T14:39:40.327Z"
   },
   {
    "duration": 46,
    "start_time": "2023-05-12T14:46:40.035Z"
   },
   {
    "duration": 150,
    "start_time": "2023-05-12T14:47:03.838Z"
   },
   {
    "duration": 60,
    "start_time": "2023-05-12T14:47:16.310Z"
   },
   {
    "duration": 574,
    "start_time": "2023-05-12T14:48:26.739Z"
   },
   {
    "duration": 130,
    "start_time": "2023-05-12T14:50:24.211Z"
   },
   {
    "duration": 74,
    "start_time": "2023-05-12T14:50:26.727Z"
   },
   {
    "duration": 7,
    "start_time": "2023-05-12T14:51:46.337Z"
   },
   {
    "duration": 6,
    "start_time": "2023-05-12T14:52:04.013Z"
   },
   {
    "duration": 55,
    "start_time": "2023-05-12T14:52:31.643Z"
   },
   {
    "duration": 25,
    "start_time": "2023-05-12T14:53:07.807Z"
   },
   {
    "duration": 107,
    "start_time": "2023-05-12T14:54:20.298Z"
   },
   {
    "duration": 6,
    "start_time": "2023-05-12T14:54:27.702Z"
   },
   {
    "duration": 4,
    "start_time": "2023-05-12T14:54:31.705Z"
   },
   {
    "duration": 110,
    "start_time": "2023-05-12T14:54:32.196Z"
   },
   {
    "duration": 53,
    "start_time": "2023-05-12T14:54:33.598Z"
   },
   {
    "duration": 9,
    "start_time": "2023-05-12T14:54:35.203Z"
   },
   {
    "duration": 16,
    "start_time": "2023-05-12T14:54:56.323Z"
   },
   {
    "duration": 15,
    "start_time": "2023-05-12T14:55:17.435Z"
   },
   {
    "duration": 58,
    "start_time": "2023-05-12T14:56:41.037Z"
   },
   {
    "duration": 5,
    "start_time": "2023-05-12T15:01:29.058Z"
   },
   {
    "duration": 15,
    "start_time": "2023-05-12T15:01:40.958Z"
   },
   {
    "duration": 10,
    "start_time": "2023-05-12T15:01:47.746Z"
   },
   {
    "duration": 14,
    "start_time": "2023-05-12T15:01:58.890Z"
   },
   {
    "duration": 717,
    "start_time": "2023-05-12T15:03:33.503Z"
   },
   {
    "duration": 187,
    "start_time": "2023-05-12T15:05:04.015Z"
   },
   {
    "duration": 6,
    "start_time": "2023-05-12T15:06:53.551Z"
   },
   {
    "duration": 200,
    "start_time": "2023-05-12T15:14:07.234Z"
   },
   {
    "duration": 126,
    "start_time": "2023-05-12T15:15:16.458Z"
   },
   {
    "duration": 9,
    "start_time": "2023-05-12T15:15:57.103Z"
   },
   {
    "duration": 3,
    "start_time": "2023-05-12T15:16:21.715Z"
   },
   {
    "duration": 6,
    "start_time": "2023-05-12T15:16:28.710Z"
   },
   {
    "duration": 11,
    "start_time": "2023-05-12T15:16:37.147Z"
   },
   {
    "duration": 17,
    "start_time": "2023-05-12T15:16:44.111Z"
   },
   {
    "duration": 10,
    "start_time": "2023-05-12T15:16:52.223Z"
   },
   {
    "duration": 157,
    "start_time": "2023-05-12T15:18:10.094Z"
   },
   {
    "duration": 32,
    "start_time": "2023-05-12T15:18:40.507Z"
   },
   {
    "duration": 20,
    "start_time": "2023-05-12T15:19:18.730Z"
   },
   {
    "duration": 12,
    "start_time": "2023-05-12T15:20:07.079Z"
   },
   {
    "duration": 26,
    "start_time": "2023-05-12T15:21:06.684Z"
   },
   {
    "duration": 19,
    "start_time": "2023-05-12T15:21:26.455Z"
   },
   {
    "duration": 30,
    "start_time": "2023-05-12T15:24:45.454Z"
   },
   {
    "duration": 34,
    "start_time": "2023-05-12T15:25:08.823Z"
   },
   {
    "duration": 19,
    "start_time": "2023-05-12T15:25:43.347Z"
   },
   {
    "duration": 48,
    "start_time": "2023-05-12T15:26:24.755Z"
   },
   {
    "duration": 24,
    "start_time": "2023-05-12T15:28:04.934Z"
   },
   {
    "duration": 13,
    "start_time": "2023-05-12T15:28:24.135Z"
   },
   {
    "duration": 19,
    "start_time": "2023-05-12T15:30:25.467Z"
   },
   {
    "duration": 68,
    "start_time": "2023-05-12T15:31:12.404Z"
   },
   {
    "duration": 44,
    "start_time": "2023-05-12T15:31:29.593Z"
   },
   {
    "duration": 16,
    "start_time": "2023-05-12T15:31:58.188Z"
   },
   {
    "duration": 5,
    "start_time": "2023-05-12T15:32:09.120Z"
   },
   {
    "duration": 29,
    "start_time": "2023-05-12T15:33:05.912Z"
   },
   {
    "duration": 10,
    "start_time": "2023-05-12T15:33:21.404Z"
   },
   {
    "duration": 277,
    "start_time": "2023-05-12T15:33:21.864Z"
   },
   {
    "duration": 139,
    "start_time": "2023-05-12T15:33:26.329Z"
   },
   {
    "duration": 36,
    "start_time": "2023-05-12T15:33:28.001Z"
   },
   {
    "duration": 40,
    "start_time": "2023-05-12T15:33:29.266Z"
   },
   {
    "duration": 6,
    "start_time": "2023-05-12T15:33:44.583Z"
   },
   {
    "duration": 217,
    "start_time": "2023-05-12T15:33:45.484Z"
   },
   {
    "duration": 89,
    "start_time": "2023-05-12T15:33:46.786Z"
   },
   {
    "duration": 25,
    "start_time": "2023-05-12T15:33:48.027Z"
   },
   {
    "duration": 20,
    "start_time": "2023-05-12T15:34:02.950Z"
   },
   {
    "duration": 3,
    "start_time": "2023-05-12T15:34:13.320Z"
   },
   {
    "duration": 194,
    "start_time": "2023-05-12T15:34:13.744Z"
   },
   {
    "duration": 45,
    "start_time": "2023-05-12T15:34:14.308Z"
   },
   {
    "duration": 19,
    "start_time": "2023-05-12T15:34:17.388Z"
   },
   {
    "duration": 19,
    "start_time": "2023-05-12T15:34:21.215Z"
   },
   {
    "duration": 13,
    "start_time": "2023-05-12T15:34:50.752Z"
   },
   {
    "duration": 4,
    "start_time": "2023-05-12T15:37:43.833Z"
   },
   {
    "duration": 192,
    "start_time": "2023-05-12T15:37:44.100Z"
   },
   {
    "duration": 73,
    "start_time": "2023-05-12T15:37:44.431Z"
   },
   {
    "duration": 19,
    "start_time": "2023-05-12T15:37:46.334Z"
   },
   {
    "duration": 10,
    "start_time": "2023-05-12T15:38:12.307Z"
   },
   {
    "duration": 15,
    "start_time": "2023-05-12T15:38:38.633Z"
   },
   {
    "duration": 30,
    "start_time": "2023-05-12T15:41:40.678Z"
   },
   {
    "duration": 59,
    "start_time": "2023-05-12T15:41:54.055Z"
   },
   {
    "duration": 58,
    "start_time": "2023-05-12T15:42:31.243Z"
   },
   {
    "duration": 10,
    "start_time": "2023-05-12T15:45:10.023Z"
   },
   {
    "duration": 22,
    "start_time": "2023-05-12T15:48:52.307Z"
   },
   {
    "duration": 64,
    "start_time": "2023-05-12T15:50:37.790Z"
   },
   {
    "duration": 85,
    "start_time": "2023-05-12T15:50:56.563Z"
   },
   {
    "duration": 31,
    "start_time": "2023-05-12T15:52:09.441Z"
   },
   {
    "duration": 22,
    "start_time": "2023-05-12T15:52:19.723Z"
   },
   {
    "duration": 16,
    "start_time": "2023-05-12T15:53:59.928Z"
   },
   {
    "duration": 48,
    "start_time": "2023-05-12T15:55:42.192Z"
   },
   {
    "duration": 7,
    "start_time": "2023-05-12T15:55:57.009Z"
   },
   {
    "duration": 148,
    "start_time": "2023-05-12T15:55:57.228Z"
   },
   {
    "duration": 54,
    "start_time": "2023-05-12T15:55:57.423Z"
   },
   {
    "duration": 29,
    "start_time": "2023-05-12T15:55:57.604Z"
   },
   {
    "duration": 13,
    "start_time": "2023-05-12T15:55:57.807Z"
   },
   {
    "duration": 35,
    "start_time": "2023-05-12T15:55:57.937Z"
   },
   {
    "duration": 7,
    "start_time": "2023-05-12T15:56:08.950Z"
   },
   {
    "duration": 15,
    "start_time": "2023-05-12T15:56:10.404Z"
   },
   {
    "duration": 19,
    "start_time": "2023-05-12T15:56:30.204Z"
   },
   {
    "duration": 6,
    "start_time": "2023-05-12T15:57:25.047Z"
   },
   {
    "duration": 17,
    "start_time": "2023-05-12T15:57:38.514Z"
   },
   {
    "duration": 6,
    "start_time": "2023-05-12T16:02:12.437Z"
   },
   {
    "duration": 16,
    "start_time": "2023-05-12T16:02:12.915Z"
   },
   {
    "duration": 8,
    "start_time": "2023-05-12T16:02:40.713Z"
   },
   {
    "duration": 11,
    "start_time": "2023-05-12T16:02:41.127Z"
   },
   {
    "duration": 19,
    "start_time": "2023-05-12T16:04:11.509Z"
   },
   {
    "duration": 20,
    "start_time": "2023-05-12T16:04:11.745Z"
   },
   {
    "duration": 13,
    "start_time": "2023-05-12T16:07:06.821Z"
   },
   {
    "duration": 1517,
    "start_time": "2023-05-12T16:07:57.130Z"
   },
   {
    "duration": 1690,
    "start_time": "2023-05-12T16:08:19.345Z"
   },
   {
    "duration": 9,
    "start_time": "2023-05-12T16:08:29.712Z"
   },
   {
    "duration": 10,
    "start_time": "2023-05-12T16:08:41.503Z"
   },
   {
    "duration": 12,
    "start_time": "2023-05-12T16:08:44.826Z"
   },
   {
    "duration": 22,
    "start_time": "2023-05-12T16:08:57.790Z"
   },
   {
    "duration": 8,
    "start_time": "2023-05-12T16:09:41.713Z"
   },
   {
    "duration": 8,
    "start_time": "2023-05-12T16:10:33.339Z"
   },
   {
    "duration": 12,
    "start_time": "2023-05-12T16:10:34.794Z"
   },
   {
    "duration": 8,
    "start_time": "2023-05-12T16:12:07.007Z"
   },
   {
    "duration": 10,
    "start_time": "2023-05-12T16:15:04.626Z"
   },
   {
    "duration": 14,
    "start_time": "2023-05-12T16:15:04.999Z"
   },
   {
    "duration": 1761,
    "start_time": "2023-05-12T16:18:24.952Z"
   },
   {
    "duration": 35,
    "start_time": "2023-05-12T16:18:34.553Z"
   },
   {
    "duration": 17,
    "start_time": "2023-05-12T16:24:49.315Z"
   },
   {
    "duration": 28,
    "start_time": "2023-05-12T16:24:57.792Z"
   },
   {
    "duration": 16,
    "start_time": "2023-05-12T16:25:20.170Z"
   },
   {
    "duration": 29,
    "start_time": "2023-05-12T16:25:42.522Z"
   },
   {
    "duration": 3,
    "start_time": "2023-05-12T18:57:21.545Z"
   },
   {
    "duration": 119,
    "start_time": "2023-05-12T18:57:21.913Z"
   },
   {
    "duration": 37,
    "start_time": "2023-05-12T18:57:22.593Z"
   },
   {
    "duration": 16,
    "start_time": "2023-05-12T18:57:23.250Z"
   },
   {
    "duration": 5,
    "start_time": "2023-05-12T18:57:23.821Z"
   },
   {
    "duration": 22,
    "start_time": "2023-05-12T18:57:24.515Z"
   },
   {
    "duration": 6,
    "start_time": "2023-05-12T18:57:31.092Z"
   },
   {
    "duration": 16,
    "start_time": "2023-05-12T18:57:33.952Z"
   },
   {
    "duration": 10,
    "start_time": "2023-05-12T18:57:40.617Z"
   },
   {
    "duration": 19,
    "start_time": "2023-05-12T19:01:24.213Z"
   },
   {
    "duration": 12,
    "start_time": "2023-05-12T19:04:19.751Z"
   },
   {
    "duration": 10,
    "start_time": "2023-05-12T19:04:21.243Z"
   },
   {
    "duration": 23,
    "start_time": "2023-05-12T19:12:46.608Z"
   },
   {
    "duration": 22,
    "start_time": "2023-05-12T19:15:17.787Z"
   },
   {
    "duration": 6,
    "start_time": "2023-05-12T19:16:11.452Z"
   },
   {
    "duration": 5,
    "start_time": "2023-05-12T19:19:30.011Z"
   },
   {
    "duration": 8,
    "start_time": "2023-05-12T19:26:01.792Z"
   },
   {
    "duration": 17,
    "start_time": "2023-05-12T19:26:43.355Z"
   },
   {
    "duration": 8,
    "start_time": "2023-05-12T19:26:58.488Z"
   },
   {
    "duration": 4,
    "start_time": "2023-05-12T19:27:51.090Z"
   },
   {
    "duration": 14,
    "start_time": "2023-05-12T19:28:03.354Z"
   },
   {
    "duration": 3,
    "start_time": "2023-05-12T19:32:46.984Z"
   },
   {
    "duration": 17,
    "start_time": "2023-05-12T19:33:41.357Z"
   },
   {
    "duration": 5,
    "start_time": "2023-05-12T19:34:41.888Z"
   },
   {
    "duration": 5,
    "start_time": "2023-05-12T19:35:04.923Z"
   },
   {
    "duration": 67,
    "start_time": "2023-05-12T19:37:37.528Z"
   },
   {
    "duration": 2142,
    "start_time": "2023-05-12T19:37:51.174Z"
   },
   {
    "duration": 4,
    "start_time": "2023-05-12T19:42:19.391Z"
   },
   {
    "duration": 33,
    "start_time": "2023-05-12T19:42:28.556Z"
   },
   {
    "duration": 3,
    "start_time": "2023-05-12T19:43:13.518Z"
   },
   {
    "duration": 3,
    "start_time": "2023-05-12T19:43:25.004Z"
   },
   {
    "duration": 10,
    "start_time": "2023-05-12T19:43:26.249Z"
   },
   {
    "duration": 9,
    "start_time": "2023-05-12T19:43:28.015Z"
   },
   {
    "duration": 3,
    "start_time": "2023-05-12T19:44:30.317Z"
   },
   {
    "duration": 5759,
    "start_time": "2023-05-12T19:44:31.914Z"
   },
   {
    "duration": 13,
    "start_time": "2023-05-12T19:44:37.674Z"
   },
   {
    "duration": 0,
    "start_time": "2023-05-12T19:44:37.689Z"
   },
   {
    "duration": 23,
    "start_time": "2023-05-12T19:44:55.353Z"
   },
   {
    "duration": 3,
    "start_time": "2023-05-12T19:46:18.750Z"
   },
   {
    "duration": 138,
    "start_time": "2023-05-12T19:46:19.808Z"
   },
   {
    "duration": 45,
    "start_time": "2023-05-12T19:46:26.412Z"
   },
   {
    "duration": 14,
    "start_time": "2023-05-12T19:46:29.804Z"
   },
   {
    "duration": 7,
    "start_time": "2023-05-12T19:46:31.523Z"
   },
   {
    "duration": 32,
    "start_time": "2023-05-12T19:46:32.607Z"
   },
   {
    "duration": 15,
    "start_time": "2023-05-12T19:46:37.559Z"
   },
   {
    "duration": 7,
    "start_time": "2023-05-12T19:46:40.947Z"
   },
   {
    "duration": 4,
    "start_time": "2023-05-12T19:46:44.939Z"
   },
   {
    "duration": 11,
    "start_time": "2023-05-12T19:46:47.212Z"
   },
   {
    "duration": 3,
    "start_time": "2023-05-12T19:47:08.013Z"
   },
   {
    "duration": 112,
    "start_time": "2023-05-12T19:47:08.413Z"
   },
   {
    "duration": 41,
    "start_time": "2023-05-12T19:47:08.687Z"
   },
   {
    "duration": 11,
    "start_time": "2023-05-12T19:47:09.028Z"
   },
   {
    "duration": 10,
    "start_time": "2023-05-12T19:47:09.390Z"
   },
   {
    "duration": 33,
    "start_time": "2023-05-12T19:47:09.874Z"
   },
   {
    "duration": 6,
    "start_time": "2023-05-12T19:47:14.728Z"
   },
   {
    "duration": 7,
    "start_time": "2023-05-12T19:47:16.816Z"
   },
   {
    "duration": 3,
    "start_time": "2023-05-12T19:47:18.319Z"
   },
   {
    "duration": 22,
    "start_time": "2023-05-12T19:47:23.355Z"
   },
   {
    "duration": 4,
    "start_time": "2023-05-12T19:48:02.186Z"
   },
   {
    "duration": 14,
    "start_time": "2023-05-12T19:48:09.156Z"
   },
   {
    "duration": 4,
    "start_time": "2023-05-12T19:49:33.008Z"
   },
   {
    "duration": 443,
    "start_time": "2023-05-12T19:49:53.702Z"
   },
   {
    "duration": 3,
    "start_time": "2023-05-12T19:50:20.216Z"
   },
   {
    "duration": 139,
    "start_time": "2023-05-12T19:50:20.713Z"
   },
   {
    "duration": 40,
    "start_time": "2023-05-12T19:50:20.924Z"
   },
   {
    "duration": 12,
    "start_time": "2023-05-12T19:50:21.128Z"
   },
   {
    "duration": 6,
    "start_time": "2023-05-12T19:50:21.332Z"
   },
   {
    "duration": 30,
    "start_time": "2023-05-12T19:50:21.924Z"
   },
   {
    "duration": 6,
    "start_time": "2023-05-12T19:50:25.324Z"
   },
   {
    "duration": 7,
    "start_time": "2023-05-12T19:50:30.217Z"
   },
   {
    "duration": 6,
    "start_time": "2023-05-12T19:50:34.319Z"
   },
   {
    "duration": 8,
    "start_time": "2023-05-12T19:50:35.554Z"
   },
   {
    "duration": 9,
    "start_time": "2023-05-12T19:51:12.458Z"
   },
   {
    "duration": 126,
    "start_time": "2023-05-12T19:51:12.701Z"
   },
   {
    "duration": 42,
    "start_time": "2023-05-12T19:51:12.920Z"
   },
   {
    "duration": 12,
    "start_time": "2023-05-12T19:51:13.124Z"
   },
   {
    "duration": 14,
    "start_time": "2023-05-12T19:51:13.281Z"
   },
   {
    "duration": 27,
    "start_time": "2023-05-12T19:51:15.209Z"
   },
   {
    "duration": 7,
    "start_time": "2023-05-12T19:51:18.710Z"
   },
   {
    "duration": 9,
    "start_time": "2023-05-12T19:51:19.956Z"
   },
   {
    "duration": 10,
    "start_time": "2023-05-12T19:51:21.755Z"
   },
   {
    "duration": 6,
    "start_time": "2023-05-12T19:51:23.699Z"
   },
   {
    "duration": 7,
    "start_time": "2023-05-12T19:52:23.698Z"
   },
   {
    "duration": 25,
    "start_time": "2023-05-12T19:52:29.862Z"
   },
   {
    "duration": 11,
    "start_time": "2023-05-12T19:54:16.612Z"
   },
   {
    "duration": 25,
    "start_time": "2023-05-12T19:54:19.599Z"
   },
   {
    "duration": 13,
    "start_time": "2023-05-12T19:54:24.219Z"
   },
   {
    "duration": 13,
    "start_time": "2023-05-12T19:55:00.804Z"
   },
   {
    "duration": 21,
    "start_time": "2023-05-12T19:55:03.071Z"
   },
   {
    "duration": 9,
    "start_time": "2023-05-12T19:55:43.367Z"
   },
   {
    "duration": 11,
    "start_time": "2023-05-12T19:55:56.004Z"
   },
   {
    "duration": 12,
    "start_time": "2023-05-12T19:57:07.002Z"
   },
   {
    "duration": 10,
    "start_time": "2023-05-12T19:58:04.492Z"
   },
   {
    "duration": 10,
    "start_time": "2023-05-12T19:58:07.532Z"
   },
   {
    "duration": 11,
    "start_time": "2023-05-12T20:02:47.088Z"
   },
   {
    "duration": 7,
    "start_time": "2023-05-12T20:02:49.399Z"
   },
   {
    "duration": 15,
    "start_time": "2023-05-12T20:02:50.878Z"
   },
   {
    "duration": 24,
    "start_time": "2023-05-12T20:12:58.584Z"
   },
   {
    "duration": 8,
    "start_time": "2023-05-12T20:13:37.750Z"
   },
   {
    "duration": 1708,
    "start_time": "2023-05-12T20:18:30.405Z"
   },
   {
    "duration": 6,
    "start_time": "2023-05-12T20:18:42.036Z"
   },
   {
    "duration": 21,
    "start_time": "2023-05-12T20:19:10.357Z"
   },
   {
    "duration": 8,
    "start_time": "2023-05-12T20:19:20.693Z"
   },
   {
    "duration": 8,
    "start_time": "2023-05-12T20:19:31.989Z"
   },
   {
    "duration": 8,
    "start_time": "2023-05-12T20:20:27.086Z"
   },
   {
    "duration": 4,
    "start_time": "2023-05-12T20:29:37.544Z"
   },
   {
    "duration": 8,
    "start_time": "2023-05-12T20:29:53.652Z"
   },
   {
    "duration": 4,
    "start_time": "2023-05-12T20:29:58.004Z"
   },
   {
    "duration": 1537,
    "start_time": "2023-05-12T20:38:00.700Z"
   },
   {
    "duration": 1332,
    "start_time": "2023-05-12T20:38:10.091Z"
   },
   {
    "duration": 6,
    "start_time": "2023-05-12T20:38:13.285Z"
   },
   {
    "duration": 5,
    "start_time": "2023-05-12T20:41:30.988Z"
   },
   {
    "duration": 5,
    "start_time": "2023-05-12T20:44:07.430Z"
   },
   {
    "duration": 5,
    "start_time": "2023-05-12T20:45:23.339Z"
   },
   {
    "duration": 5,
    "start_time": "2023-05-12T20:45:52.399Z"
   },
   {
    "duration": 4,
    "start_time": "2023-05-12T20:46:07.599Z"
   },
   {
    "duration": 4,
    "start_time": "2023-05-12T20:46:11.539Z"
   },
   {
    "duration": 5,
    "start_time": "2023-05-12T20:48:19.313Z"
   },
   {
    "duration": 8,
    "start_time": "2023-05-12T20:49:19.875Z"
   },
   {
    "duration": 4,
    "start_time": "2023-05-12T21:11:49.114Z"
   },
   {
    "duration": 5,
    "start_time": "2023-05-12T21:12:49.546Z"
   },
   {
    "duration": 6,
    "start_time": "2023-05-12T21:14:34.543Z"
   },
   {
    "duration": 5,
    "start_time": "2023-05-12T21:15:36.628Z"
   },
   {
    "duration": 8,
    "start_time": "2023-05-12T21:16:00.512Z"
   },
   {
    "duration": 5,
    "start_time": "2023-05-12T21:16:20.254Z"
   },
   {
    "duration": 18,
    "start_time": "2023-05-12T21:16:46.716Z"
   },
   {
    "duration": 27,
    "start_time": "2023-05-12T21:19:08.438Z"
   },
   {
    "duration": 9,
    "start_time": "2023-05-12T21:19:13.796Z"
   },
   {
    "duration": 157,
    "start_time": "2023-05-12T21:19:14.017Z"
   },
   {
    "duration": 46,
    "start_time": "2023-05-12T21:19:14.213Z"
   },
   {
    "duration": 26,
    "start_time": "2023-05-12T21:19:14.395Z"
   },
   {
    "duration": 7,
    "start_time": "2023-05-12T21:19:14.599Z"
   },
   {
    "duration": 33,
    "start_time": "2023-05-12T21:19:14.793Z"
   },
   {
    "duration": 5,
    "start_time": "2023-05-12T21:19:16.215Z"
   },
   {
    "duration": 11,
    "start_time": "2023-05-12T21:19:16.811Z"
   },
   {
    "duration": 6,
    "start_time": "2023-05-12T21:19:17.399Z"
   },
   {
    "duration": 6,
    "start_time": "2023-05-12T21:19:18.050Z"
   },
   {
    "duration": 18,
    "start_time": "2023-05-12T21:19:18.286Z"
   },
   {
    "duration": 20,
    "start_time": "2023-05-12T21:19:18.457Z"
   },
   {
    "duration": 13,
    "start_time": "2023-05-12T21:19:19.314Z"
   },
   {
    "duration": 25,
    "start_time": "2023-05-12T21:19:19.718Z"
   },
   {
    "duration": 11,
    "start_time": "2023-05-12T21:19:20.117Z"
   },
   {
    "duration": 10,
    "start_time": "2023-05-12T21:19:20.612Z"
   },
   {
    "duration": 9,
    "start_time": "2023-05-12T21:19:20.898Z"
   },
   {
    "duration": 10,
    "start_time": "2023-05-12T21:19:21.120Z"
   },
   {
    "duration": 32,
    "start_time": "2023-05-12T21:19:22.343Z"
   },
   {
    "duration": 5,
    "start_time": "2023-05-12T21:19:22.732Z"
   },
   {
    "duration": 7,
    "start_time": "2023-05-12T21:19:22.993Z"
   },
   {
    "duration": 6,
    "start_time": "2023-05-12T21:19:23.232Z"
   },
   {
    "duration": 8,
    "start_time": "2023-05-12T21:19:23.485Z"
   },
   {
    "duration": 7,
    "start_time": "2023-05-12T21:19:23.720Z"
   },
   {
    "duration": 5,
    "start_time": "2023-05-12T21:19:24.947Z"
   },
   {
    "duration": 25,
    "start_time": "2023-05-12T21:19:25.615Z"
   },
   {
    "duration": 10,
    "start_time": "2023-05-12T21:19:26.889Z"
   },
   {
    "duration": 5,
    "start_time": "2023-05-12T21:23:54.950Z"
   },
   {
    "duration": 5,
    "start_time": "2023-05-12T21:23:55.748Z"
   },
   {
    "duration": 9,
    "start_time": "2023-05-12T21:25:15.005Z"
   },
   {
    "duration": 4,
    "start_time": "2023-05-12T21:25:37.946Z"
   },
   {
    "duration": 5,
    "start_time": "2023-05-12T21:27:08.799Z"
   },
   {
    "duration": 7,
    "start_time": "2023-05-12T21:28:08.099Z"
   },
   {
    "duration": 8,
    "start_time": "2023-05-12T21:28:12.499Z"
   },
   {
    "duration": 3,
    "start_time": "2023-05-12T21:28:17.904Z"
   },
   {
    "duration": 5,
    "start_time": "2023-05-12T21:28:24.001Z"
   },
   {
    "duration": 3,
    "start_time": "2023-05-12T21:28:34.341Z"
   },
   {
    "duration": 4,
    "start_time": "2023-05-12T21:28:43.187Z"
   },
   {
    "duration": 4,
    "start_time": "2023-05-12T21:28:46.913Z"
   },
   {
    "duration": 5,
    "start_time": "2023-05-12T21:28:52.835Z"
   },
   {
    "duration": 3,
    "start_time": "2023-05-12T21:28:55.900Z"
   },
   {
    "duration": 5,
    "start_time": "2023-05-12T21:28:59.149Z"
   },
   {
    "duration": 6,
    "start_time": "2023-05-12T21:29:20.523Z"
   },
   {
    "duration": 4,
    "start_time": "2023-05-12T21:31:14.695Z"
   },
   {
    "duration": 12,
    "start_time": "2023-05-12T21:31:53.156Z"
   },
   {
    "duration": 10,
    "start_time": "2023-05-12T21:32:16.543Z"
   },
   {
    "duration": 183,
    "start_time": "2023-05-12T21:37:36.206Z"
   },
   {
    "duration": 240,
    "start_time": "2023-05-12T21:37:47.240Z"
   },
   {
    "duration": 183,
    "start_time": "2023-05-12T21:38:56.312Z"
   },
   {
    "duration": 178,
    "start_time": "2023-05-12T21:39:36.911Z"
   },
   {
    "duration": 129,
    "start_time": "2023-05-12T21:39:47.214Z"
   },
   {
    "duration": 133,
    "start_time": "2023-05-12T21:40:10.816Z"
   },
   {
    "duration": 167,
    "start_time": "2023-05-12T21:40:29.710Z"
   },
   {
    "duration": 149,
    "start_time": "2023-05-12T21:40:36.400Z"
   },
   {
    "duration": 165,
    "start_time": "2023-05-12T21:41:15.328Z"
   },
   {
    "duration": 163,
    "start_time": "2023-05-12T21:41:36.323Z"
   },
   {
    "duration": 218,
    "start_time": "2023-05-12T21:41:41.036Z"
   },
   {
    "duration": 168,
    "start_time": "2023-05-12T21:41:47.986Z"
   },
   {
    "duration": 258,
    "start_time": "2023-05-12T21:41:58.785Z"
   },
   {
    "duration": 131,
    "start_time": "2023-05-12T21:43:06.712Z"
   },
   {
    "duration": 8,
    "start_time": "2023-05-12T21:46:18.587Z"
   },
   {
    "duration": 19,
    "start_time": "2023-05-12T21:46:41.056Z"
   },
   {
    "duration": 27,
    "start_time": "2023-05-12T21:47:02.185Z"
   },
   {
    "duration": 9,
    "start_time": "2023-05-12T21:50:11.486Z"
   },
   {
    "duration": 8,
    "start_time": "2023-05-12T21:50:39.388Z"
   },
   {
    "duration": 5,
    "start_time": "2023-05-12T21:50:52.508Z"
   },
   {
    "duration": 17,
    "start_time": "2023-05-12T21:51:07.515Z"
   },
   {
    "duration": 5,
    "start_time": "2023-05-12T21:51:15.299Z"
   },
   {
    "duration": 4,
    "start_time": "2023-05-12T22:00:24.796Z"
   },
   {
    "duration": 5,
    "start_time": "2023-05-12T22:01:25.182Z"
   },
   {
    "duration": 8,
    "start_time": "2023-05-12T22:01:41.419Z"
   },
   {
    "duration": 6,
    "start_time": "2023-05-12T22:02:41.096Z"
   },
   {
    "duration": 3,
    "start_time": "2023-05-12T22:04:31.197Z"
   },
   {
    "duration": 6,
    "start_time": "2023-05-12T22:04:55.128Z"
   },
   {
    "duration": 19,
    "start_time": "2023-05-12T22:05:04.080Z"
   },
   {
    "duration": 9,
    "start_time": "2023-05-12T22:11:21.367Z"
   },
   {
    "duration": 1143,
    "start_time": "2023-05-12T22:12:58.190Z"
   },
   {
    "duration": 3,
    "start_time": "2023-05-12T22:13:05.994Z"
   },
   {
    "duration": 6,
    "start_time": "2023-05-12T22:13:06.540Z"
   },
   {
    "duration": 1265,
    "start_time": "2023-05-12T22:13:07.590Z"
   },
   {
    "duration": 21,
    "start_time": "2023-05-12T22:13:23.320Z"
   },
   {
    "duration": 6,
    "start_time": "2023-05-12T22:13:42.265Z"
   },
   {
    "duration": 9,
    "start_time": "2023-05-12T22:20:27.287Z"
   },
   {
    "duration": 7,
    "start_time": "2023-05-12T22:20:37.334Z"
   },
   {
    "duration": 4,
    "start_time": "2023-05-12T22:20:53.377Z"
   },
   {
    "duration": 20,
    "start_time": "2023-05-12T22:21:14.134Z"
   },
   {
    "duration": 25,
    "start_time": "2023-05-12T22:21:22.188Z"
   },
   {
    "duration": 37,
    "start_time": "2023-05-12T22:21:33.054Z"
   },
   {
    "duration": 25,
    "start_time": "2023-05-12T22:22:24.818Z"
   },
   {
    "duration": 25,
    "start_time": "2023-05-12T22:23:26.822Z"
   },
   {
    "duration": 15,
    "start_time": "2023-05-12T22:23:35.516Z"
   },
   {
    "duration": 10,
    "start_time": "2023-05-12T22:24:34.792Z"
   },
   {
    "duration": 13,
    "start_time": "2023-05-12T22:24:53.008Z"
   },
   {
    "duration": 5,
    "start_time": "2023-05-12T22:25:04.636Z"
   },
   {
    "duration": 4,
    "start_time": "2023-05-12T22:33:28.484Z"
   },
   {
    "duration": 5,
    "start_time": "2023-05-12T22:34:07.894Z"
   },
   {
    "duration": 4,
    "start_time": "2023-05-12T22:34:18.625Z"
   },
   {
    "duration": 8,
    "start_time": "2023-05-12T22:34:33.554Z"
   },
   {
    "duration": 7,
    "start_time": "2023-05-12T22:37:10.102Z"
   },
   {
    "duration": 12,
    "start_time": "2023-05-12T22:37:15.711Z"
   },
   {
    "duration": 3,
    "start_time": "2023-05-12T22:38:12.026Z"
   },
   {
    "duration": 14,
    "start_time": "2023-05-12T22:40:08.612Z"
   },
   {
    "duration": 1250,
    "start_time": "2023-05-12T22:41:43.302Z"
   },
   {
    "duration": 18,
    "start_time": "2023-05-12T22:42:23.018Z"
   },
   {
    "duration": 1322,
    "start_time": "2023-05-12T22:42:38.168Z"
   },
   {
    "duration": 22,
    "start_time": "2023-05-12T22:46:31.087Z"
   },
   {
    "duration": 20,
    "start_time": "2023-05-12T22:46:50.400Z"
   },
   {
    "duration": 13,
    "start_time": "2023-05-12T22:47:22.694Z"
   },
   {
    "duration": 128,
    "start_time": "2023-05-12T22:47:36.369Z"
   },
   {
    "duration": 136,
    "start_time": "2023-05-12T22:47:52.566Z"
   },
   {
    "duration": 147,
    "start_time": "2023-05-12T22:48:48.608Z"
   },
   {
    "duration": 15,
    "start_time": "2023-05-12T22:50:46.354Z"
   },
   {
    "duration": 20,
    "start_time": "2023-05-12T22:50:50.123Z"
   },
   {
    "duration": 6,
    "start_time": "2023-05-12T22:51:15.300Z"
   },
   {
    "duration": 5,
    "start_time": "2023-05-12T22:52:38.183Z"
   },
   {
    "duration": 8,
    "start_time": "2023-05-12T22:52:44.936Z"
   },
   {
    "duration": 8,
    "start_time": "2023-05-12T22:52:56.797Z"
   },
   {
    "duration": 7,
    "start_time": "2023-05-12T22:54:20.273Z"
   },
   {
    "duration": 14,
    "start_time": "2023-05-12T22:54:26.859Z"
   },
   {
    "duration": 8,
    "start_time": "2023-05-12T22:54:49.775Z"
   },
   {
    "duration": 12,
    "start_time": "2023-05-12T22:55:06.461Z"
   },
   {
    "duration": 132,
    "start_time": "2023-05-12T22:55:25.102Z"
   },
   {
    "duration": 135,
    "start_time": "2023-05-12T22:55:39.695Z"
   },
   {
    "duration": 169,
    "start_time": "2023-05-12T22:55:44.758Z"
   },
   {
    "duration": 134,
    "start_time": "2023-05-12T22:55:54.555Z"
   },
   {
    "duration": 132,
    "start_time": "2023-05-12T22:56:01.017Z"
   },
   {
    "duration": 9,
    "start_time": "2023-05-12T22:56:18.100Z"
   },
   {
    "duration": 130,
    "start_time": "2023-05-12T22:56:30.590Z"
   },
   {
    "duration": 218,
    "start_time": "2023-05-12T22:56:41.813Z"
   },
   {
    "duration": 122,
    "start_time": "2023-05-12T22:57:19.823Z"
   },
   {
    "duration": 112,
    "start_time": "2023-05-12T22:57:35.777Z"
   },
   {
    "duration": 10,
    "start_time": "2023-05-12T22:58:06.318Z"
   },
   {
    "duration": 111,
    "start_time": "2023-05-12T22:58:10.039Z"
   },
   {
    "duration": 4,
    "start_time": "2023-05-12T23:00:11.002Z"
   },
   {
    "duration": 12,
    "start_time": "2023-05-12T23:00:17.426Z"
   },
   {
    "duration": 139,
    "start_time": "2023-05-12T23:00:21.699Z"
   },
   {
    "duration": 130,
    "start_time": "2023-05-12T23:00:59.201Z"
   },
   {
    "duration": 13,
    "start_time": "2023-05-12T23:01:44.898Z"
   },
   {
    "duration": 15,
    "start_time": "2023-05-12T23:17:55.526Z"
   },
   {
    "duration": 18,
    "start_time": "2023-05-12T23:18:33.781Z"
   },
   {
    "duration": 19,
    "start_time": "2023-05-12T23:18:48.127Z"
   },
   {
    "duration": 22,
    "start_time": "2023-05-12T23:19:11.815Z"
   },
   {
    "duration": 21,
    "start_time": "2023-05-12T23:19:25.372Z"
   },
   {
    "duration": 28,
    "start_time": "2023-05-12T23:19:43.794Z"
   },
   {
    "duration": 21,
    "start_time": "2023-05-12T23:19:49.515Z"
   },
   {
    "duration": 18,
    "start_time": "2023-05-12T23:21:04.611Z"
   },
   {
    "duration": 119,
    "start_time": "2023-05-12T23:21:17.231Z"
   },
   {
    "duration": 9,
    "start_time": "2023-05-12T23:22:55.271Z"
   },
   {
    "duration": 12,
    "start_time": "2023-05-12T23:23:16.009Z"
   },
   {
    "duration": 13,
    "start_time": "2023-05-12T23:23:42.486Z"
   },
   {
    "duration": 12,
    "start_time": "2023-05-12T23:27:38.738Z"
   },
   {
    "duration": 16,
    "start_time": "2023-05-12T23:27:45.803Z"
   },
   {
    "duration": 154,
    "start_time": "2023-05-12T23:27:56.044Z"
   },
   {
    "duration": 141,
    "start_time": "2023-05-12T23:28:00.200Z"
   },
   {
    "duration": 120,
    "start_time": "2023-05-12T23:28:12.174Z"
   },
   {
    "duration": 189,
    "start_time": "2023-05-12T23:28:31.642Z"
   },
   {
    "duration": 6,
    "start_time": "2023-05-12T23:31:36.288Z"
   },
   {
    "duration": 4,
    "start_time": "2023-05-12T23:32:23.368Z"
   },
   {
    "duration": 9,
    "start_time": "2023-05-12T23:32:24.631Z"
   },
   {
    "duration": 38,
    "start_time": "2023-05-12T23:32:33.230Z"
   },
   {
    "duration": 6,
    "start_time": "2023-05-12T23:32:42.512Z"
   },
   {
    "duration": 6,
    "start_time": "2023-05-12T23:32:45.087Z"
   },
   {
    "duration": 15,
    "start_time": "2023-05-12T23:32:53.112Z"
   },
   {
    "duration": 144,
    "start_time": "2023-05-12T23:33:00.056Z"
   },
   {
    "duration": 9,
    "start_time": "2023-05-12T23:33:50.335Z"
   },
   {
    "duration": 13,
    "start_time": "2023-05-12T23:34:33.691Z"
   },
   {
    "duration": 152,
    "start_time": "2023-05-12T23:36:29.324Z"
   },
   {
    "duration": 7,
    "start_time": "2023-05-12T23:39:56.384Z"
   },
   {
    "duration": 102,
    "start_time": "2023-05-12T23:40:46.887Z"
   },
   {
    "duration": 134,
    "start_time": "2023-05-12T23:41:24.224Z"
   },
   {
    "duration": 7,
    "start_time": "2023-05-12T23:43:01.757Z"
   },
   {
    "duration": 140,
    "start_time": "2023-05-12T23:43:08.326Z"
   },
   {
    "duration": 10,
    "start_time": "2023-05-12T23:44:22.934Z"
   },
   {
    "duration": 305,
    "start_time": "2023-05-12T23:44:36.243Z"
   },
   {
    "duration": 3,
    "start_time": "2023-05-12T23:45:32.010Z"
   },
   {
    "duration": 3,
    "start_time": "2023-05-12T23:45:52.446Z"
   },
   {
    "duration": 8,
    "start_time": "2023-05-12T23:46:06.548Z"
   },
   {
    "duration": 8,
    "start_time": "2023-05-12T23:46:31.735Z"
   },
   {
    "duration": 15,
    "start_time": "2023-05-12T23:47:27.974Z"
   },
   {
    "duration": 16,
    "start_time": "2023-05-12T23:47:35.461Z"
   },
   {
    "duration": 136,
    "start_time": "2023-05-12T23:47:50.815Z"
   },
   {
    "duration": 234,
    "start_time": "2023-05-12T23:48:08.690Z"
   },
   {
    "duration": 154,
    "start_time": "2023-05-12T23:48:16.122Z"
   },
   {
    "duration": 135,
    "start_time": "2023-05-12T23:48:47.264Z"
   },
   {
    "duration": 136,
    "start_time": "2023-05-12T23:48:59.518Z"
   },
   {
    "duration": 12,
    "start_time": "2023-05-12T23:49:06.902Z"
   },
   {
    "duration": 20,
    "start_time": "2023-05-12T23:49:13.477Z"
   },
   {
    "duration": 132,
    "start_time": "2023-05-12T23:49:22.582Z"
   },
   {
    "duration": 17,
    "start_time": "2023-05-12T23:50:00.402Z"
   },
   {
    "duration": 154,
    "start_time": "2023-05-12T23:50:04.657Z"
   },
   {
    "duration": 147,
    "start_time": "2023-05-12T23:50:25.918Z"
   },
   {
    "duration": 856,
    "start_time": "2023-05-13T08:34:11.594Z"
   },
   {
    "duration": 239,
    "start_time": "2023-05-13T08:34:12.453Z"
   },
   {
    "duration": 102,
    "start_time": "2023-05-13T08:34:12.693Z"
   },
   {
    "duration": 17,
    "start_time": "2023-05-13T08:34:12.797Z"
   },
   {
    "duration": 7,
    "start_time": "2023-05-13T08:34:12.816Z"
   },
   {
    "duration": 31,
    "start_time": "2023-05-13T08:34:13.042Z"
   },
   {
    "duration": 7,
    "start_time": "2023-05-13T08:34:14.092Z"
   },
   {
    "duration": 7,
    "start_time": "2023-05-13T08:34:14.261Z"
   },
   {
    "duration": 4,
    "start_time": "2023-05-13T08:34:14.434Z"
   },
   {
    "duration": 7,
    "start_time": "2023-05-13T08:34:14.614Z"
   },
   {
    "duration": 4,
    "start_time": "2023-05-13T08:34:14.810Z"
   },
   {
    "duration": 11,
    "start_time": "2023-05-13T08:34:14.987Z"
   },
   {
    "duration": 14,
    "start_time": "2023-05-13T08:34:15.782Z"
   },
   {
    "duration": 25,
    "start_time": "2023-05-13T08:34:16.003Z"
   },
   {
    "duration": 11,
    "start_time": "2023-05-13T08:34:16.195Z"
   },
   {
    "duration": 13,
    "start_time": "2023-05-13T08:34:16.404Z"
   },
   {
    "duration": 7,
    "start_time": "2023-05-13T08:34:16.596Z"
   },
   {
    "duration": 10,
    "start_time": "2023-05-13T08:34:16.791Z"
   },
   {
    "duration": 30,
    "start_time": "2023-05-13T08:34:17.364Z"
   },
   {
    "duration": 5,
    "start_time": "2023-05-13T08:34:17.543Z"
   },
   {
    "duration": 7,
    "start_time": "2023-05-13T08:34:17.732Z"
   },
   {
    "duration": 6,
    "start_time": "2023-05-13T08:34:17.917Z"
   },
   {
    "duration": 5,
    "start_time": "2023-05-13T08:34:18.086Z"
   },
   {
    "duration": 7,
    "start_time": "2023-05-13T08:34:18.255Z"
   },
   {
    "duration": 6,
    "start_time": "2023-05-13T08:34:18.842Z"
   },
   {
    "duration": 6,
    "start_time": "2023-05-13T08:34:19.086Z"
   },
   {
    "duration": 5,
    "start_time": "2023-05-13T08:34:19.287Z"
   },
   {
    "duration": 166,
    "start_time": "2023-05-13T08:34:19.826Z"
   },
   {
    "duration": 186,
    "start_time": "2023-05-13T08:34:20.040Z"
   },
   {
    "duration": 157,
    "start_time": "2023-05-13T08:34:20.228Z"
   },
   {
    "duration": 6,
    "start_time": "2023-05-13T08:34:20.413Z"
   },
   {
    "duration": 9,
    "start_time": "2023-05-13T08:34:20.605Z"
   },
   {
    "duration": 6,
    "start_time": "2023-05-13T08:34:21.425Z"
   },
   {
    "duration": 3,
    "start_time": "2023-05-13T08:34:21.873Z"
   },
   {
    "duration": 7,
    "start_time": "2023-05-13T08:34:22.098Z"
   },
   {
    "duration": 9,
    "start_time": "2023-05-13T08:34:22.286Z"
   },
   {
    "duration": 8,
    "start_time": "2023-05-13T08:34:22.691Z"
   },
   {
    "duration": 4,
    "start_time": "2023-05-13T08:34:23.526Z"
   },
   {
    "duration": 18,
    "start_time": "2023-05-13T08:34:23.730Z"
   },
   {
    "duration": 149,
    "start_time": "2023-05-13T08:34:23.935Z"
   },
   {
    "duration": 11,
    "start_time": "2023-05-13T08:34:24.134Z"
   },
   {
    "duration": 178,
    "start_time": "2023-05-13T08:34:24.361Z"
   },
   {
    "duration": 16,
    "start_time": "2023-05-13T08:34:24.982Z"
   },
   {
    "duration": 130,
    "start_time": "2023-05-13T08:34:25.181Z"
   },
   {
    "duration": 12,
    "start_time": "2023-05-13T08:34:25.398Z"
   },
   {
    "duration": 14,
    "start_time": "2023-05-13T08:34:25.842Z"
   },
   {
    "duration": 14,
    "start_time": "2023-05-13T08:34:26.049Z"
   },
   {
    "duration": 3,
    "start_time": "2023-05-13T08:34:26.479Z"
   },
   {
    "duration": 7,
    "start_time": "2023-05-13T08:34:26.689Z"
   },
   {
    "duration": 18,
    "start_time": "2023-05-13T08:34:26.898Z"
   },
   {
    "duration": 186,
    "start_time": "2023-05-13T08:34:27.137Z"
   },
   {
    "duration": 18,
    "start_time": "2023-05-13T08:34:27.357Z"
   },
   {
    "duration": 299,
    "start_time": "2023-05-13T08:34:27.590Z"
   },
   {
    "duration": 5,
    "start_time": "2023-05-13T08:36:12.800Z"
   },
   {
    "duration": 30,
    "start_time": "2023-05-13T08:40:08.160Z"
   },
   {
    "duration": 30,
    "start_time": "2023-05-13T08:41:00.858Z"
   },
   {
    "duration": 31,
    "start_time": "2023-05-13T08:41:09.280Z"
   },
   {
    "duration": 28,
    "start_time": "2023-05-13T08:41:20.850Z"
   },
   {
    "duration": 54,
    "start_time": "2023-05-13T08:42:42.751Z"
   },
   {
    "duration": 46,
    "start_time": "2023-05-13T08:44:23.978Z"
   },
   {
    "duration": 41,
    "start_time": "2023-05-13T08:44:33.049Z"
   },
   {
    "duration": 30,
    "start_time": "2023-05-13T08:45:30.193Z"
   },
   {
    "duration": 53,
    "start_time": "2023-05-13T08:45:44.103Z"
   },
   {
    "duration": 52,
    "start_time": "2023-05-13T08:46:12.647Z"
   },
   {
    "duration": 33,
    "start_time": "2023-05-13T08:50:50.274Z"
   },
   {
    "duration": 53,
    "start_time": "2023-05-13T08:51:07.304Z"
   },
   {
    "duration": 30,
    "start_time": "2023-05-13T08:51:14.940Z"
   },
   {
    "duration": 5,
    "start_time": "2023-05-13T08:53:00.464Z"
   },
   {
    "duration": 7,
    "start_time": "2023-05-13T08:54:29.361Z"
   },
   {
    "duration": 5,
    "start_time": "2023-05-13T08:54:37.202Z"
   },
   {
    "duration": 4,
    "start_time": "2023-05-13T08:57:32.531Z"
   },
   {
    "duration": 40,
    "start_time": "2023-05-13T08:57:45.313Z"
   },
   {
    "duration": 40,
    "start_time": "2023-05-13T09:01:17.117Z"
   },
   {
    "duration": 908,
    "start_time": "2023-05-13T09:02:26.014Z"
   },
   {
    "duration": 712,
    "start_time": "2023-05-13T09:02:49.448Z"
   },
   {
    "duration": 123,
    "start_time": "2023-05-13T09:03:08.123Z"
   },
   {
    "duration": 8,
    "start_time": "2023-05-13T09:03:45.884Z"
   },
   {
    "duration": 131,
    "start_time": "2023-05-13T09:05:20.636Z"
   },
   {
    "duration": 131,
    "start_time": "2023-05-13T09:05:35.269Z"
   },
   {
    "duration": 10,
    "start_time": "2023-05-13T09:08:43.442Z"
   },
   {
    "duration": 159,
    "start_time": "2023-05-13T09:09:10.190Z"
   },
   {
    "duration": 25,
    "start_time": "2023-05-13T09:09:44.372Z"
   },
   {
    "duration": 22,
    "start_time": "2023-05-13T09:14:03.370Z"
   },
   {
    "duration": 23,
    "start_time": "2023-05-13T09:14:38.627Z"
   },
   {
    "duration": 17,
    "start_time": "2023-05-13T09:15:38.125Z"
   },
   {
    "duration": 57,
    "start_time": "2023-05-13T09:18:15.752Z"
   },
   {
    "duration": 48,
    "start_time": "2023-05-13T09:18:54.260Z"
   },
   {
    "duration": 15,
    "start_time": "2023-05-13T09:19:02.542Z"
   },
   {
    "duration": 45,
    "start_time": "2023-05-13T09:21:25.669Z"
   },
   {
    "duration": 61,
    "start_time": "2023-05-13T09:21:38.997Z"
   },
   {
    "duration": 11,
    "start_time": "2023-05-13T09:21:45.067Z"
   },
   {
    "duration": 18,
    "start_time": "2023-05-13T09:21:54.950Z"
   },
   {
    "duration": 131,
    "start_time": "2023-05-13T09:22:53.418Z"
   },
   {
    "duration": 126,
    "start_time": "2023-05-13T09:23:03.500Z"
   },
   {
    "duration": 8,
    "start_time": "2023-05-13T09:23:32.785Z"
   },
   {
    "duration": 21,
    "start_time": "2023-05-13T09:26:35.778Z"
   },
   {
    "duration": 21,
    "start_time": "2023-05-13T09:26:43.990Z"
   },
   {
    "duration": 20,
    "start_time": "2023-05-13T09:28:39.345Z"
   },
   {
    "duration": 22,
    "start_time": "2023-05-13T09:34:52.223Z"
   },
   {
    "duration": 193,
    "start_time": "2023-05-13T09:35:14.264Z"
   },
   {
    "duration": 232,
    "start_time": "2023-05-13T09:36:45.836Z"
   },
   {
    "duration": 134,
    "start_time": "2023-05-13T09:37:00.060Z"
   },
   {
    "duration": 158,
    "start_time": "2023-05-13T09:37:29.020Z"
   },
   {
    "duration": 141,
    "start_time": "2023-05-13T09:37:33.396Z"
   },
   {
    "duration": 148,
    "start_time": "2023-05-13T09:37:38.460Z"
   },
   {
    "duration": 190,
    "start_time": "2023-05-13T09:40:36.633Z"
   },
   {
    "duration": 175,
    "start_time": "2023-05-13T09:40:51.252Z"
   },
   {
    "duration": 149,
    "start_time": "2023-05-13T09:40:57.481Z"
   },
   {
    "duration": 133,
    "start_time": "2023-05-13T09:41:06.256Z"
   },
   {
    "duration": 157,
    "start_time": "2023-05-13T09:41:25.232Z"
   },
   {
    "duration": 122,
    "start_time": "2023-05-13T09:41:28.072Z"
   },
   {
    "duration": 9,
    "start_time": "2023-05-13T09:41:33.896Z"
   },
   {
    "duration": 9,
    "start_time": "2023-05-13T09:43:14.162Z"
   },
   {
    "duration": 17,
    "start_time": "2023-05-13T09:54:35.881Z"
   },
   {
    "duration": 17,
    "start_time": "2023-05-13T09:54:46.064Z"
   },
   {
    "duration": 166,
    "start_time": "2023-05-13T09:56:02.748Z"
   },
   {
    "duration": 46,
    "start_time": "2023-05-13T10:01:54.050Z"
   },
   {
    "duration": 143,
    "start_time": "2023-05-13T10:03:20.273Z"
   },
   {
    "duration": 150,
    "start_time": "2023-05-13T10:03:49.708Z"
   },
   {
    "duration": 234,
    "start_time": "2023-05-13T10:04:02.744Z"
   },
   {
    "duration": 14,
    "start_time": "2023-05-13T10:05:53.331Z"
   },
   {
    "duration": 148,
    "start_time": "2023-05-13T10:05:57.099Z"
   },
   {
    "duration": 6,
    "start_time": "2023-05-13T10:30:37.178Z"
   },
   {
    "duration": 614,
    "start_time": "2023-05-13T10:33:30.802Z"
   },
   {
    "duration": 118,
    "start_time": "2023-05-13T10:34:09.910Z"
   },
   {
    "duration": 17,
    "start_time": "2023-05-13T10:34:30.989Z"
   },
   {
    "duration": 3,
    "start_time": "2023-05-13T10:34:40.787Z"
   },
   {
    "duration": 118,
    "start_time": "2023-05-13T10:34:41.026Z"
   },
   {
    "duration": 46,
    "start_time": "2023-05-13T10:34:41.405Z"
   },
   {
    "duration": 14,
    "start_time": "2023-05-13T10:34:41.804Z"
   },
   {
    "duration": 11,
    "start_time": "2023-05-13T10:34:42.425Z"
   },
   {
    "duration": 796,
    "start_time": "2023-05-13T10:34:43.122Z"
   },
   {
    "duration": 55,
    "start_time": "2023-05-14T10:39:06.319Z"
   },
   {
    "duration": 918,
    "start_time": "2023-05-14T10:43:44.349Z"
   },
   {
    "duration": 271,
    "start_time": "2023-05-14T10:43:45.271Z"
   },
   {
    "duration": 118,
    "start_time": "2023-05-14T10:43:45.743Z"
   },
   {
    "duration": 20,
    "start_time": "2023-05-14T10:43:53.973Z"
   },
   {
    "duration": 6,
    "start_time": "2023-05-14T10:43:55.348Z"
   },
   {
    "duration": 847,
    "start_time": "2023-05-14T10:43:56.443Z"
   },
   {
    "duration": 15,
    "start_time": "2023-05-14T10:43:58.608Z"
   },
   {
    "duration": 8,
    "start_time": "2023-05-14T10:45:39.708Z"
   },
   {
    "duration": 11,
    "start_time": "2023-05-14T10:45:40.259Z"
   },
   {
    "duration": 5,
    "start_time": "2023-05-14T10:45:41.564Z"
   },
   {
    "duration": 8,
    "start_time": "2023-05-14T10:45:42.681Z"
   },
   {
    "duration": 6,
    "start_time": "2023-05-14T10:45:43.878Z"
   },
   {
    "duration": 16,
    "start_time": "2023-05-14T10:45:44.684Z"
   },
   {
    "duration": 14,
    "start_time": "2023-05-14T10:45:51.805Z"
   },
   {
    "duration": 24,
    "start_time": "2023-05-14T10:45:57.750Z"
   },
   {
    "duration": 12,
    "start_time": "2023-05-14T10:45:59.583Z"
   },
   {
    "duration": 12,
    "start_time": "2023-05-14T10:46:00.421Z"
   },
   {
    "duration": 10,
    "start_time": "2023-05-14T10:46:07.993Z"
   },
   {
    "duration": 10,
    "start_time": "2023-05-14T10:46:18.184Z"
   },
   {
    "duration": 26,
    "start_time": "2023-05-14T10:46:30.996Z"
   },
   {
    "duration": 6,
    "start_time": "2023-05-14T10:46:42.453Z"
   },
   {
    "duration": 5,
    "start_time": "2023-05-14T10:46:42.665Z"
   },
   {
    "duration": 8,
    "start_time": "2023-05-14T10:46:43.525Z"
   },
   {
    "duration": 5,
    "start_time": "2023-05-14T10:46:43.882Z"
   },
   {
    "duration": 5,
    "start_time": "2023-05-14T10:46:44.280Z"
   },
   {
    "duration": 6,
    "start_time": "2023-05-14T10:47:22.956Z"
   },
   {
    "duration": 11,
    "start_time": "2023-05-14T10:54:16.000Z"
   },
   {
    "duration": 11,
    "start_time": "2023-05-14T10:56:14.203Z"
   },
   {
    "duration": 12,
    "start_time": "2023-05-14T10:56:31.543Z"
   },
   {
    "duration": 51,
    "start_time": "2023-05-14T10:57:42.988Z"
   },
   {
    "duration": 11,
    "start_time": "2023-05-14T11:00:57.541Z"
   },
   {
    "duration": 23,
    "start_time": "2023-05-14T11:01:48.455Z"
   },
   {
    "duration": 12,
    "start_time": "2023-05-14T11:02:24.201Z"
   },
   {
    "duration": 16,
    "start_time": "2023-05-14T11:05:40.820Z"
   },
   {
    "duration": 11,
    "start_time": "2023-05-14T11:05:50.088Z"
   },
   {
    "duration": 13,
    "start_time": "2023-05-14T11:06:03.457Z"
   },
   {
    "duration": 6,
    "start_time": "2023-05-14T11:06:25.984Z"
   },
   {
    "duration": 6,
    "start_time": "2023-05-14T11:10:56.944Z"
   },
   {
    "duration": 7,
    "start_time": "2023-05-14T11:10:57.357Z"
   },
   {
    "duration": 5,
    "start_time": "2023-05-14T11:10:58.244Z"
   },
   {
    "duration": 169,
    "start_time": "2023-05-14T11:11:18.883Z"
   },
   {
    "duration": 271,
    "start_time": "2023-05-14T11:11:31.779Z"
   },
   {
    "duration": 162,
    "start_time": "2023-05-14T11:11:44.214Z"
   },
   {
    "duration": 162,
    "start_time": "2023-05-14T11:13:17.440Z"
   },
   {
    "duration": 58,
    "start_time": "2023-05-14T11:14:14.099Z"
   },
   {
    "duration": 164,
    "start_time": "2023-05-14T11:14:17.291Z"
   },
   {
    "duration": 175,
    "start_time": "2023-05-14T11:14:46.693Z"
   },
   {
    "duration": 211,
    "start_time": "2023-05-14T11:15:21.580Z"
   },
   {
    "duration": 208,
    "start_time": "2023-05-14T11:15:28.295Z"
   },
   {
    "duration": 164,
    "start_time": "2023-05-14T11:15:32.189Z"
   },
   {
    "duration": 188,
    "start_time": "2023-05-14T11:16:25.170Z"
   },
   {
    "duration": 9,
    "start_time": "2023-05-14T11:21:31.638Z"
   },
   {
    "duration": 4,
    "start_time": "2023-05-14T11:21:35.756Z"
   },
   {
    "duration": 11,
    "start_time": "2023-05-14T11:21:36.433Z"
   },
   {
    "duration": 8,
    "start_time": "2023-05-14T11:21:37.143Z"
   },
   {
    "duration": 7,
    "start_time": "2023-05-14T11:21:40.955Z"
   },
   {
    "duration": 4,
    "start_time": "2023-05-14T11:22:09.987Z"
   },
   {
    "duration": 146,
    "start_time": "2023-05-14T11:22:10.206Z"
   },
   {
    "duration": 49,
    "start_time": "2023-05-14T11:22:10.590Z"
   },
   {
    "duration": 16,
    "start_time": "2023-05-14T11:22:10.950Z"
   },
   {
    "duration": 7,
    "start_time": "2023-05-14T11:22:11.135Z"
   },
   {
    "duration": 913,
    "start_time": "2023-05-14T11:22:11.333Z"
   },
   {
    "duration": 27,
    "start_time": "2023-05-14T11:22:12.248Z"
   },
   {
    "duration": 6,
    "start_time": "2023-05-14T11:22:13.602Z"
   },
   {
    "duration": 7,
    "start_time": "2023-05-14T11:22:13.829Z"
   },
   {
    "duration": 3,
    "start_time": "2023-05-14T11:22:14.194Z"
   },
   {
    "duration": 8,
    "start_time": "2023-05-14T11:22:14.385Z"
   },
   {
    "duration": 7,
    "start_time": "2023-05-14T11:22:14.539Z"
   },
   {
    "duration": 12,
    "start_time": "2023-05-14T11:22:14.734Z"
   },
   {
    "duration": 11,
    "start_time": "2023-05-14T11:22:15.543Z"
   },
   {
    "duration": 28,
    "start_time": "2023-05-14T11:22:15.995Z"
   },
   {
    "duration": 17,
    "start_time": "2023-05-14T11:22:16.258Z"
   },
   {
    "duration": 14,
    "start_time": "2023-05-14T11:22:16.476Z"
   },
   {
    "duration": 8,
    "start_time": "2023-05-14T11:22:17.049Z"
   },
   {
    "duration": 11,
    "start_time": "2023-05-14T11:22:17.548Z"
   },
   {
    "duration": 26,
    "start_time": "2023-05-14T11:22:18.636Z"
   },
   {
    "duration": 5,
    "start_time": "2023-05-14T11:22:19.002Z"
   },
   {
    "duration": 6,
    "start_time": "2023-05-14T11:22:19.245Z"
   },
   {
    "duration": 6,
    "start_time": "2023-05-14T11:22:19.414Z"
   },
   {
    "duration": 6,
    "start_time": "2023-05-14T11:22:19.586Z"
   },
   {
    "duration": 6,
    "start_time": "2023-05-14T11:22:19.814Z"
   },
   {
    "duration": 14,
    "start_time": "2023-05-14T11:22:20.339Z"
   },
   {
    "duration": 7,
    "start_time": "2023-05-14T11:22:20.633Z"
   },
   {
    "duration": 6,
    "start_time": "2023-05-14T11:22:21.537Z"
   },
   {
    "duration": 6,
    "start_time": "2023-05-14T11:22:21.753Z"
   },
   {
    "duration": 6,
    "start_time": "2023-05-14T11:22:21.963Z"
   },
   {
    "duration": 181,
    "start_time": "2023-05-14T11:22:22.814Z"
   },
   {
    "duration": 193,
    "start_time": "2023-05-14T11:22:23.038Z"
   },
   {
    "duration": 160,
    "start_time": "2023-05-14T11:22:23.237Z"
   },
   {
    "duration": 7,
    "start_time": "2023-05-14T11:22:23.896Z"
   },
   {
    "duration": 10,
    "start_time": "2023-05-14T11:22:24.495Z"
   },
   {
    "duration": 9,
    "start_time": "2023-05-14T11:22:27.042Z"
   },
   {
    "duration": 3,
    "start_time": "2023-05-14T11:22:27.743Z"
   },
   {
    "duration": 9,
    "start_time": "2023-05-14T11:22:27.950Z"
   },
   {
    "duration": 8,
    "start_time": "2023-05-14T11:22:28.186Z"
   },
   {
    "duration": 6,
    "start_time": "2023-05-14T11:22:28.641Z"
   },
   {
    "duration": 8,
    "start_time": "2023-05-14T11:29:50.034Z"
   },
   {
    "duration": 5,
    "start_time": "2023-05-14T11:29:55.542Z"
   },
   {
    "duration": 23,
    "start_time": "2023-05-14T11:29:56.163Z"
   },
   {
    "duration": 164,
    "start_time": "2023-05-14T11:29:57.983Z"
   },
   {
    "duration": 156,
    "start_time": "2023-05-14T11:30:03.786Z"
   }
  ],
  "colab": {
   "name": "DA+. Сборный проект 1. Шаблон (1).ipynb",
   "provenance": []
  },
  "kernelspec": {
   "display_name": "Python 3 (ipykernel)",
   "language": "python",
   "name": "python3"
  },
  "language_info": {
   "codemirror_mode": {
    "name": "ipython",
    "version": 3
   },
   "file_extension": ".py",
   "mimetype": "text/x-python",
   "name": "python",
   "nbconvert_exporter": "python",
   "pygments_lexer": "ipython3",
   "version": "3.10.9"
  },
  "toc": {
   "base_numbering": 1,
   "nav_menu": {},
   "number_sections": true,
   "sideBar": true,
   "skip_h1_title": true,
   "title_cell": "Table of Contents",
   "title_sidebar": "Contents",
   "toc_cell": false,
   "toc_position": {
    "height": "calc(100% - 180px)",
    "left": "10px",
    "top": "150px",
    "width": "375.391px"
   },
   "toc_section_display": true,
   "toc_window_display": false
  }
 },
 "nbformat": 4,
 "nbformat_minor": 1
}
